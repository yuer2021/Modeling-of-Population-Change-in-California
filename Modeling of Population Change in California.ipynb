{
  "cells": [
    {
      "cell_type": "markdown",
      "metadata": {
        "id": "U5JUMgc_gbHp"
      },
      "source": [
        "# CS145: Project 3 | Analysis of factors affecting California population change and prediction of future trends"
      ]
    },
    {
      "cell_type": "markdown",
      "metadata": {
        "id": "EHDiv4GrhofN"
      },
      "source": [
        "## Collaborators:\n",
        "Please list the names and SUNet IDs of your collaborators below:\n",
        "* *Heyaojing Huang, hhyj4495*\n",
        "* *Yuer Zhou, zye98*"
      ]
    },
    {
      "cell_type": "code",
      "execution_count": null,
      "metadata": {
        "vscode": {
          "languageId": "python"
        }
      },
      "outputs": [],
      "source": []
    },
    {
      "cell_type": "markdown",
      "metadata": {
        "id": "gMNQWFvSgepX"
      },
      "source": [
        "## Project Overview"
      ]
    },
    {
      "cell_type": "markdown",
      "metadata": {
        "id": "lX1Jkglwg1SI"
      },
      "source": [
        "---\n",
        "\n",
        "California is the most populated U.S. state, with an estimated population of 39.512 million as of July 1, 2019[1]. However, from 2010 to now, California is experiencing its slowest population growth rates. It is the consequence of fewer births, more deaths, a slowing of international migration, and—capturing a great deal of attention—a large migration out of California to other states[2].\n",
        "\n",
        "In this context, we began to consider from 2010 to 2018, what factors affect migration and population change in California? For all the counties in California, how do their population change trends differ? In this project, we will consider the impact of income, age, educational attainment and race on population change. Moreover, based on existing data, we will make predictions on population change trends in the next year.\n",
        "\n",
        "reference:\n",
        "\n",
        "*   [1]https://en.wikipedia.org/wiki/Demographics_of_California\n",
        "*   [2]https://www.ppic.org/blog/whos-leaving-california-and-whos-moving-in/\n",
        "\n",
        "To approach these questiosn, we will first tackle the following supplementary questions in order to understand the overall trends of California's population change and determine the best way to predict future trends:\n",
        "\n",
        "1.   How does the total population in California change from 2010-2018? What is the population growth rate in every year?\n",
        "2.   From 2010-2018, which counties have the largest population growth? Which counties have the least (or negative) population growth?\n",
        "3.   From 2010-2018, what is the distribution of population growth in California? What percentage of counties have higher population growth? What percentage of counties have lower population growth?\n",
        "4.   What has changed in the demographic composition of the counties in ​California from 2010-2018? What factors have the most impact on population change? We will break down by each factor: \n",
        "  *   Income\n",
        "  *   Age\n",
        "  *   Educational attainment\n",
        "  *   House rent\n",
        "  *   Employment\n",
        "  *   Race\n",
        "  *   Family households rate\n",
        "\n",
        "5.   How to construct the input features and output label of the ML model? Which model can predict the population change trend of the next year more accurately?\n",
        "\n",
        "---\n"
      ]
    },
    {
      "cell_type": "markdown",
      "metadata": {
        "id": "r_GvgTCcgv6N"
      },
      "source": [
        "## Analysis of Dataset"
      ]
    },
    {
      "cell_type": "markdown",
      "metadata": {
        "id": "c6wGQ8ZPgyuJ"
      },
      "source": [
        "\n",
        "### ****Dataset Overview****\n"
      ]
    },
    {
      "cell_type": "markdown",
      "metadata": {
        "id": "bHQoiOlYLUGr"
      },
      "source": [
        "**(1) Census_bureau_acs (Census Bureau American Community Survey)**\n",
        "- Dataset ID: bigquery-public-data:census_bureau_acs\n",
        "  - [ZIP level]\n",
        "`bigquery-public-data:census_bureau_acs.zip_codes_20xx_5yr` (from 2011 to 2018) ~= 62MB * 8\n",
        "= 496MB\n",
        "\n",
        "  - [county level]\n",
        "`bigquery-public-data:census_bureau_acs.county_20xx_1yr` (from 2011 to 2018) ~= 1.5MB * 8 \n",
        "= 12MB\n",
        "\n",
        "- Purpose of using the dataset\n",
        "\n",
        "    This dataset provide information about American Community Survey. We choose 2 types of tables from the dataset, and ​​these 2 types of tables collect data from 2 different geographic granularities: zip code level and county level. The specific information provided includes: household structure, percentage of income that is spent on rent, age, race, income, education attainment, commutes time per day, gender, employment, language spoken…\n",
        "    These factors may have affected the population change to a certain extent. We use this dataset as the main source of information for this project.\n",
        "- Table schema\n",
        "  - primary key: `geo_id`\n",
        "\n",
        "**(2) Census Bureau US Boundaries**\n",
        "- Dataset ID: bigquery-public-data:geo_us_boundaries\n",
        "  - `bigquery-public-data:geo_us_boundaries.zip_codes` ~= 1.19 GB\n",
        "\n",
        "  - `bigquery-public-data:geo_us_boundaries.urban_areas` ~= 194.24 MB\n",
        "\n",
        "- Purpose of using the dataset\n",
        "\n",
        "    - The table `zip_codes` provides the geographic coordinates, range, latitude and longitude of the area represented by each zip code. Also, it provides information about the county and state of the region represented by the zip code. This table is very important, becasue it can link information on different geographic granularities together.\n",
        "    - The table `urban_areas` tells us whether an area is an urban area, and is used to study whether population change is related to urbanization.\n",
        "\n",
        "- Table schema\n",
        "  - `urban_areas` primary key: `geo_id`\n",
        "  - `zip_codes` primary key: `zip_code`\n",
        "\n",
        "\n",
        "\n"
      ]
    },
    {
      "cell_type": "markdown",
      "metadata": {
        "id": "Fc_clta9g3H5"
      },
      "source": [
        "## Data Exploration"
      ]
    },
    {
      "cell_type": "code",
      "execution_count": null,
      "metadata": {
        "id": "iTYZZK-lhCV9",
        "vscode": {
          "languageId": "python"
        }
      },
      "outputs": [],
      "source": [
        "# Run this cell to authenticate yourself to BigQuery\n",
        "from google.colab import auth\n",
        "auth.authenticate_user()\n",
        "project_id = \"cs145-project3-331000\""
      ]
    },
    {
      "cell_type": "code",
      "execution_count": null,
      "metadata": {
        "id": "uIY7-6-thFc-",
        "vscode": {
          "languageId": "python"
        }
      },
      "outputs": [],
      "source": [
        "# Initialize BiqQuery client\n",
        "from google.cloud import bigquery\n",
        "client = bigquery.Client(project=project_id)"
      ]
    },
    {
      "cell_type": "code",
      "execution_count": null,
      "metadata": {
        "id": "_pKQjkzGC3SM",
        "vscode": {
          "languageId": "python"
        }
      },
      "outputs": [],
      "source": [
        "import matplotlib.pyplot as plt\n",
        "import math\n",
        "import numpy as np\n",
        "%matplotlib inline\n",
        "import warnings\n",
        "warnings.filterwarnings('ignore')"
      ]
    },
    {
      "cell_type": "markdown",
      "metadata": {
        "id": "OsMMIDrjg_YG"
      },
      "source": [
        "---\n",
        "\n",
        "PART 1 \n",
        "\n",
        "---\n",
        "\n",
        "\n",
        "How has the total population in California changed in the past 8 years? \n",
        "\n",
        "Which areas have negative/positive population growth? \n",
        "\n",
        "What is the proportion of regions with negative/positive growth? \n",
        "\n",
        "(Block group level / zip code level / County level)\n",
        "\n",
        "---"
      ]
    },
    {
      "cell_type": "code",
      "execution_count": null,
      "metadata": {
        "id": "0uzXOxccsW_1",
        "vscode": {
          "languageId": "python"
        }
      },
      "outputs": [],
      "source": [
        "%%bigquery --project $project_id total_pop_county\n",
        "\n",
        "SELECT \n",
        "    do_date,counties.geo_id,counties.county_name,total_pop\n",
        "FROM (\n",
        "    SELECT  \n",
        "        do_date,total_pop,geo_id\n",
        "    FROM  `bigquery-public-data.census_bureau_acs.county_2011_1yr` Y2011\n",
        "    union all\n",
        "    SELECT \n",
        "        do_date,total_pop,geo_id\n",
        "    from  `bigquery-public-data.census_bureau_acs.county_2012_1yr` Y2012\n",
        "    union all\n",
        "    SELECT \n",
        "        do_date,total_pop,geo_id\n",
        "    from  `bigquery-public-data.census_bureau_acs.county_2013_1yr` Y2013\n",
        "    union all\n",
        "    SELECT \n",
        "        do_date,total_pop,geo_id\n",
        "    from  `bigquery-public-data.census_bureau_acs.county_2014_1yr` Y2014\n",
        "    union all\n",
        "    SELECT \n",
        "        do_date,total_pop,geo_id\n",
        "    from  `bigquery-public-data.census_bureau_acs.county_2015_1yr` Y2015\n",
        "    union all\n",
        "    SELECT \n",
        "        do_date,total_pop,geo_id\n",
        "    from  `bigquery-public-data.census_bureau_acs.county_2016_1yr` Y2016\n",
        "    union all\n",
        "    SELECT  \n",
        "        do_date,total_pop,geo_id\n",
        "    from  `bigquery-public-data.census_bureau_acs.county_2017_1yr` Y2017\n",
        "    union all\n",
        "    SELECT \n",
        "        do_date,total_pop,geo_id\n",
        "    from  `bigquery-public-data.census_bureau_acs.county_2018_1yr` Y2018\n",
        "    ) Y2011_2018,\n",
        "    `bigquery-public-data.geo_us_boundaries.counties` counties\n",
        "WHERE counties.geo_id = Y2011_2018.geo_id\n",
        "AND counties.state_fips_code = \"06\"\n",
        "ORDER BY do_date"
      ]
    },
    {
      "cell_type": "markdown",
      "metadata": {
        "id": "isPhm1YDvrBF"
      },
      "source": [
        "We save the above view as `cs145-project3-331000.population_change.all_counties`"
      ]
    },
    {
      "cell_type": "code",
      "execution_count": null,
      "metadata": {
        "id": "GWnXwzduQsvI",
        "vscode": {
          "languageId": "python"
        }
      },
      "outputs": [],
      "source": [
        "%%bigquery --project $project_id cal_total_pop\n",
        "\n",
        "SELECT do_date,sum(total_pop) AS total_pop_cal\n",
        "FROM `cs145-project3-331000.population_change.all_counties`\n",
        "WHERE total_pop IS NOT NULL\n",
        "GROUP BY do_date\n",
        "ORDER BY do_date"
      ]
    },
    {
      "cell_type": "code",
      "execution_count": null,
      "metadata": {
        "colab": {
          "base_uri": "https://localhost:8080/",
          "height": 312
        },
        "id": "7awcBqumQzHt",
        "outputId": "b1048182-7ffa-461f-d4f3-5ba58d54cb4c",
        "vscode": {
          "languageId": "python"
        }
      },
      "outputs": [
        {
          "data": {
            "text/plain": [
              "Text(0, 0.5, 'total population')"
            ]
          },
          "execution_count": 6,
          "metadata": {},
          "output_type": "execute_result"
        },
        {
          "data": {
            "image/png": "[encoded data removed]",
            "text/plain": [
              "<Figure size 432x288 with 1 Axes>"
            ]
          },
          "metadata": {},
          "output_type": "display_data"
        }
      ],
      "source": [
        "x = cal_total_pop[\"do_date\"]\n",
        "y = cal_total_pop[\"total_pop_cal\"]\n",
        "plt.plot(x, y, marker='*',label = \"california total population\")\n",
        "plt.title(\"california total population change 2011-2018\")\n",
        "plt.xlabel(\"year\")\n",
        "plt.ylabel(\"total population\")"
      ]
    },
    {
      "cell_type": "markdown",
      "metadata": {
        "id": "0XNYcwyQc7bU"
      },
      "source": [
        "As is shown in the above chart, from 2011 to 2018, the total population of California showed a continuous upward trend. However, it is clear that the rate of increase was decreasing."
      ]
    },
    {
      "cell_type": "code",
      "execution_count": null,
      "metadata": {
        "id": "LmUgykW_xCl4",
        "vscode": {
          "languageId": "python"
        }
      },
      "outputs": [],
      "source": [
        "%%bigquery --project $project_id cal_pop_growth_rate\n",
        "\n",
        "SELECT t1.do_date,\n",
        "    ROUND(t1.total_pop_cal/t2.total_pop_cal-1, 4) AS total_pop_growth_rate\n",
        "FROM \n",
        "     (\n",
        "    SELECT do_date,sum(total_pop) AS total_pop_cal\n",
        "    FROM `cs145-project3-331000.population_change.all_counties`\n",
        "    WHERE total_pop IS NOT NULL\n",
        "    GROUP BY do_date\n",
        "    ORDER BY do_date) t1, \n",
        "     (\n",
        "    SELECT do_date,sum(total_pop) AS total_pop_cal\n",
        "    FROM `cs145-project3-331000.population_change.all_counties`\n",
        "    WHERE total_pop IS NOT NULL\n",
        "    GROUP BY do_date\n",
        "    ORDER BY do_date) t2 \n",
        "WHERE CAST(t1.do_date AS INT) = CAST(t2.do_date AS INT) + 1\n",
        "ORDER BY t1.do_date"
      ]
    },
    {
      "cell_type": "code",
      "execution_count": null,
      "metadata": {
        "colab": {
          "base_uri": "https://localhost:8080/",
          "height": 312
        },
        "id": "wzC1k7CSyG6p",
        "outputId": "6cb4be30-6e99-457e-88d0-c0b6c94fe34b",
        "vscode": {
          "languageId": "python"
        }
      },
      "outputs": [
        {
          "data": {
            "text/plain": [
              "Text(0, 0.5, 'population growth rate')"
            ]
          },
          "execution_count": 8,
          "metadata": {},
          "output_type": "execute_result"
        },
        {
          "data": {
            "image/png": "[encoded data removed]",
            "text/plain": [
              "<Figure size 432x288 with 1 Axes>"
            ]
          },
          "metadata": {},
          "output_type": "display_data"
        }
      ],
      "source": [
        "plt.figure()\n",
        "labels = cal_pop_growth_rate[\"do_date\"]\n",
        "total_pop_growth_rate = cal_pop_growth_rate[\"total_pop_growth_rate\"]\n",
        "\n",
        "plt.bar(labels, total_pop_growth_rate)\n",
        "plt.plot(labels, total_pop_growth_rate,c='#ff7f0e',marker='*')\n",
        "plt.title(\"california population growth rate 2011-2018\")\n",
        "plt.xlabel(\"year\")\n",
        "plt.ylabel(\"population growth rate\")"
      ]
    },
    {
      "cell_type": "markdown",
      "metadata": {
        "id": "akKgTpcZeNWn"
      },
      "source": [
        "As shown above, California's total population growth rate fluctuated over 8 years. Overall, the growth rate was largest in 2014,exceeding 1.2%, and has continued to decline since then (except for 2017), and reached the minimum in 2018."
      ]
    },
    {
      "cell_type": "markdown",
      "metadata": {
        "id": "b1pH2snIegRQ"
      },
      "source": [
        "Then, we are going to analyze the population mobility characteristics of each county in California. In order to find out a more typical and representative conclusion, we will mainly focus on the study of the population distribution characteristics of TOP 5 counties with the largest and smallest population changes."
      ]
    },
    {
      "cell_type": "code",
      "execution_count": null,
      "metadata": {
        "id": "CL-liHleWSIf",
        "vscode": {
          "languageId": "python"
        }
      },
      "outputs": [],
      "source": [
        "%%bigquery --project $project_id positive_pop_change_state\n",
        "\n",
        "SELECT \n",
        "    counties.county_name, \n",
        "    counties.geo_id,\n",
        "    (countyPop.pop_2018 - countyPop.pop_2011) AS net_pop_change,\n",
        "    int_point_geom\n",
        "FROM \n",
        "    `bigquery-public-data.geo_us_boundaries.counties` counties,\n",
        "    `cs145-project3-331000.population_change.population_change_county` countyPop\n",
        "WHERE \n",
        "    counties.geo_id = countyPop.geo_id\n",
        "ORDER BY net_pop_change DESC\n",
        "LIMIT 5"
      ]
    },
    {
      "cell_type": "code",
      "execution_count": null,
      "metadata": {
        "colab": {
          "base_uri": "https://localhost:8080/",
          "height": 312
        },
        "id": "9uAsJiTJmT8P",
        "outputId": "da03afea-26f7-4af8-d832-b8d60dc42d18",
        "vscode": {
          "languageId": "python"
        }
      },
      "outputs": [
        {
          "data": {
            "text/plain": [
              "Text(0, 0.5, 'county name')"
            ]
          },
          "execution_count": 10,
          "metadata": {},
          "output_type": "execute_result"
        },
        {
          "data": {
            "image/png": "[encoded data removed]",
            "text/plain": [
              "<Figure size 432x288 with 1 Axes>"
            ]
          },
          "metadata": {},
          "output_type": "display_data"
        }
      ],
      "source": [
        "plt.figure()\n",
        "\n",
        "plt.barh(positive_pop_change_state[\"county_name\"], positive_pop_change_state[\"net_pop_change\"])\n",
        "plt.title(\"TOP 5 counties with the largest increase in net population\")\n",
        "plt.xlabel(\"net population change\")\n",
        "plt.ylabel(\"county name\")"
      ]
    },
    {
      "cell_type": "markdown",
      "metadata": {
        "id": "Knj7sk9-GAXv"
      },
      "source": [
        "From the above bar chart, we can figure out that in the past 8 years, the TOP 5 counties with the largest net population growth in California are Los Angeles, Riverside, San Diego, Alameda, Orange, respectively."
      ]
    },
    {
      "cell_type": "code",
      "execution_count": null,
      "metadata": {
        "id": "QYMA5vTllI_I",
        "vscode": {
          "languageId": "python"
        }
      },
      "outputs": [],
      "source": [
        "%%bigquery --project $project_id negative_or_low_increase_pop_change_state\n",
        "\n",
        "SELECT \n",
        "    counties.county_name, \n",
        "    counties.geo_id,\n",
        "    (countyPop.pop_2018 - countyPop.pop_2011) AS net_pop_change,\n",
        "    int_point_geom\n",
        "FROM \n",
        "    `bigquery-public-data.geo_us_boundaries.counties` counties,\n",
        "    `cs145-project3-331000.population_change.population_change_county` countyPop\n",
        "WHERE \n",
        "    counties.geo_id = countyPop.geo_id\n",
        "ORDER BY net_pop_change\n",
        "LIMIT 5"
      ]
    },
    {
      "cell_type": "code",
      "execution_count": null,
      "metadata": {
        "colab": {
          "base_uri": "https://localhost:8080/",
          "height": 312
        },
        "id": "6TPODZ3Em5kB",
        "outputId": "fc5d6da7-8f19-49de-9c41-598a201ee987",
        "vscode": {
          "languageId": "python"
        }
      },
      "outputs": [
        {
          "data": {
            "text/plain": [
              "Text(0, 0.5, 'county name')"
            ]
          },
          "execution_count": 12,
          "metadata": {},
          "output_type": "execute_result"
        },
        {
          "data": {
            "image/png": "[encoded data removed]",
            "text/plain": [
              "<Figure size 432x288 with 1 Axes>"
            ]
          },
          "metadata": {},
          "output_type": "display_data"
        }
      ],
      "source": [
        "plt.figure()\n",
        "\n",
        "plt.barh(negative_or_low_increase_pop_change_state[\"county_name\"], negative_or_low_increase_pop_change_state[\"net_pop_change\"])\n",
        "plt.title(\"TOP 5 counties with the least increase (or decrease) in net population\")\n",
        "plt.xlabel(\"net population change\")\n",
        "plt.ylabel(\"county name\")"
      ]
    },
    {
      "cell_type": "markdown",
      "metadata": {
        "id": "ZYRAPmRdOefV"
      },
      "source": [
        "The TOP 5 counties with the least net population growth in California are Kings, Mendocino, Lake, Nevada, Napa, respectively. \n",
        "Among them, Kings had a negative population growth of nearly 2500 people."
      ]
    },
    {
      "cell_type": "markdown",
      "metadata": {
        "id": "cgOgCcckSPTp"
      },
      "source": [
        "Meanwhile, we stepped deeper into analyzing the overall population change in all counties by setting different thresholds(0, 2000, 4000, 6000, 8000, 10000)"
      ]
    },
    {
      "cell_type": "code",
      "execution_count": null,
      "metadata": {
        "id": "2w0i9aW9oOP8",
        "vscode": {
          "languageId": "python"
        }
      },
      "outputs": [],
      "source": [
        "%%bigquery --project $project_id pop_change_distribution\n",
        "SELECT \n",
        "    COUNTIF(net_pop_change<0) AS pop_change_less_0, \n",
        "    COUNTIF(net_pop_change BETWEEN 0 AND 20000) AS pop_change_0_20000, \n",
        "    COUNTIF(net_pop_change BETWEEN 20000 AND 40000) AS pop_change_20000_40000, \n",
        "    COUNTIF(net_pop_change BETWEEN 40000 AND 60000) AS pop_change_40000_60000, \n",
        "    COUNTIF(net_pop_change BETWEEN 60000 AND 80000) AS pop_change_60000_80000,\n",
        "    COUNTIF(net_pop_change BETWEEN 80000 AND 100000) AS pop_change_80000_100000,\n",
        "    COUNTIF(net_pop_change > 100000) AS pop_change_greater_100000\n",
        "FROM(\n",
        "    SELECT \n",
        "        counties.county_name, \n",
        "        counties.geo_id,\n",
        "        (countyPop.pop_2018 - countyPop.pop_2011) AS net_pop_change,\n",
        "        int_point_geom\n",
        "    FROM \n",
        "        `bigquery-public-data.geo_us_boundaries.counties` counties,\n",
        "        `cs145-project3-331000.population_change.population_change_county` countyPop\n",
        "    WHERE \n",
        "        counties.geo_id = countyPop.geo_id)"
      ]
    },
    {
      "cell_type": "code",
      "execution_count": null,
      "metadata": {
        "colab": {
          "base_uri": "https://localhost:8080/",
          "height": 605
        },
        "id": "ZaGk4W5dofyT",
        "outputId": "bdb05993-a218-488b-d498-a3fa8f82fa34",
        "vscode": {
          "languageId": "python"
        }
      },
      "outputs": [
        {
          "data": {
            "text/plain": [
              "([<matplotlib.patches.Wedge at 0x7fbe1f9f8c50>,\n",
              "  <matplotlib.patches.Wedge at 0x7fbe1fa04450>,\n",
              "  <matplotlib.patches.Wedge at 0x7fbe1fa04cd0>,\n",
              "  <matplotlib.patches.Wedge at 0x7fbe1fa0c590>,\n",
              "  <matplotlib.patches.Wedge at 0x7fbe1fa0cf50>,\n",
              "  <matplotlib.patches.Wedge at 0x7fbe1fa17810>,\n",
              "  <matplotlib.patches.Wedge at 0x7fbe1fa17dd0>],\n",
              " [Text(-0.0863050065840288, 1.0966090670054351, 'pop_change_less_0'),\n",
              "  Text(-1.046162154398837, -0.33991873544066975, 'pop_change_0_20000'),\n",
              "  Text(0.714392925603445, -0.8364465002902164, 'pop_change_20000_40000'),\n",
              "  Text(1.04616220213706, -0.33991858851751156, 'pop_change_40000_60000'),\n",
              "  Text(1.096609057914914, 0.08630512208997297, 'pop_change_60000_80000'),\n",
              "  Text(1.0696068844881415, 0.25679001665869294, 'pop_change_80000_100000'),\n",
              "  Text(0.6465636712884596, 0.8899187709954145, 'pop_change_greater_100000')],\n",
              " [Text(-0.04707545813674298, 0.5981504001847827, '2.5%'),\n",
              "  Text(-0.5706339023993656, -0.1854102193312744, '55.0%'),\n",
              "  Text(0.38966886851097, -0.4562435456128452, '7.5%'),\n",
              "  Text(0.5706339284383963, -0.18541013919136992, '10.0%'),\n",
              "  Text(0.5981503952263166, 0.04707552113998525, '2.5%'),\n",
              "  Text(0.5834219369935316, 0.1400672818138325, '2.5%'),\n",
              "  Text(0.3526710934300688, 0.4854102387247715, '20.0%')])"
            ]
          },
          "execution_count": 208,
          "metadata": {},
          "output_type": "execute_result"
        },
        {
          "data": {
            "image/png": "[encoded data removed]",
            "text/plain": [
              "<Figure size 432x288 with 1 Axes>"
            ]
          },
          "metadata": {},
          "output_type": "display_data"
        }
      ],
      "source": [
        "labels = [\"pop_change_less_0\",\t\"pop_change_0_20000\",\t\"pop_change_20000_40000\",\n",
        "          \"pop_change_40000_60000\",\t\"pop_change_60000_80000\",\t\"pop_change_80000_100000\", \"pop_change_greater_100000\"]\n",
        "plt.pie(pop_change_distribution[0:1], labels=labels, autopct='%1.1f%%',startangle=90)"
      ]
    },
    {
      "cell_type": "markdown",
      "metadata": {
        "id": "M-rbg0gpTCd-"
      },
      "source": [
        "The results show that, in the past 8 years, most of the counties(more than half) have had population growth between 0-20000 people, 20 percent of the counties' population growth exceeded 100,000 people, and only 2.5 percent of the counties show negative growth."
      ]
    },
    {
      "cell_type": "markdown",
      "metadata": {
        "id": "5o75jKFO3uuW"
      },
      "source": [
        "---\n",
        "\n",
        "PART 2 \n",
        "\n",
        "---\n",
        "\n",
        "\n",
        "What has changed in the demographic composition of each area of ​​California in the past X years? (Break down by each factor)\n",
        "\n",
        "Age / Race / Education attainment / Income/ House rent/ Employment\n"
      ]
    },
    {
      "cell_type": "markdown",
      "metadata": {
        "id": "P7dUo1Ht5oDI"
      },
      "source": [
        "(1) demographic composition -- income analysis\n",
        "\n",
        "We focus on the TOP2 counties with the most increase in population (Los Angeles, Riverside) and the TOP2 counties with the least increase (or decrease) in population(Kings, Mendocino). We set two thresholds for income, below 39,999 are low-income households, 40,000-99,999 are middle-income households, and more than 100,000 are high-income households."
      ]
    },
    {
      "cell_type": "code",
      "execution_count": null,
      "metadata": {
        "id": "o8G9BF9b31kl",
        "vscode": {
          "languageId": "python"
        }
      },
      "outputs": [],
      "source": [
        "%%bigquery --project $project_id factor_income\n",
        "\n",
        "SELECT \n",
        "    do_date, counties.geo_id, income_less_10000, income_10000_14999,income_15000_19999,income_20000_24999,income_25000_29999,\n",
        "    income_30000_34999,income_35000_39999,income_40000_44999,income_45000_49999,income_50000_59999,income_60000_74999,income_75000_99999,\n",
        "    income_100000_124999,income_125000_149999,income_150000_199999,income_200000_or_more\n",
        "FROM (\n",
        "    SELECT  \n",
        "        do_date,income_less_10000,income_10000_14999,income_15000_19999,income_20000_24999,income_25000_29999,income_30000_34999,\n",
        "        income_35000_39999,income_40000_44999,income_45000_49999,income_50000_59999,income_60000_74999,income_75000_99999,\n",
        "        income_100000_124999,income_125000_149999,income_150000_199999,income_200000_or_more,geo_id\n",
        "    FROM  `bigquery-public-data.census_bureau_acs.county_2011_1yr` Y2011\n",
        "    union all\n",
        "    SELECT \n",
        "        do_date,income_less_10000,income_10000_14999,income_15000_19999,income_20000_24999,income_25000_29999,income_30000_34999,\n",
        "        income_35000_39999,income_40000_44999,income_45000_49999,income_50000_59999,income_60000_74999,income_75000_99999,\n",
        "        income_100000_124999,income_125000_149999,income_150000_199999,income_200000_or_more,geo_id\n",
        "    from  `bigquery-public-data.census_bureau_acs.county_2012_1yr` Y2012\n",
        "    union all\n",
        "    SELECT \n",
        "        do_date,income_less_10000,income_10000_14999,income_15000_19999,income_20000_24999,income_25000_29999,income_30000_34999,\n",
        "        income_35000_39999,income_40000_44999,income_45000_49999,income_50000_59999,income_60000_74999,income_75000_99999,\n",
        "        income_100000_124999,income_125000_149999,income_150000_199999,income_200000_or_more,geo_id\n",
        "    from  `bigquery-public-data.census_bureau_acs.county_2013_1yr` Y2013\n",
        "    union all\n",
        "    SELECT \n",
        "        do_date,income_less_10000,income_10000_14999,income_15000_19999,income_20000_24999,income_25000_29999,income_30000_34999,\n",
        "        income_35000_39999,income_40000_44999,income_45000_49999,income_50000_59999,income_60000_74999,income_75000_99999,\n",
        "        income_100000_124999,income_125000_149999,income_150000_199999,income_200000_or_more,geo_id\n",
        "    from  `bigquery-public-data.census_bureau_acs.county_2014_1yr` Y2014\n",
        "    union all\n",
        "    SELECT \n",
        "        do_date,income_less_10000,income_10000_14999,income_15000_19999,income_20000_24999,income_25000_29999,income_30000_34999,\n",
        "        income_35000_39999,income_40000_44999,income_45000_49999,income_50000_59999,income_60000_74999,income_75000_99999,\n",
        "        income_100000_124999,income_125000_149999,income_150000_199999,income_200000_or_more,geo_id\n",
        "    from  `bigquery-public-data.census_bureau_acs.county_2015_1yr` Y2015\n",
        "    union all\n",
        "    SELECT \n",
        "        do_date,income_less_10000,income_10000_14999,income_15000_19999,income_20000_24999,income_25000_29999,income_30000_34999,\n",
        "        income_35000_39999,income_40000_44999,income_45000_49999,income_50000_59999,income_60000_74999,income_75000_99999,\n",
        "        income_100000_124999,income_125000_149999,income_150000_199999,income_200000_or_more,geo_id\n",
        "    from  `bigquery-public-data.census_bureau_acs.county_2016_1yr` Y2016\n",
        "    union all\n",
        "    SELECT  \n",
        "        do_date,income_less_10000,income_10000_14999,income_15000_19999,income_20000_24999,income_25000_29999,income_30000_34999,\n",
        "        income_35000_39999,income_40000_44999,income_45000_49999,income_50000_59999,income_60000_74999,income_75000_99999,\n",
        "        income_100000_124999,income_125000_149999,income_150000_199999,income_200000_or_more,geo_id\n",
        "    from  `bigquery-public-data.census_bureau_acs.county_2017_1yr` Y2017\n",
        "    union all\n",
        "    SELECT \n",
        "        do_date,income_less_10000,income_10000_14999,income_15000_19999,income_20000_24999,income_25000_29999,income_30000_34999,\n",
        "        income_35000_39999,income_40000_44999,income_45000_49999,income_50000_59999,income_60000_74999,income_75000_99999,\n",
        "        income_100000_124999,income_125000_149999,income_150000_199999,income_200000_or_more,geo_id\n",
        "    from  `bigquery-public-data.census_bureau_acs.county_2018_1yr` Y2018\n",
        "    ) Y2011_2018,\n",
        "    `bigquery-public-data.geo_us_boundaries.counties` counties\n",
        "WHERE counties.geo_id = Y2011_2018.geo_id\n",
        "AND counties.state_fips_code = \"06\""
      ]
    },
    {
      "cell_type": "markdown",
      "metadata": {
        "id": "oiSRN6dMzZg9"
      },
      "source": [
        "Then we save the above view as 'cs145-project3-331000.factor_analysis.income'"
      ]
    },
    {
      "cell_type": "code",
      "execution_count": null,
      "metadata": {
        "id": "ba1XJo8YksQz",
        "vscode": {
          "languageId": "python"
        }
      },
      "outputs": [],
      "source": [
        "%%bigquery --project $project_id income\n",
        "\n",
        "SELECT \n",
        "    county_name,\n",
        "    geo_id,\n",
        "    do_date,\n",
        "    (income_less_10000 + income_10000_14999 + income_15000_19999 + income_20000_24999 + income_30000_34999 +\n",
        "    income_35000_39999) AS low_income,\n",
        "    (income_40000_44999 + income_45000_49999 + income_50000_59999 + income_60000_74999 + income_75000_99999) AS middle_income,\n",
        "    (income_100000_124999 + income_125000_149999 + income_150000_199999 + income_200000_or_more) AS high_income\n",
        "FROM `cs145-project3-331000.factor_analysis.income` \n",
        "WHERE county_name = \"Los Angeles\"\n",
        "OR county_name = \"Riverside\"\n",
        "OR county_name = \"Kings\"\n",
        "OR county_name = \"Mendocino\"\n",
        "ORDER BY county_name,do_date"
      ]
    },
    {
      "cell_type": "code",
      "execution_count": null,
      "metadata": {
        "colab": {
          "base_uri": "https://localhost:8080/",
          "height": 281
        },
        "id": "w4PkVIGileS0",
        "outputId": "5f25adf4-b797-46fa-a2af-ed7e43025945",
        "vscode": {
          "languageId": "python"
        }
      },
      "outputs": [
        {
          "data": {
            "image/png": "[encoded data removed]",
            "text/plain": [
              "<Figure size 432x288 with 1 Axes>"
            ]
          },
          "metadata": {},
          "output_type": "display_data"
        }
      ],
      "source": [
        "labels = income[\"do_date\"][8:16]\n",
        "low_income = income[\"low_income\"][8:16]\n",
        "middle_income = income[\"middle_income\"][8:16]\n",
        "high_income = income[\"high_income\"][8:16]\n",
        "width = 0.35  \n",
        "fig, ax = plt.subplots()\n",
        "ax.bar(labels, low_income, width, label='low_income')\n",
        "ax.bar(labels, middle_income, width, bottom=low_income,\n",
        "       label='middle_income')\n",
        "ax.bar(labels, high_income, width, bottom=low_income + middle_income,\n",
        "       label='high_income')\n",
        "ax.set_ylabel('# households with this income')\n",
        "ax.set_title('income distribution 2011-2018 in Los Angeles')\n",
        "ax.legend()\n",
        "\n",
        "plt.show()"
      ]
    },
    {
      "cell_type": "markdown",
      "metadata": {
        "id": "yoh2UvFCNCtQ"
      },
      "source": [
        "From the bar chart above, we can see that in the past 8 years, the proportion of high-income people in Los Angeles has been increasing year by year while the proportion of low-income people has shown a downward trend."
      ]
    },
    {
      "cell_type": "code",
      "execution_count": null,
      "metadata": {
        "colab": {
          "base_uri": "https://localhost:8080/",
          "height": 281
        },
        "id": "t6HfecJ_rArd",
        "outputId": "71c86596-3cd5-4ec8-c0b5-c4f1492ce6d6",
        "vscode": {
          "languageId": "python"
        }
      },
      "outputs": [
        {
          "data": {
            "image/png": "[encoded data removed]",
            "text/plain": [
              "<Figure size 432x288 with 1 Axes>"
            ]
          },
          "metadata": {},
          "output_type": "display_data"
        }
      ],
      "source": [
        "labels = income[\"do_date\"][24:32]\n",
        "low_income = income[\"low_income\"][24:32]\n",
        "middle_income = income[\"middle_income\"][24:32]\n",
        "high_income = income[\"high_income\"][24:32]\n",
        "width = 0.35  \n",
        "fig, ax = plt.subplots()\n",
        "ax.bar(labels, low_income, width, label='low_income')\n",
        "ax.bar(labels, middle_income, width, bottom=low_income,\n",
        "       label='middle_income')\n",
        "ax.bar(labels, high_income, width, bottom=low_income + middle_income,\n",
        "       label='high_income')\n",
        "ax.set_ylabel('# households with this income')\n",
        "ax.set_title('income distribution 2011-2018 in Riverside')\n",
        "ax.legend()\n",
        "\n",
        "plt.show()"
      ]
    },
    {
      "cell_type": "markdown",
      "metadata": {
        "id": "9WiJCTJhPGHj"
      },
      "source": [
        "The proportion of people with different income levels in Riverside shares a similar trend with that in Los Angeles, which is manifested as a slight decrease in the number of low-income groups while the number of high-income groups has increased significantly."
      ]
    },
    {
      "cell_type": "code",
      "execution_count": null,
      "metadata": {
        "colab": {
          "base_uri": "https://localhost:8080/",
          "height": 281
        },
        "id": "M2ZDaxJ0pLJm",
        "outputId": "8aaf68c5-6555-4814-866e-f68a56e8bddc",
        "vscode": {
          "languageId": "python"
        }
      },
      "outputs": [
        {
          "data": {
            "image/png": "[encoded data removed]",
            "text/plain": [
              "<Figure size 432x288 with 1 Axes>"
            ]
          },
          "metadata": {},
          "output_type": "display_data"
        }
      ],
      "source": [
        "labels = income[\"do_date\"][0:8]\n",
        "low_income = income[\"low_income\"][0:8]\n",
        "middle_income = income[\"middle_income\"][0:8]\n",
        "high_income = income[\"high_income\"][0:8]\n",
        "width = 0.35  \n",
        "fig, ax = plt.subplots()\n",
        "ax.bar(labels, low_income, width, label='low_income')\n",
        "ax.bar(labels, middle_income, width, bottom=low_income,\n",
        "       label='middle_income')\n",
        "ax.bar(labels, high_income, width, bottom=low_income + middle_income,\n",
        "       label='high_income')\n",
        "ax.set_ylabel('# households with this income')\n",
        "ax.set_title('income distribution 2011-2018 in Kings')\n",
        "ax.legend()\n",
        "\n",
        "plt.show()"
      ]
    },
    {
      "cell_type": "markdown",
      "metadata": {
        "id": "6j8GFATKQAM3"
      },
      "source": [
        "For Kings, which has a negative population growth, the number of people with different income levels has fluctuated in the past 8 years, and there is no obvious growth or decline trend."
      ]
    },
    {
      "cell_type": "code",
      "execution_count": null,
      "metadata": {
        "colab": {
          "base_uri": "https://localhost:8080/",
          "height": 281
        },
        "id": "fUtPYAdbqTtB",
        "outputId": "390cff6b-37b1-42ea-cdd5-34ce3c2d6e6e",
        "vscode": {
          "languageId": "python"
        }
      },
      "outputs": [
        {
          "data": {
            "image/png": "[encoded data removed]",
            "text/plain": [
              "<Figure size 432x288 with 1 Axes>"
            ]
          },
          "metadata": {},
          "output_type": "display_data"
        }
      ],
      "source": [
        "labels = income[\"do_date\"][16:24]\n",
        "low_income = income[\"low_income\"][16:24]\n",
        "middle_income = income[\"middle_income\"][16:24]\n",
        "high_income = income[\"high_income\"][16:24]\n",
        "width = 0.35  \n",
        "fig, ax = plt.subplots()\n",
        "ax.bar(labels, low_income, width, label='low_income')\n",
        "ax.bar(labels, middle_income, width, bottom=low_income,\n",
        "       label='middle_income')\n",
        "ax.bar(labels, high_income, width, bottom=low_income + middle_income,\n",
        "       label='high_income')\n",
        "ax.set_ylabel('# households with this income')\n",
        "ax.set_title('income distribution 2011-2018 in Mendocino')\n",
        "ax.legend()\n",
        "\n",
        "plt.show()"
      ]
    },
    {
      "cell_type": "markdown",
      "metadata": {
        "id": "mrp3_nyqUwaq"
      },
      "source": [
        "For Mendocino, the city with the smallest population growth, the number of people with different income levels has also fluctuated in the past 8 years, with high values and low values alternately appearing, and there is no obvious trend of increase or decrease."
      ]
    },
    {
      "cell_type": "markdown",
      "metadata": {
        "id": "zVfuVxLzsNvv"
      },
      "source": [
        "(2) demographic composition -- age analysis\n",
        "\n",
        "We focus on the TOP5 counties with the most increase in population and the TOP5 counties with the least increase (or decrease) in population. \n",
        "To anaylze the age factor, We use the median age to observe the potential trend."
      ]
    },
    {
      "cell_type": "code",
      "execution_count": null,
      "metadata": {
        "id": "wyE7i0FGuKV6",
        "vscode": {
          "languageId": "python"
        }
      },
      "outputs": [],
      "source": [
        "%%bigquery --project $project_id factor_age\n",
        "\n",
        "SELECT \n",
        "    do_date,counties.geo_id,median_age,counties.county_name\n",
        "FROM (\n",
        "    SELECT  \n",
        "        do_date,median_age,geo_id\n",
        "    FROM  `bigquery-public-data.census_bureau_acs.county_2011_1yr` Y2011\n",
        "    union all\n",
        "    SELECT \n",
        "        do_date,median_age,geo_id\n",
        "    from  `bigquery-public-data.census_bureau_acs.county_2012_1yr` Y2012\n",
        "    union all\n",
        "    SELECT \n",
        "        do_date,median_age,geo_id\n",
        "    from  `bigquery-public-data.census_bureau_acs.county_2013_1yr` Y2013\n",
        "    union all\n",
        "    SELECT \n",
        "        do_date,median_age,geo_id\n",
        "    from  `bigquery-public-data.census_bureau_acs.county_2014_1yr` Y2014\n",
        "    union all\n",
        "    SELECT \n",
        "        do_date,median_age,geo_id\n",
        "    from  `bigquery-public-data.census_bureau_acs.county_2015_1yr` Y2015\n",
        "    union all\n",
        "    SELECT \n",
        "        do_date,median_age,geo_id\n",
        "    from  `bigquery-public-data.census_bureau_acs.county_2016_1yr` Y2016\n",
        "    union all\n",
        "    SELECT  \n",
        "        do_date,median_age,geo_id\n",
        "    from  `bigquery-public-data.census_bureau_acs.county_2017_1yr` Y2017\n",
        "    union all\n",
        "    SELECT \n",
        "        do_date,median_age,geo_id\n",
        "    from  `bigquery-public-data.census_bureau_acs.county_2018_1yr` Y2018\n",
        "    ) Y2011_2018,\n",
        "    `bigquery-public-data.geo_us_boundaries.counties` counties\n",
        "WHERE counties.geo_id = Y2011_2018.geo_id\n",
        "AND counties.state_fips_code = \"06\"\n",
        "ORDER BY geo_id, do_date"
      ]
    },
    {
      "cell_type": "markdown",
      "metadata": {
        "id": "liI42wNpzSJG"
      },
      "source": [
        "Then we save the above view as 'cs145-project3-331000.factor_analysis.median_age'"
      ]
    },
    {
      "cell_type": "code",
      "execution_count": null,
      "metadata": {
        "id": "GUl4xe2uyyRa",
        "vscode": {
          "languageId": "python"
        }
      },
      "outputs": [],
      "source": [
        "%%bigquery --project $project_id median_age\n",
        "\n",
        "SELECT *\n",
        "FROM `cs145-project3-331000.factor_analysis.median_age`\n",
        "WHERE county_name = \"Napa\"\n",
        "OR county_name = \"Nevada\"\n",
        "OR county_name = \"Lake\"\n",
        "OR county_name = \"Mendocino\"\n",
        "OR county_name = \"Kings\"\n",
        "ORDER BY county_name,do_date"
      ]
    },
    {
      "cell_type": "code",
      "execution_count": null,
      "metadata": {
        "colab": {
          "base_uri": "https://localhost:8080/",
          "height": 295
        },
        "id": "6_5cpKFX19qL",
        "outputId": "bcf53d90-55b7-4836-a7d5-dbc54a6a7c22",
        "vscode": {
          "languageId": "python"
        }
      },
      "outputs": [
        {
          "data": {
            "image/png": "[encoded data removed]",
            "text/plain": [
              "<Figure size 432x288 with 1 Axes>"
            ]
          },
          "metadata": {},
          "output_type": "display_data"
        }
      ],
      "source": [
        "x = median_age[\"do_date\"][0:8]\n",
        "y_kings = median_age[\"median_age\"][0:8]\n",
        "y_lake = median_age[\"median_age\"][8:16]\n",
        "y_mendocino = median_age[\"median_age\"][16:24]\n",
        "y_napa = median_age[\"median_age\"][24:32]\n",
        "y_nevada = median_age[\"median_age\"][32:40]\n",
        "\n",
        "plt.plot(x, y_kings, marker='*', label = \"Kings\")\n",
        "plt.plot(x, y_lake, marker='*', label = \"lake\")\n",
        "plt.plot(x, y_mendocino, marker='*', label = \"Mendocino\")\n",
        "plt.plot(x, y_napa, marker='*', label = \"Napa\")\n",
        "plt.plot(x, y_nevada, marker='*', label = \"Nevada\")\n",
        "plt.legend()\n",
        "plt.title(\"TOP5 counties with the least increase in population 2011-2018\")\n",
        "plt.xlabel(\"year\")\n",
        "plt.ylabel(\"median age\")\n",
        "plt.show()"
      ]
    },
    {
      "cell_type": "markdown",
      "metadata": {
        "id": "f04lVMCtW5Pm"
      },
      "source": [
        "For TOP 5 counties with the least population growth, in general, the median age of the population in all counties is relatively old (over 40 years old). In addition, except for the slight increase in the median age of the population of Nevada, the median age of the rest of the counties fluctuates slightly over past 8 years."
      ]
    },
    {
      "cell_type": "code",
      "execution_count": null,
      "metadata": {
        "id": "Z_x-vKyd3q1g",
        "vscode": {
          "languageId": "python"
        }
      },
      "outputs": [],
      "source": [
        "%%bigquery --project $project_id median_age\n",
        "\n",
        "SELECT *\n",
        "FROM `cs145-project3-331000.factor_analysis.median_age`\n",
        "WHERE county_name = \"Riverside\"\n",
        "OR county_name = \"Orange\"\n",
        "OR county_name = \"Alameda\"\n",
        "OR county_name = \"San Diego\"\n",
        "OR county_name = \"Los Angeles\"\n",
        "ORDER BY county_name,do_date"
      ]
    },
    {
      "cell_type": "code",
      "execution_count": null,
      "metadata": {
        "colab": {
          "base_uri": "https://localhost:8080/",
          "height": 295
        },
        "id": "8-gaeaIR3r_k",
        "outputId": "5cac8822-12b6-4c28-a090-e4885a8b530f",
        "vscode": {
          "languageId": "python"
        }
      },
      "outputs": [
        {
          "data": {
            "image/png": "[encoded data removed]",
            "text/plain": [
              "<Figure size 432x288 with 1 Axes>"
            ]
          },
          "metadata": {},
          "output_type": "display_data"
        }
      ],
      "source": [
        "x = median_age[\"do_date\"][0:8]\n",
        "y_Alameda = median_age[\"median_age\"][0:8]\n",
        "y_Los_Angeles = median_age[\"median_age\"][8:16]\n",
        "y_Orange = median_age[\"median_age\"][16:24]\n",
        "y_Riverside = median_age[\"median_age\"][24:32]\n",
        "y_San_Diego = median_age[\"median_age\"][32:40]\n",
        "plt.plot(x, y_Alameda, marker='*', label = \"Alameda\")\n",
        "plt.plot(x, y_Los_Angeles, marker='*', label = \"Los Angeles\")\n",
        "plt.plot(x, y_Orange, marker='*', label = \"Orange\")\n",
        "plt.plot(x, y_Riverside, marker='*', label = \"Riverside\")\n",
        "plt.plot(x, y_San_Diego, marker='*', label = \"San Diego\")\n",
        "plt.legend()\n",
        "plt.title(\"TOP5 counties with the most increase in population 2011-2018\")\n",
        "plt.xlabel(\"year\")\n",
        "plt.ylabel(\"median age\")\n",
        "plt.show()"
      ]
    },
    {
      "cell_type": "markdown",
      "metadata": {
        "id": "26QzaksdgG0u"
      },
      "source": [
        "When it comes to the TOP 5 counties with the most increase in population, the situation is totally diffrent. Compared to the TOP 5 counties with the least population growth, the median age of all these counties is relatively young and has an obvious trend of increasing year by year."
      ]
    },
    {
      "cell_type": "markdown",
      "metadata": {
        "id": "iJK3Fd7d6sjv"
      },
      "source": [
        "(3) demographic composition -- Educational Attainment\n",
        "\n",
        "First of all, we observed and compared the overall distribution of the proportion of people with high education attainment in the first and last year of the study period."
      ]
    },
    {
      "cell_type": "code",
      "execution_count": null,
      "metadata": {
        "id": "LuTw9Xz36zyB",
        "vscode": {
          "languageId": "python"
        }
      },
      "outputs": [],
      "source": [
        "%%bigquery --project $project_id educational_attainment\n",
        "\n",
        "SELECT \n",
        "    do_date,counties.geo_id,counties.county_name,bachelors_degree_or_higher_25_64, pop_25_64,\n",
        "    ROUND((bachelors_degree_or_higher_25_64/pop_25_64),2) AS percent_high_educational_attainment\n",
        "FROM (\n",
        "    SELECT  \n",
        "        do_date,geo_id,bachelors_degree_or_higher_25_64, pop_25_64\n",
        "    FROM  `bigquery-public-data.census_bureau_acs.county_2011_1yr` Y2011\n",
        "    union all\n",
        "    SELECT \n",
        "        do_date,geo_id,bachelors_degree_or_higher_25_64, pop_25_64\n",
        "    from  `bigquery-public-data.census_bureau_acs.county_2012_1yr` Y2012\n",
        "    union all\n",
        "    SELECT \n",
        "        do_date,geo_id,bachelors_degree_or_higher_25_64, pop_25_64\n",
        "    from  `bigquery-public-data.census_bureau_acs.county_2013_1yr` Y2013\n",
        "    union all\n",
        "    SELECT \n",
        "        do_date,geo_id,bachelors_degree_or_higher_25_64, pop_25_64\n",
        "    from  `bigquery-public-data.census_bureau_acs.county_2014_1yr` Y2014\n",
        "    union all\n",
        "    SELECT \n",
        "        do_date,geo_id,bachelors_degree_or_higher_25_64, pop_25_64\n",
        "    from  `bigquery-public-data.census_bureau_acs.county_2015_1yr` Y2015\n",
        "    union all\n",
        "    SELECT \n",
        "        do_date,geo_id,bachelors_degree_or_higher_25_64, pop_25_64\n",
        "    from  `bigquery-public-data.census_bureau_acs.county_2016_1yr` Y2016\n",
        "    union all\n",
        "    SELECT  \n",
        "        do_date,geo_id,bachelors_degree_or_higher_25_64, pop_25_64\n",
        "    from  `bigquery-public-data.census_bureau_acs.county_2017_1yr` Y2017\n",
        "    union all\n",
        "    SELECT \n",
        "        do_date,geo_id,bachelors_degree_or_higher_25_64, pop_25_64\n",
        "    from  `bigquery-public-data.census_bureau_acs.county_2018_1yr` Y2018\n",
        "    ) Y2011_2018,\n",
        "    `bigquery-public-data.geo_us_boundaries.counties` counties\n",
        "WHERE counties.geo_id = Y2011_2018.geo_id\n",
        "AND counties.state_fips_code = \"06\"\n",
        "ORDER BY geo_id, do_date"
      ]
    },
    {
      "cell_type": "code",
      "execution_count": null,
      "metadata": {
        "colab": {
          "base_uri": "https://localhost:8080/",
          "height": 330
        },
        "id": "W3FMH-umDnak",
        "outputId": "c25b37c3-68b8-4fb1-c2b7-b9de57fafb1a",
        "vscode": {
          "languageId": "python"
        }
      },
      "outputs": [
        {
          "data": {
            "text/plain": [
              "(0.1, 0.7)"
            ]
          },
          "execution_count": 15,
          "metadata": {},
          "output_type": "execute_result"
        },
        {
          "data": {
            "text/plain": [
              "<Figure size 432x288 with 0 Axes>"
            ]
          },
          "metadata": {},
          "output_type": "display_data"
        },
        {
          "data": {
            "image/png": "[encoded data removed]",
            "text/plain": [
              "<Figure size 1152x288 with 2 Axes>"
            ]
          },
          "metadata": {},
          "output_type": "display_data"
        }
      ],
      "source": [
        "plt.figure()\n",
        "plt.figure(figsize=(16, 4))\n",
        "\n",
        "plt.subplot(1, 2, 1)\n",
        "for i in range(0, 321, 8):\n",
        "  x = educational_attainment[\"pop_25_64\"][i:i+1]\n",
        "  y = educational_attainment[\"percent_high_educational_attainment\"][i:i+1]\n",
        "  plt.scatter(x, y, c='#ff7f0e')\n",
        "\n",
        "plt.title(\"2011 educational attainment distribution\")\n",
        "plt.xlabel(\"pop_25_64\")\n",
        "plt.ylabel(\"percent_high_educational_attainment\")\n",
        "plt.ylim(0.1, 0.7)\n",
        "\n",
        "plt.subplot(1, 2, 2)\n",
        "for i in range(7, 328, 8):\n",
        "  x = educational_attainment[\"pop_25_64\"][i:i+1]\n",
        "  y = educational_attainment[\"percent_high_educational_attainment\"][i:i+1]\n",
        "  plt.scatter(x, y, c='#ff7f0e')\n",
        "\n",
        "plt.title(\"2018 educational attainment distribution\")\n",
        "plt.xlabel(\"pop_25_64\")\n",
        "plt.ylabel(\"percent_high_educational_attainment\")\n",
        "plt.ylim(0.1, 0.7)"
      ]
    },
    {
      "cell_type": "markdown",
      "metadata": {
        "id": "Y_vazuaIuMPY"
      },
      "source": [
        "From the above scatter charts, we can clearly see that compared with 2011, California's overall propotion of peope with high educational attainment has slightly increased in 2018."
      ]
    },
    {
      "cell_type": "markdown",
      "metadata": {
        "id": "MPwiEn9HNJk8"
      },
      "source": [
        "Next, we observed and compared the trend of the propotion change of population with high educational attainment in TOP 5 regions with high population inflow with that of TOP 5 regions with low population inflow."
      ]
    },
    {
      "cell_type": "code",
      "execution_count": null,
      "metadata": {
        "id": "mE_H7iJRMdxf",
        "vscode": {
          "languageId": "python"
        }
      },
      "outputs": [],
      "source": [
        "%%bigquery --project $project_id educational_most_increasePop\n",
        "\n",
        "SELECT percent_high_educational_attainment, do_date, county_name\n",
        "FROM `cs145-project3-331000.factor_analysis.education`\n",
        "WHERE county_name = \"Riverside\"\n",
        "OR county_name = \"Orange\"\n",
        "OR county_name = \"Alameda\"\n",
        "OR county_name = \"San Diego\"\n",
        "OR county_name = \"Los Angeles\"\n",
        "ORDER BY county_name,do_date"
      ]
    },
    {
      "cell_type": "code",
      "execution_count": null,
      "metadata": {
        "id": "OUUd91i4g7nM",
        "vscode": {
          "languageId": "python"
        }
      },
      "outputs": [],
      "source": [
        "%%bigquery --project $project_id educational_least_increasePop\n",
        "SELECT percent_high_educational_attainment, do_date, county_name\n",
        "FROM `cs145-project3-331000.factor_analysis.education`\n",
        "WHERE county_name = \"Napa\"\n",
        "OR county_name = \"Nevada\"\n",
        "OR county_name = \"Lake\"\n",
        "OR county_name = \"Mendocino\"\n",
        "OR county_name = \"Kings\"\n",
        "ORDER BY county_name,do_date"
      ]
    },
    {
      "cell_type": "code",
      "execution_count": null,
      "metadata": {
        "colab": {
          "base_uri": "https://localhost:8080/",
          "height": 329
        },
        "id": "Vafi6A0UgChY",
        "outputId": "6640c2f0-d439-4ad3-8606-fd8f6354677b",
        "vscode": {
          "languageId": "python"
        }
      },
      "outputs": [
        {
          "data": {
            "text/plain": [
              "(0.1, 0.6)"
            ]
          },
          "execution_count": 65,
          "metadata": {},
          "output_type": "execute_result"
        },
        {
          "data": {
            "text/plain": [
              "<Figure size 432x288 with 0 Axes>"
            ]
          },
          "metadata": {},
          "output_type": "display_data"
        },
        {
          "data": {
            "image/png": "[encoded data removed]",
            "text/plain": [
              "<Figure size 1152x288 with 2 Axes>"
            ]
          },
          "metadata": {},
          "output_type": "display_data"
        }
      ],
      "source": [
        "plt.figure()\n",
        "plt.figure(figsize=(16, 4))\n",
        "plt.subplot(1, 2, 1)\n",
        "\n",
        "x = educational_most_increasePop[\"do_date\"][0:8]\n",
        "y_Alameda = educational_most_increasePop[\"percent_high_educational_attainment\"][0:8]\n",
        "y_Los_Angeles = educational_most_increasePop[\"percent_high_educational_attainment\"][8:16]\n",
        "y_Orange = educational_most_increasePop[\"percent_high_educational_attainment\"][16:24]\n",
        "y_Riverside = educational_most_increasePop[\"percent_high_educational_attainment\"][24:32]\n",
        "y_San_Diego = educational_most_increasePop[\"percent_high_educational_attainment\"][32:40]\n",
        "plt.plot(x, y_Alameda, marker='*', label = \"Alameda\")\n",
        "plt.plot(x, y_Los_Angeles, marker='*', label = \"Los Angeles\")\n",
        "plt.plot(x, y_Orange, marker='*', label = \"Orange\")\n",
        "plt.plot(x, y_Riverside, marker='*', label = \"Riverside\")\n",
        "plt.plot(x, y_San_Diego, marker='*', label = \"San Diego\")\n",
        "plt.legend()\n",
        "plt.title(\"TOP5 counties with the most increase in pop, educational attainment\")\n",
        "plt.xlabel(\"year\")\n",
        "plt.ylabel(\"educational attainment\")\n",
        "plt.ylim(0.1, 0.6)\n",
        "\n",
        "plt.subplot(1, 2, 2)\n",
        "x = educational_least_increasePop[\"do_date\"][0:8]\n",
        "y_kings = educational_least_increasePop[\"percent_high_educational_attainment\"][0:8]\n",
        "y_lake = educational_least_increasePop[\"percent_high_educational_attainment\"][8:16]\n",
        "y_mendocino = educational_least_increasePop[\"percent_high_educational_attainment\"][16:24]\n",
        "y_napa = educational_least_increasePop[\"percent_high_educational_attainment\"][24:32]\n",
        "y_nevada = educational_least_increasePop[\"percent_high_educational_attainment\"][32:40]\n",
        "\n",
        "plt.plot(x, y_kings, marker='*', label = \"Kings\")\n",
        "plt.plot(x, y_lake, marker='*', label = \"lake\")\n",
        "plt.plot(x, y_mendocino, marker='*', label = \"Mendocino\")\n",
        "plt.plot(x, y_napa, marker='*', label = \"Napa\")\n",
        "plt.plot(x, y_nevada, marker='*', label = \"Nevada\")\n",
        "plt.legend()\n",
        "plt.title(\"TOP5 counties with the least increase(or decrease) in pop, educational attainment\")\n",
        "plt.xlabel(\"year\")\n",
        "plt.ylabel(\"educational attainment\")\n",
        "plt.ylim(0.1, 0.6)"
      ]
    },
    {
      "cell_type": "markdown",
      "metadata": {
        "id": "p4OhjCrlysZ0"
      },
      "source": [
        "In general, the trends of the proportion change of population with high educational attainment in TOP 5 regions with high population and TOP 5 regions with low population inflow are quite different. The proportion of people with high educational attainment in the TOP 5 regions with the most increse in population is relatively high, and has remained constant or slightly increased during the study period, while the proportion in the TOP 5 counties with the least increse in population is relatively low and fluctuated greatly in the past 8 years."
      ]
    },
    {
      "cell_type": "markdown",
      "metadata": {
        "id": "VKA7mCzhJBtz"
      },
      "source": [
        "(3) demographic composition -- House rent\n",
        "\n",
        "we choose percent_income_spent_on_rent to conduct our analysis to discuss the relationship between house rent and population growth in selected representative counties in California."
      ]
    },
    {
      "cell_type": "code",
      "execution_count": 10,
      "metadata": {
        "id": "RMhSuoAXJ2LP",
        "vscode": {
          "languageId": "python"
        }
      },
      "outputs": [],
      "source": [
        "%%bigquery --project $project_id factor_rent\n",
        "\n",
        "SELECT \n",
        "    do_date,counties.geo_id,counties.county_name,percent_income_spent_on_rent\n",
        "FROM (\n",
        "    SELECT  \n",
        "        do_date,percent_income_spent_on_rent,geo_id\n",
        "    FROM  `bigquery-public-data.census_bureau_acs.county_2011_1yr` Y2011\n",
        "    union all\n",
        "    SELECT \n",
        "        do_date,percent_income_spent_on_rent,geo_id\n",
        "    from  `bigquery-public-data.census_bureau_acs.county_2012_1yr` Y2012\n",
        "    union all\n",
        "    SELECT \n",
        "        do_date,percent_income_spent_on_rent,geo_id\n",
        "    from  `bigquery-public-data.census_bureau_acs.county_2013_1yr` Y2013\n",
        "    union all\n",
        "    SELECT \n",
        "        do_date,percent_income_spent_on_rent,geo_id\n",
        "    from  `bigquery-public-data.census_bureau_acs.county_2014_1yr` Y2014\n",
        "    union all\n",
        "    SELECT \n",
        "        do_date,percent_income_spent_on_rent,geo_id\n",
        "    from  `bigquery-public-data.census_bureau_acs.county_2015_1yr` Y2015\n",
        "    union all\n",
        "    SELECT \n",
        "        do_date,percent_income_spent_on_rent,geo_id\n",
        "    from  `bigquery-public-data.census_bureau_acs.county_2016_1yr` Y2016\n",
        "    union all\n",
        "    SELECT  \n",
        "        do_date,percent_income_spent_on_rent,geo_id\n",
        "    from  `bigquery-public-data.census_bureau_acs.county_2017_1yr` Y2017\n",
        "    union all\n",
        "    SELECT \n",
        "        do_date,percent_income_spent_on_rent,geo_id\n",
        "    from  `bigquery-public-data.census_bureau_acs.county_2018_1yr` Y2018\n",
        "    ) Y2011_2018,\n",
        "    `bigquery-public-data.geo_us_boundaries.counties` counties\n",
        "WHERE counties.geo_id = Y2011_2018.geo_id\n",
        "AND counties.state_fips_code = \"06\"\n",
        "ORDER BY do_date"
      ]
    },
    {
      "cell_type": "markdown",
      "metadata": {
        "id": "dw5L2cO9LQ6f"
      },
      "source": [
        "Then we save the above view as 'cs145-project3-331000.factor_analysis.rent'"
      ]
    },
    {
      "cell_type": "code",
      "execution_count": 11,
      "metadata": {
        "id": "qQN2HuXuO4Lj",
        "vscode": {
          "languageId": "python"
        }
      },
      "outputs": [],
      "source": [
        "%%bigquery --project $project_id rent_most_increasePop\n",
        "SELECT percent_income_spent_on_rent, do_date, county_name\n",
        "FROM `cs145-project3-331000.factor_analysis.rent`\n",
        "WHERE county_name = \"Riverside\"\n",
        "OR county_name = \"Orange\"\n",
        "OR county_name = \"Alameda\"\n",
        "OR county_name = \"San Diego\"\n",
        "OR county_name = \"Los Angeles\"\n",
        "ORDER BY county_name,do_date"
      ]
    },
    {
      "cell_type": "code",
      "execution_count": 12,
      "metadata": {
        "id": "zkfNwjEGRUWm",
        "vscode": {
          "languageId": "python"
        }
      },
      "outputs": [],
      "source": [
        "%%bigquery --project $project_id rent_least_increasePop\n",
        "SELECT percent_income_spent_on_rent, do_date, county_name\n",
        "FROM `cs145-project3-331000.factor_analysis.rent`\n",
        "WHERE county_name = \"Napa\"\n",
        "OR county_name = \"Nevada\"\n",
        "OR county_name = \"Lake\"\n",
        "OR county_name = \"Mendocino\"\n",
        "OR county_name = \"Kings\"\n",
        "ORDER BY county_name,do_date"
      ]
    },
    {
      "cell_type": "code",
      "execution_count": 15,
      "metadata": {
        "colab": {
          "base_uri": "https://localhost:8080/",
          "height": 330
        },
        "id": "z6eRkRBFRd3H",
        "outputId": "52f49c11-db42-4135-ba8a-9220d3e39499",
        "vscode": {
          "languageId": "python"
        }
      },
      "outputs": [
        {
          "data": {
            "text/plain": [
              "(20.0, 50.0)"
            ]
          },
          "execution_count": 15,
          "metadata": {},
          "output_type": "execute_result"
        },
        {
          "data": {
            "text/plain": [
              "<Figure size 432x288 with 0 Axes>"
            ]
          },
          "metadata": {},
          "output_type": "display_data"
        },
        {
          "data": {
            "image/png": "[encoded data removed]",
            "text/plain": [
              "<Figure size 1152x288 with 2 Axes>"
            ]
          },
          "metadata": {
            "needs_background": "light"
          },
          "output_type": "display_data"
        }
      ],
      "source": [
        "plt.figure()\n",
        "plt.figure(figsize=(16, 4))\n",
        "plt.subplot(1, 2, 1)\n",
        "\n",
        "x = rent_most_increasePop[\"do_date\"][0:8]\n",
        "y_Alameda = rent_most_increasePop[\"percent_income_spent_on_rent\"][0:8]\n",
        "y_Los_Angeles = rent_most_increasePop[\"percent_income_spent_on_rent\"][8:16]\n",
        "y_Orange = rent_most_increasePop[\"percent_income_spent_on_rent\"][16:24]\n",
        "y_Riverside = rent_most_increasePop[\"percent_income_spent_on_rent\"][24:32]\n",
        "y_San_Diego = rent_most_increasePop[\"percent_income_spent_on_rent\"][32:40]\n",
        "plt.plot(x, y_Alameda, marker='*', label = \"Alameda\")\n",
        "plt.plot(x, y_Los_Angeles, marker='*', label = \"Los Angeles\")\n",
        "plt.plot(x, y_Orange, marker='*', label = \"Orange\")\n",
        "plt.plot(x, y_Riverside, marker='*', label = \"Riverside\")\n",
        "plt.plot(x, y_San_Diego, marker='*', label = \"San Diego\")\n",
        "plt.legend()\n",
        "plt.title(\"TOP5 counties with the most increase in pop, percent_income_spent_on_rent\")\n",
        "plt.xlabel(\"year\")\n",
        "plt.ylabel(\"percent_income_spent_on_rent\")\n",
        "plt.ylim(20, 50)\n",
        "\n",
        "plt.subplot(1, 2, 2)\n",
        "x = rent_least_increasePop[\"do_date\"][0:8]\n",
        "y_kings = rent_least_increasePop[\"percent_income_spent_on_rent\"][0:8]\n",
        "y_lake = rent_least_increasePop[\"percent_income_spent_on_rent\"][8:16]\n",
        "y_mendocino = rent_least_increasePop[\"percent_income_spent_on_rent\"][16:24]\n",
        "y_napa = rent_least_increasePop[\"percent_income_spent_on_rent\"][24:32]\n",
        "y_nevada = rent_least_increasePop[\"percent_income_spent_on_rent\"][32:40]\n",
        "\n",
        "plt.plot(x, y_kings, marker='*', label = \"Kings\")\n",
        "plt.plot(x, y_lake, marker='*', label = \"lake\")\n",
        "plt.plot(x, y_mendocino, marker='*', label = \"Mendocino\")\n",
        "plt.plot(x, y_napa, marker='*', label = \"Napa\")\n",
        "plt.plot(x, y_nevada, marker='*', label = \"Nevada\")\n",
        "plt.legend()\n",
        "plt.title(\"TOP5 counties with the least increase(or decrease) in pop, percent_income_spent_on_rent\")\n",
        "plt.xlabel(\"year\")\n",
        "plt.ylabel(\"percent_income_spent_on_rent\")\n",
        "plt.ylim(20, 50)"
      ]
    },
    {
      "cell_type": "markdown",
      "metadata": {
        "id": "Ej8K26QHS4kD"
      },
      "source": [
        "From the above line charts, we can find out that the trends of the percent of income spent on house rent in the TOP 5 counties with the most increase in population remains almost constant or slightly decreased during the study period while those in the TOP 5 counties with the least population growth fluctuated violently."
      ]
    },
    {
      "cell_type": "markdown",
      "metadata": {
        "id": "3MTaK7XYVjF8"
      },
      "source": [
        "(4) demographic composition -- Employment\n",
        "\n",
        "In this part, we will calculate the employment rate to analyze the relationship between the employment rate and population growth in California.\n"
      ]
    },
    {
      "cell_type": "code",
      "execution_count": 16,
      "metadata": {
        "id": "Wjj_csjbg3v3",
        "vscode": {
          "languageId": "python"
        }
      },
      "outputs": [],
      "source": [
        "%%bigquery --project $project_id factor_employment\n",
        "\n",
        "SELECT \n",
        "    do_date,counties.geo_id,counties.county_name, employment_rate\n",
        "FROM (\n",
        "    SELECT  \n",
        "        do_date,employed_pop/total_pop AS employment_rate,geo_id\n",
        "    FROM  `bigquery-public-data.census_bureau_acs.county_2011_1yr` Y2011\n",
        "    union all\n",
        "    SELECT \n",
        "        do_date,employed_pop/total_pop AS employment_rate,geo_id\n",
        "    from  `bigquery-public-data.census_bureau_acs.county_2012_1yr` Y2012\n",
        "    union all\n",
        "    SELECT \n",
        "        do_date,employed_pop/total_pop AS employment_rate,geo_id\n",
        "    from  `bigquery-public-data.census_bureau_acs.county_2013_1yr` Y2013\n",
        "    union all\n",
        "    SELECT \n",
        "        do_date,employed_pop/total_pop AS employment_rate,geo_id\n",
        "    from  `bigquery-public-data.census_bureau_acs.county_2014_1yr` Y2014\n",
        "    union all\n",
        "    SELECT \n",
        "        do_date,employed_pop/total_pop AS employment_rate,geo_id\n",
        "    from  `bigquery-public-data.census_bureau_acs.county_2015_1yr` Y2015\n",
        "    union all\n",
        "    SELECT \n",
        "        do_date,employed_pop/total_pop AS employment_rate,geo_id\n",
        "    from  `bigquery-public-data.census_bureau_acs.county_2016_1yr` Y2016\n",
        "    union all\n",
        "    SELECT  \n",
        "        do_date,employed_pop/total_pop AS employment_rate,geo_id\n",
        "    from  `bigquery-public-data.census_bureau_acs.county_2017_1yr` Y2017\n",
        "    union all\n",
        "    SELECT \n",
        "        do_date,employed_pop/total_pop AS employment_rate,geo_id\n",
        "    from  `bigquery-public-data.census_bureau_acs.county_2018_1yr` Y2018\n",
        "    ) Y2011_2018,\n",
        "    `bigquery-public-data.geo_us_boundaries.counties` counties\n",
        "WHERE counties.geo_id = Y2011_2018.geo_id\n",
        "AND counties.state_fips_code = \"06\"\n",
        "ORDER BY do_date"
      ]
    },
    {
      "cell_type": "markdown",
      "metadata": {
        "id": "gyIZEw6Zif5z"
      },
      "source": [
        "Then we save the above view as 'cs145-project3-331000.factor_analysis.employment'"
      ]
    },
    {
      "cell_type": "markdown",
      "metadata": {
        "id": "y7CK9GXWiov_"
      },
      "source": [
        "Firstly, we analyzed the overall change of the average employment rate in California in the past 8 years."
      ]
    },
    {
      "cell_type": "code",
      "execution_count": 18,
      "metadata": {
        "id": "HQzmmdMUisnH",
        "vscode": {
          "languageId": "python"
        }
      },
      "outputs": [],
      "source": [
        "%%bigquery --project $project_id overall_employment_rate\n",
        "\n",
        "SELECT do_date,avg(employment_rate) AS avg_employment_rate\n",
        "FROM `cs145-project3-331000.factor_analysis.employment`\n",
        "WHERE employment_rate IS NOT NULL\n",
        "GROUP BY do_date\n",
        "ORDER BY do_date"
      ]
    },
    {
      "cell_type": "code",
      "execution_count": 19,
      "metadata": {
        "colab": {
          "base_uri": "https://localhost:8080/",
          "height": 312
        },
        "id": "4PasrAIrjcR0",
        "outputId": "f0b3d29c-0ab6-457c-e9fe-fd6c7390de53",
        "vscode": {
          "languageId": "python"
        }
      },
      "outputs": [
        {
          "data": {
            "text/plain": [
              "Text(0, 0.5, 'avg_employment_rate')"
            ]
          },
          "execution_count": 19,
          "metadata": {},
          "output_type": "execute_result"
        },
        {
          "data": {
            "image/png": "[encoded data removed]",
            "text/plain": [
              "<Figure size 432x288 with 1 Axes>"
            ]
          },
          "metadata": {
            "needs_background": "light"
          },
          "output_type": "display_data"
        }
      ],
      "source": [
        "x = overall_employment_rate[\"do_date\"]\n",
        "y = overall_employment_rate[\"avg_employment_rate\"]\n",
        "plt.plot(x, y, marker='*',label = \"california avg_employment_rate\")\n",
        "plt.title(\"california average employment rate change 2011-2018\")\n",
        "plt.xlabel(\"year\")\n",
        "plt.ylabel(\"avg_employment_rate\")"
      ]
    },
    {
      "cell_type": "markdown",
      "metadata": {
        "id": "d1LLKA5ckFp4"
      },
      "source": [
        "It is shown in the line chart above that the average employment rate in California has continuously increased year by year."
      ]
    },
    {
      "cell_type": "markdown",
      "metadata": {
        "id": "g7vPRxvCk2Nd"
      },
      "source": [
        "Then, we analyzed the employment rates in the TOP5 counties with the most increase in population and the TOP5 counties with the least increase (or decrease) in population and compare their trends in the past 8 years."
      ]
    },
    {
      "cell_type": "code",
      "execution_count": 20,
      "metadata": {
        "id": "dHRv04iAoTGH",
        "vscode": {
          "languageId": "python"
        }
      },
      "outputs": [],
      "source": [
        "%%bigquery --project $project_id employment_most_increasePop\n",
        "SELECT employment_rate, do_date, county_name\n",
        "FROM `cs145-project3-331000.factor_analysis.employment`\n",
        "WHERE county_name = \"Riverside\"\n",
        "OR county_name = \"Orange\"\n",
        "OR county_name = \"Alameda\"\n",
        "OR county_name = \"San Diego\"\n",
        "OR county_name = \"Los Angeles\"\n",
        "ORDER BY county_name,do_date"
      ]
    },
    {
      "cell_type": "code",
      "execution_count": 21,
      "metadata": {
        "id": "U4A8O_9-ot-w",
        "vscode": {
          "languageId": "python"
        }
      },
      "outputs": [],
      "source": [
        "%%bigquery --project $project_id employment_least_increasePop\n",
        "SELECT employment_rate, do_date, county_name\n",
        "FROM `cs145-project3-331000.factor_analysis.employment`\n",
        "WHERE county_name = \"Napa\"\n",
        "OR county_name = \"Nevada\"\n",
        "OR county_name = \"Lake\"\n",
        "OR county_name = \"Mendocino\"\n",
        "OR county_name = \"Kings\"\n",
        "ORDER BY county_name,do_date"
      ]
    },
    {
      "cell_type": "code",
      "execution_count": 22,
      "metadata": {
        "colab": {
          "base_uri": "https://localhost:8080/",
          "height": 330
        },
        "id": "y4LaSeZNo5oL",
        "outputId": "1caa7c8f-e586-4d3c-9619-e784f05434d0",
        "vscode": {
          "languageId": "python"
        }
      },
      "outputs": [
        {
          "data": {
            "text/plain": [
              "(0.2, 0.6)"
            ]
          },
          "execution_count": 22,
          "metadata": {},
          "output_type": "execute_result"
        },
        {
          "data": {
            "text/plain": [
              "<Figure size 432x288 with 0 Axes>"
            ]
          },
          "metadata": {},
          "output_type": "display_data"
        },
        {
          "data": {
            "image/png": "[encoded data removed]",
            "text/plain": [
              "<Figure size 1152x288 with 2 Axes>"
            ]
          },
          "metadata": {
            "needs_background": "light"
          },
          "output_type": "display_data"
        }
      ],
      "source": [
        "plt.figure()\n",
        "plt.figure(figsize=(16, 4))\n",
        "plt.subplot(1, 2, 1)\n",
        "\n",
        "x = employment_most_increasePop[\"do_date\"][0:8]\n",
        "y_Alameda = employment_most_increasePop[\"employment_rate\"][0:8]\n",
        "y_Los_Angeles = employment_most_increasePop[\"employment_rate\"][8:16]\n",
        "y_Orange = employment_most_increasePop[\"employment_rate\"][16:24]\n",
        "y_Riverside = employment_most_increasePop[\"employment_rate\"][24:32]\n",
        "y_San_Diego = employment_most_increasePop[\"employment_rate\"][32:40]\n",
        "plt.plot(x, y_Alameda, marker='*', label = \"Alameda\")\n",
        "plt.plot(x, y_Los_Angeles, marker='*', label = \"Los Angeles\")\n",
        "plt.plot(x, y_Orange, marker='*', label = \"Orange\")\n",
        "plt.plot(x, y_Riverside, marker='*', label = \"Riverside\")\n",
        "plt.plot(x, y_San_Diego, marker='*', label = \"San Diego\")\n",
        "plt.legend()\n",
        "plt.title(\"TOP5 counties with the most increase in pop, employment_rate\")\n",
        "plt.xlabel(\"year\")\n",
        "plt.ylabel(\"employment_rate\")\n",
        "plt.ylim(0.2, 0.6)\n",
        "\n",
        "plt.subplot(1, 2, 2)\n",
        "x = employment_least_increasePop[\"do_date\"][0:8]\n",
        "y_kings = employment_least_increasePop[\"employment_rate\"][0:8]\n",
        "y_lake = employment_least_increasePop[\"employment_rate\"][8:16]\n",
        "y_mendocino = employment_least_increasePop[\"employment_rate\"][16:24]\n",
        "y_napa = employment_least_increasePop[\"employment_rate\"][24:32]\n",
        "y_nevada = employment_least_increasePop[\"employment_rate\"][32:40]\n",
        "\n",
        "plt.plot(x, y_kings, marker='*', label = \"Kings\")\n",
        "plt.plot(x, y_lake, marker='*', label = \"lake\")\n",
        "plt.plot(x, y_mendocino, marker='*', label = \"Mendocino\")\n",
        "plt.plot(x, y_napa, marker='*', label = \"Napa\")\n",
        "plt.plot(x, y_nevada, marker='*', label = \"Nevada\")\n",
        "plt.legend()\n",
        "plt.title(\"TOP5 counties with the least increase(or decrease) in pop, employment_rate\")\n",
        "plt.xlabel(\"year\")\n",
        "plt.ylabel(\"employment_rate\")\n",
        "plt.ylim(0.2, 0.6)"
      ]
    },
    {
      "cell_type": "markdown",
      "metadata": {
        "id": "SmeQmhNup6OT"
      },
      "source": [
        "The line charts above illustrate that for all TOP 5 counties with the most increase in population, employment rates have been growing slowly but steadily. On the contrary, the employment rates in the TOP 5 counties with the least population growth have been fluctuating and very unstable."
      ]
    },
    {
      "cell_type": "markdown",
      "metadata": {
        "id": "BD0PIzvakY25"
      },
      "source": [
        "(5) demographic composition -- Race\n",
        "\n",
        "We choose asian, black, white, amerindian, other race to conduct our analysis."
      ]
    },
    {
      "cell_type": "code",
      "execution_count": null,
      "metadata": {
        "id": "CjFQpfc5kaNl",
        "vscode": {
          "languageId": "python"
        }
      },
      "outputs": [],
      "source": [
        "%%bigquery --project $project_id race_raw\n",
        "\n",
        "SELECT \n",
        "    do_date,counties.geo_id,counties.county_name,asian_pop, \n",
        "    black_pop, white_pop, amerindian_pop, other_race_pop\n",
        "FROM (\n",
        "    SELECT  \n",
        "        do_date,geo_id,asian_pop, black_pop, white_pop, amerindian_pop, other_race_pop\n",
        "    FROM  `bigquery-public-data.census_bureau_acs.county_2011_1yr` Y2011\n",
        "    union all\n",
        "    SELECT \n",
        "        do_date,geo_id,asian_pop, black_pop, white_pop, amerindian_pop, other_race_pop\n",
        "    from  `bigquery-public-data.census_bureau_acs.county_2012_1yr` Y2012\n",
        "    union all\n",
        "    SELECT \n",
        "        do_date,geo_id,asian_pop, black_pop, white_pop, amerindian_pop, other_race_pop\n",
        "    from  `bigquery-public-data.census_bureau_acs.county_2013_1yr` Y2013\n",
        "    union all\n",
        "    SELECT \n",
        "        do_date,geo_id,asian_pop, black_pop, white_pop, amerindian_pop, other_race_pop\n",
        "    from  `bigquery-public-data.census_bureau_acs.county_2014_1yr` Y2014\n",
        "    union all\n",
        "    SELECT \n",
        "        do_date,geo_id,asian_pop, black_pop, white_pop, amerindian_pop, other_race_pop\n",
        "    from  `bigquery-public-data.census_bureau_acs.county_2015_1yr` Y2015\n",
        "    union all\n",
        "    SELECT \n",
        "        do_date,geo_id,asian_pop, black_pop, white_pop, amerindian_pop, other_race_pop\n",
        "    from  `bigquery-public-data.census_bureau_acs.county_2016_1yr` Y2016\n",
        "    union all\n",
        "    SELECT  \n",
        "        do_date,geo_id,asian_pop, black_pop, white_pop, amerindian_pop, other_race_pop\n",
        "    from  `bigquery-public-data.census_bureau_acs.county_2017_1yr` Y2017\n",
        "    union all\n",
        "    SELECT \n",
        "        do_date,geo_id,asian_pop, black_pop, white_pop, amerindian_pop, other_race_pop\n",
        "    from  `bigquery-public-data.census_bureau_acs.county_2018_1yr` Y2018\n",
        "    ) Y2011_2018,\n",
        "    `bigquery-public-data.geo_us_boundaries.counties` counties\n",
        "WHERE counties.geo_id = Y2011_2018.geo_id\n",
        "AND counties.state_fips_code = \"06\"\n",
        "ORDER BY geo_id, do_date"
      ]
    },
    {
      "cell_type": "markdown",
      "metadata": {
        "id": "XIGONackllPM"
      },
      "source": [
        "We save the above view as `cs145-project3-331000.factor_analysis.race`"
      ]
    },
    {
      "cell_type": "code",
      "execution_count": null,
      "metadata": {
        "id": "7xY53RD3lX_7",
        "vscode": {
          "languageId": "python"
        }
      },
      "outputs": [],
      "source": [
        "%%bigquery --project $project_id race_pop_growth_rate\n",
        "\n",
        "SELECT t1.do_date, t1.geo_id,t1.county_name,\n",
        "    if(t2.total_black_pop = 0, 0, ROUND(t1.total_black_pop/t2.total_black_pop-1, 3)) AS black_pop_growth_rate,\n",
        "    if(t2.total_white_pop = 0, 0, ROUND(t1.total_white_pop/t2.total_white_pop-1, 3)) AS white_pop_growth_rate,\n",
        "    if(t2.total_asian_pop = 0, 0, ROUND(t1.total_asian_pop/t2.total_asian_pop-1, 3)) AS asian_pop_growth_rate,\n",
        "    if(t2.total_amerindian_pop = 0, 0, ROUND(t1.total_amerindian_pop/t2.total_amerindian_pop-1, 3)) AS amerindian_pop_growth_rate,\n",
        "    if(t2.total_other_race_pop = 0, 0, ROUND(t1.total_other_race_pop/t2.total_other_race_pop-1, 3)) AS other_race_pop_growth_rate,\n",
        "FROM \n",
        "     (SELECT \n",
        "      geo_id,\n",
        "      county_name,\n",
        "      do_date,\n",
        "      sum(asian_pop) as total_asian_pop,\n",
        "      sum(white_pop) as total_white_pop,\n",
        "      sum(amerindian_pop) as total_amerindian_pop,\n",
        "      sum(black_pop) as total_black_pop,\n",
        "      sum(other_race_pop) as total_other_race_pop\n",
        "  FROM `cs145-project3-331000.factor_analysis.race`\n",
        "  WHERE \n",
        "      asian_pop IS NOT NULL\n",
        "      AND white_pop IS NOT NULL\n",
        "      AND amerindian_pop IS NOT NULL\n",
        "      AND black_pop IS NOT NULL\n",
        "      AND other_race_pop IS NOT NULL\n",
        "  GROUP BY geo_id, county_name, do_date\n",
        "  ORDER BY county_name, do_date) t1, \n",
        "     (SELECT \n",
        "      geo_id,\n",
        "      county_name,\n",
        "      do_date,\n",
        "      sum(asian_pop) as total_asian_pop,\n",
        "      sum(white_pop) as total_white_pop,\n",
        "      sum(amerindian_pop) as total_amerindian_pop,\n",
        "      sum(black_pop) as total_black_pop,\n",
        "      sum(other_race_pop) as total_other_race_pop\n",
        "  FROM `cs145-project3-331000.factor_analysis.race`\n",
        "  WHERE \n",
        "      asian_pop IS NOT NULL\n",
        "      AND white_pop IS NOT NULL\n",
        "      AND amerindian_pop IS NOT NULL\n",
        "      AND black_pop IS NOT NULL\n",
        "      AND other_race_pop IS NOT NULL\n",
        "  GROUP BY geo_id, county_name, do_date\n",
        "  ORDER BY county_name, do_date) t2 \n",
        "WHERE CAST(t1.do_date AS INT) = CAST(t2.do_date AS INT) + 1\n",
        "    AND t1.geo_id = t2.geo_id\n",
        "ORDER BY t1.county_name, t1.do_date"
      ]
    },
    {
      "cell_type": "code",
      "execution_count": null,
      "metadata": {
        "colab": {
          "base_uri": "https://localhost:8080/",
          "height": 601
        },
        "id": "TIJGYBiAbcFl",
        "outputId": "8296bf1d-e225-4388-c3bf-de38bbe8d211",
        "vscode": {
          "languageId": "python"
        }
      },
      "outputs": [
        {
          "data": {
            "text/plain": [
              "Text(0.5, 0, 'year')"
            ]
          },
          "execution_count": 104,
          "metadata": {},
          "output_type": "execute_result"
        },
        {
          "data": {
            "text/plain": [
              "<Figure size 432x288 with 0 Axes>"
            ]
          },
          "metadata": {},
          "output_type": "display_data"
        },
        {
          "data": {
            "image/png": "[encoded data removed]",
            "text/plain": [
              "<Figure size 1152x648 with 5 Axes>"
            ]
          },
          "metadata": {},
          "output_type": "display_data"
        }
      ],
      "source": [
        "plt.figure()\n",
        "plt.figure(figsize=(16, 9))\n",
        "\n",
        "labels = race_pop_growth_rate[\"do_date\"][62:69]\n",
        "black_pop_growth_rate = race_pop_growth_rate[\"black_pop_growth_rate\"][62:69]\n",
        "white_pop_growth_rate = race_pop_growth_rate[\"white_pop_growth_rate\"][62:69]\n",
        "asian_pop_growth_rate = race_pop_growth_rate[\"asian_pop_growth_rate\"][62:69]\n",
        "amerindian_pop_growth_rate = race_pop_growth_rate[\"amerindian_pop_growth_rate\"][62:69]\n",
        "other_race_pop_growth_rate = race_pop_growth_rate[\"other_race_pop_growth_rate\"][62:69]\n",
        "\n",
        "plt.subplot(2, 3, 1)\n",
        "plt.bar(labels, black_pop_growth_rate)\n",
        "plt.title(\"Los Angeles black population growth rate\")\n",
        "plt.xlabel(\"year\")\n",
        "plt.ylabel(\"population growth rate\")\n",
        "\n",
        "plt.subplot(2, 3, 2)\n",
        "plt.bar(labels, white_pop_growth_rate)\n",
        "plt.title(\"Los Angeles white population growth rate\")\n",
        "plt.xlabel(\"year\")\n",
        "\n",
        "plt.subplot(2, 3, 3)\n",
        "plt.bar(labels, asian_pop_growth_rate)\n",
        "plt.title(\"Los Angeles asian population growth rate\")\n",
        "plt.xlabel(\"year\")\n",
        "\n",
        "plt.subplot(2, 3, 4)\n",
        "plt.bar(labels, amerindian_pop_growth_rate)\n",
        "plt.title(\"Los Angeles amerindian population growth rate\")\n",
        "plt.xlabel(\"year\")\n",
        "plt.ylabel(\"population growth rate\")\n",
        "\n",
        "plt.subplot(2, 3, 5)\n",
        "plt.bar(labels, other_race_pop_growth_rate)\n",
        "plt.title(\"Los Angeles other race population growth rate\")\n",
        "plt.xlabel(\"year\")"
      ]
    },
    {
      "cell_type": "markdown",
      "metadata": {
        "id": "-JWoDmDek4kk"
      },
      "source": [
        "In this part, we found that population growth rates of different races in different counties have been fluctuating in the past 8 years, so we did not find any typical change characteristics."
      ]
    },
    {
      "cell_type": "markdown",
      "metadata": {
        "id": "yS3AByhHtzYb"
      },
      "source": [
        "(6) demographic composition -- Family_households rate\n",
        "\n",
        "In this part, we are going to analyze the relationship between the family_households rate(family_households/households) and population growth in selected representative counties in California."
      ]
    },
    {
      "cell_type": "code",
      "execution_count": 24,
      "metadata": {
        "id": "5NZHQDpXuT35",
        "vscode": {
          "languageId": "python"
        }
      },
      "outputs": [],
      "source": [
        "%%bigquery --project $project_id factor_family_households\n",
        "SELECT \n",
        "    do_date,counties.geo_id,counties.county_name,family_households_rate \n",
        "FROM (\n",
        "    SELECT  \n",
        "        do_date,family_households/households AS family_households_rate, geo_id\n",
        "    FROM  `bigquery-public-data.census_bureau_acs.county_2011_1yr` Y2011\n",
        "    union all\n",
        "    SELECT \n",
        "        do_date,family_households/households AS family_households_rate,geo_id\n",
        "    from  `bigquery-public-data.census_bureau_acs.county_2012_1yr` Y2012\n",
        "    union all\n",
        "    SELECT \n",
        "        do_date,family_households/households AS family_households_rate,geo_id\n",
        "    from  `bigquery-public-data.census_bureau_acs.county_2013_1yr` Y2013\n",
        "    union all\n",
        "    SELECT \n",
        "        do_date,family_households/households AS family_households_rate,geo_id\n",
        "    from  `bigquery-public-data.census_bureau_acs.county_2014_1yr` Y2014\n",
        "    union all\n",
        "    SELECT \n",
        "        do_date,family_households/households AS family_households_rate,geo_id\n",
        "    from  `bigquery-public-data.census_bureau_acs.county_2015_1yr` Y2015\n",
        "    union all\n",
        "    SELECT \n",
        "        do_date,family_households/households AS family_households_rate,geo_id\n",
        "    from  `bigquery-public-data.census_bureau_acs.county_2016_1yr` Y2016\n",
        "    union all\n",
        "    SELECT  \n",
        "        do_date,family_households/households AS family_households_rate,geo_id\n",
        "    from  `bigquery-public-data.census_bureau_acs.county_2017_1yr` Y2017\n",
        "    union all\n",
        "    SELECT \n",
        "        do_date,family_households/households AS family_households_rate,geo_id\n",
        "    from  `bigquery-public-data.census_bureau_acs.county_2018_1yr` Y2018\n",
        "    ) Y2011_2018,\n",
        "    `bigquery-public-data.geo_us_boundaries.counties` counties\n",
        "WHERE counties.geo_id = Y2011_2018.geo_id\n",
        "AND counties.state_fips_code = \"06\"\n",
        "ORDER BY do_date"
      ]
    },
    {
      "cell_type": "markdown",
      "metadata": {
        "id": "0AgifSEx3hca"
      },
      "source": [
        "We save the above view as `cs145-project3-331000.factor_analysis.family_households`"
      ]
    },
    {
      "cell_type": "code",
      "execution_count": 25,
      "metadata": {
        "id": "CyEoVJdu3Gy3",
        "vscode": {
          "languageId": "python"
        }
      },
      "outputs": [],
      "source": [
        "%%bigquery --project $project_id family_households_most_increasePop\n",
        "SELECT family_households_rate, do_date, county_name\n",
        "FROM `cs145-project3-331000.factor_analysis.family_households`\n",
        "WHERE county_name = \"Riverside\"\n",
        "OR county_name = \"Orange\"\n",
        "OR county_name = \"Alameda\"\n",
        "OR county_name = \"San Diego\"\n",
        "OR county_name = \"Los Angeles\"\n",
        "ORDER BY county_name,do_date"
      ]
    },
    {
      "cell_type": "code",
      "execution_count": 26,
      "metadata": {
        "id": "HixTVlZp3miC",
        "vscode": {
          "languageId": "python"
        }
      },
      "outputs": [],
      "source": [
        "%%bigquery --project $project_id family_households_least_increasePop\n",
        "SELECT family_households_rate, do_date, county_name\n",
        "FROM `cs145-project3-331000.factor_analysis.family_households`\n",
        "WHERE county_name = \"Napa\"\n",
        "OR county_name = \"Nevada\"\n",
        "OR county_name = \"Lake\"\n",
        "OR county_name = \"Mendocino\"\n",
        "OR county_name = \"Kings\"\n",
        "ORDER BY county_name,do_date"
      ]
    },
    {
      "cell_type": "code",
      "execution_count": 29,
      "metadata": {
        "colab": {
          "base_uri": "https://localhost:8080/",
          "height": 330
        },
        "id": "ozl886E636lf",
        "outputId": "9a2d9929-d623-4b26-d85d-edfe24c29cc6",
        "vscode": {
          "languageId": "python"
        }
      },
      "outputs": [
        {
          "data": {
            "text/plain": [
              "(0.5, 0.85)"
            ]
          },
          "execution_count": 29,
          "metadata": {},
          "output_type": "execute_result"
        },
        {
          "data": {
            "text/plain": [
              "<Figure size 432x288 with 0 Axes>"
            ]
          },
          "metadata": {},
          "output_type": "display_data"
        },
        {
          "data": {
            "image/png": "[encoded data removed]",
            "text/plain": [
              "<Figure size 1152x288 with 2 Axes>"
            ]
          },
          "metadata": {
            "needs_background": "light"
          },
          "output_type": "display_data"
        }
      ],
      "source": [
        "plt.figure()\n",
        "plt.figure(figsize=(16, 4))\n",
        "plt.subplot(1, 2, 1)\n",
        "\n",
        "x = family_households_most_increasePop[\"do_date\"][0:8]\n",
        "y_Alameda = family_households_most_increasePop[\"family_households_rate\"][0:8]\n",
        "y_Los_Angeles = family_households_most_increasePop[\"family_households_rate\"][8:16]\n",
        "y_Orange = family_households_most_increasePop[\"family_households_rate\"][16:24]\n",
        "y_Riverside = family_households_most_increasePop[\"family_households_rate\"][24:32]\n",
        "y_San_Diego = family_households_most_increasePop[\"family_households_rate\"][32:40]\n",
        "plt.plot(x, y_Alameda, marker='*', label = \"Alameda\")\n",
        "plt.plot(x, y_Los_Angeles, marker='*', label = \"Los Angeles\")\n",
        "plt.plot(x, y_Orange, marker='*', label = \"Orange\")\n",
        "plt.plot(x, y_Riverside, marker='*', label = \"Riverside\")\n",
        "plt.plot(x, y_San_Diego, marker='*', label = \"San Diego\")\n",
        "plt.legend()\n",
        "plt.title(\"TOP5 counties with the most increase in pop, family_households_rate\")\n",
        "plt.xlabel(\"year\")\n",
        "plt.ylabel(\"family_households_rate\")\n",
        "plt.ylim(0.5, 0.85)\n",
        "\n",
        "plt.subplot(1, 2, 2)\n",
        "x = family_households_least_increasePop[\"do_date\"][0:8]\n",
        "y_kings = family_households_least_increasePop[\"family_households_rate\"][0:8]\n",
        "y_lake = family_households_least_increasePop[\"family_households_rate\"][8:16]\n",
        "y_mendocino = family_households_least_increasePop[\"family_households_rate\"][16:24]\n",
        "y_napa = family_households_least_increasePop[\"family_households_rate\"][24:32]\n",
        "y_nevada = family_households_least_increasePop[\"family_households_rate\"][32:40]\n",
        "\n",
        "plt.plot(x, y_kings, marker='*', label = \"Kings\")\n",
        "plt.plot(x, y_lake, marker='*', label = \"lake\")\n",
        "plt.plot(x, y_mendocino, marker='*', label = \"Mendocino\")\n",
        "plt.plot(x, y_napa, marker='*', label = \"Napa\")\n",
        "plt.plot(x, y_nevada, marker='*', label = \"Nevada\")\n",
        "plt.legend()\n",
        "plt.title(\"TOP5 counties with the least increase(or decrease) in pop, family_households_rate\")\n",
        "plt.xlabel(\"year\")\n",
        "plt.ylabel(\"family_households_rate\")\n",
        "plt.ylim(0.5, 0.85)"
      ]
    },
    {
      "cell_type": "markdown",
      "metadata": {
        "id": "MbsC-LI_4-IN"
      },
      "source": [
        "As is shown in the above charts, the family_households rates in the TOP 5 counties with the most population growth remain stable whereas those in the TOP 5 counties with the least population growth fluctuated greatly during the study period. "
      ]
    },
    {
      "cell_type": "markdown",
      "metadata": {
        "id": "NhFSJifsiC1U"
      },
      "source": [
        "## Data Prediction"
      ]
    },
    {
      "cell_type": "code",
      "execution_count": 33,
      "metadata": {
        "id": "YCtflTzrCT6a",
        "vscode": {
          "languageId": "python"
        }
      },
      "outputs": [],
      "source": [
        "%%bigquery --project $project_id cal_all\n",
        "\n",
        "SELECT zip_code, county, city, do_date, geo_id, total_pop, income_less_10000, income_10000_14999,income_15000_19999,income_20000_24999,income_25000_29999,\n",
        "        income_30000_34999,income_35000_39999,income_40000_44999,income_45000_49999,income_50000_59999,income_60000_74999,income_75000_99999,\n",
        "        income_100000_124999,income_125000_149999,income_150000_199999,income_200000_or_more, median_age, bachelors_degree_or_higher_25_64, pop_25_64,\n",
        "        percent_income_spent_on_rent, family_households, households, employed_pop\n",
        "FROM (\n",
        "    SELECT  \n",
        "        do_date, geo_id, total_pop, income_less_10000, income_10000_14999,income_15000_19999,income_20000_24999,income_25000_29999,\n",
        "        income_30000_34999,income_35000_39999,income_40000_44999,income_45000_49999,income_50000_59999,income_60000_74999,income_75000_99999,\n",
        "        income_100000_124999,income_125000_149999,income_150000_199999,income_200000_or_more, median_age, bachelors_degree_or_higher_25_64, pop_25_64,\n",
        "        percent_income_spent_on_rent, family_households, households, employed_pop\n",
        "    FROM  `bigquery-public-data.census_bureau_acs.zip_codes_2011_5yr` Y2011\n",
        "    union all\n",
        "    SELECT \n",
        "        do_date, geo_id, total_pop, income_less_10000, income_10000_14999,income_15000_19999,income_20000_24999,income_25000_29999,\n",
        "        income_30000_34999,income_35000_39999,income_40000_44999,income_45000_49999,income_50000_59999,income_60000_74999,income_75000_99999,\n",
        "        income_100000_124999,income_125000_149999,income_150000_199999,income_200000_or_more, median_age, bachelors_degree_or_higher_25_64, pop_25_64,\n",
        "        percent_income_spent_on_rent, family_households, households, employed_pop\n",
        "    from  `bigquery-public-data.census_bureau_acs.zip_codes_2012_5yr` Y2012\n",
        "    union all\n",
        "    SELECT \n",
        "        do_date, geo_id, total_pop, income_less_10000, income_10000_14999,income_15000_19999,income_20000_24999,income_25000_29999,\n",
        "    income_30000_34999,income_35000_39999,income_40000_44999,income_45000_49999,income_50000_59999,income_60000_74999,income_75000_99999,\n",
        "    income_100000_124999,income_125000_149999,income_150000_199999,income_200000_or_more, median_age, bachelors_degree_or_higher_25_64, pop_25_64,\n",
        "    percent_income_spent_on_rent, family_households, households, employed_pop\n",
        "    from  `bigquery-public-data.census_bureau_acs.zip_codes_2013_5yr` Y2013\n",
        "    union all\n",
        "    SELECT \n",
        "        do_date, geo_id, total_pop, income_less_10000, income_10000_14999,income_15000_19999,income_20000_24999,income_25000_29999,\n",
        "    income_30000_34999,income_35000_39999,income_40000_44999,income_45000_49999,income_50000_59999,income_60000_74999,income_75000_99999,\n",
        "    income_100000_124999,income_125000_149999,income_150000_199999,income_200000_or_more, median_age, bachelors_degree_or_higher_25_64, pop_25_64,\n",
        "    percent_income_spent_on_rent, family_households, households, employed_pop\n",
        "    from  `bigquery-public-data.census_bureau_acs.zip_codes_2014_5yr` Y2014\n",
        "    union all\n",
        "    SELECT \n",
        "        do_date, geo_id, total_pop, income_less_10000, income_10000_14999,income_15000_19999,income_20000_24999,income_25000_29999,\n",
        "    income_30000_34999,income_35000_39999,income_40000_44999,income_45000_49999,income_50000_59999,income_60000_74999,income_75000_99999,\n",
        "    income_100000_124999,income_125000_149999,income_150000_199999,income_200000_or_more, median_age, bachelors_degree_or_higher_25_64, pop_25_64,\n",
        "    percent_income_spent_on_rent, family_households, households, employed_pop\n",
        "    from  `bigquery-public-data.census_bureau_acs.zip_codes_2015_5yr` Y2015\n",
        "    union all\n",
        "    SELECT \n",
        "        do_date, geo_id, total_pop, income_less_10000, income_10000_14999,income_15000_19999,income_20000_24999,income_25000_29999,\n",
        "    income_30000_34999,income_35000_39999,income_40000_44999,income_45000_49999,income_50000_59999,income_60000_74999,income_75000_99999,\n",
        "    income_100000_124999,income_125000_149999,income_150000_199999,income_200000_or_more, median_age, bachelors_degree_or_higher_25_64, pop_25_64,\n",
        "    percent_income_spent_on_rent, family_households, households, employed_pop\n",
        "    from  `bigquery-public-data.census_bureau_acs.zip_codes_2016_5yr` Y2016\n",
        "    union all\n",
        "    SELECT  \n",
        "        do_date, geo_id, total_pop, income_less_10000, income_10000_14999,income_15000_19999,income_20000_24999,income_25000_29999,\n",
        "    income_30000_34999,income_35000_39999,income_40000_44999,income_45000_49999,income_50000_59999,income_60000_74999,income_75000_99999,\n",
        "    income_100000_124999,income_125000_149999,income_150000_199999,income_200000_or_more, median_age, bachelors_degree_or_higher_25_64, pop_25_64,\n",
        "    percent_income_spent_on_rent, family_households, households, employed_pop\n",
        "    from  `bigquery-public-data.census_bureau_acs.zip_codes_2017_5yr` Y2017\n",
        "    union all\n",
        "    SELECT \n",
        "        CAST(do_date AS string), geo_id, total_pop, income_less_10000, income_10000_14999,income_15000_19999,income_20000_24999,income_25000_29999,\n",
        "    income_30000_34999,income_35000_39999,income_40000_44999,income_45000_49999,income_50000_59999,income_60000_74999,income_75000_99999,\n",
        "    income_100000_124999,income_125000_149999,income_150000_199999,income_200000_or_more, median_age, bachelors_degree_or_higher_25_64, pop_25_64,\n",
        "    percent_income_spent_on_rent, family_households, households, employed_pop\n",
        "    from  `bigquery-public-data.census_bureau_acs.zip_codes_2018_5yr` Y2018\n",
        "    ) Y2011_2018,\n",
        "    `bigquery-public-data.geo_us_boundaries.zip_codes` zip_codes\n",
        "WHERE zip_codes.zip_code = Y2011_2018.geo_id\n",
        "AND zip_codes.state_fips_code = \"06\"\n",
        "ORDER BY do_date"
      ]
    },
    {
      "cell_type": "markdown",
      "metadata": {
        "id": "gYx0fDY-Cbea"
      },
      "source": [
        "we saved the above view as cs145-project3-331000.factor_analysis.zipcode_allFactors"
      ]
    },
    {
      "cell_type": "code",
      "execution_count": 34,
      "metadata": {
        "id": "759B7-r8C0tw",
        "vscode": {
          "languageId": "python"
        }
      },
      "outputs": [],
      "source": [
        "%%bigquery --project $project_id all_urban_zipcode\n",
        "\n",
        "SELECT \n",
        "  distinct(urban_area_code), all_area.zip_code, lsad_name\n",
        "FROM \n",
        "  `bigquery-public-data.geo_us_boundaries.urban_areas` area,\n",
        "  `cs145-project3-331000.factor_analysis.zipcode_all_factors` all_area,\n",
        "  `bigquery-public-data.geo_us_boundaries.zip_codes` zipcodes\n",
        "WHERE \n",
        "  ST_CONTAINS(area.urban_area_geom, zipcodes.internal_point_geom)\n",
        "  AND zipcodes.zip_code = all_area.zip_code\n",
        "ORDER BY zip_code, urban_area_code"
      ]
    },
    {
      "cell_type": "markdown",
      "metadata": {
        "id": "5D6vakVTJPZu"
      },
      "source": [
        "we save the above view as `cs145-project3-331000.factor_analysis.urban_zip`"
      ]
    },
    {
      "cell_type": "markdown",
      "metadata": {
        "id": "6dFXnDW0HYiU"
      },
      "source": [
        "The above table includes all zipcodes in the urban area. When we are building a model, if a zipcode belongs to an urban area, it is 1; otherwise, it is 0."
      ]
    },
    {
      "cell_type": "markdown",
      "metadata": {
        "id": "UBd33mJoeYZW"
      },
      "source": [
        "**Extract training data:**"
      ]
    },
    {
      "cell_type": "code",
      "execution_count": 58,
      "metadata": {
        "id": "AqMjc-EWHoPk",
        "vscode": {
          "languageId": "python"
        }
      },
      "outputs": [],
      "source": [
        "%%bigquery --project $project_id factors\n",
        "\n",
        "SELECT \n",
        "    zip_code,\n",
        "    year + 4 AS do_year,\n",
        "    age_growth_rate AS F_medianAge_growth,\n",
        "    (CASE WHEN population.pop_growth_rate < 0 THEN 1\n",
        "    WHEN population.pop_growth_rate BETWEEN 0 AND 0.1 THEN 2\n",
        "    WHEN population.pop_growth_rate > 0.1 THEN 3\n",
        "    END) AS label,\n",
        "    ROUND((income_less_10000 + income_10000_14999 + income_15000_19999 + income_20000_24999 + income_30000_34999 +\n",
        "    income_35000_39999) / (income_100000_124999 + income_125000_149999 + income_150000_199999 + income_200000_or_more),3) AS F_low_high_income_ratio,\n",
        "    ROUND((bachelors_degree_or_higher_25_64 / pop_25_64),3) AS F_advanced_education_rate,\n",
        "    ROUND((family_households / households),3) AS F_family_households_rate,\n",
        "    percent_income_spent_on_rent AS F_house_rent,\n",
        "    ROUND((employed_pop / total_pop),3) AS F_employment_rate,\n",
        "    IF(zip_code IN \n",
        "    (SELECT zip_code FROM `cs145-project3-331000.factor_analysis.urban_zip`), 1, 0) AS F_urban\n",
        "FROM \n",
        "    `cs145-project3-331000.factor_analysis.zipcode_allFactors` all_factor,\n",
        "    (   SELECT t1.year, t1.geo_id,\n",
        "            if(t2.total_pop = 0, 1, ROUND(t1.total_pop/t2.total_pop-1, 3)) AS pop_growth_rate,\n",
        "            ROUND(t1.median_age/t2.median_age-1, 3) AS age_growth_rate,\n",
        "        FROM  \n",
        "        (SELECT (CAST(substr(CAST(do_date AS string), 1, 4) AS INT) + 4) AS year, *\n",
        "            FROM `cs145-project3-331000.factor_analysis.all_zipcode_all_factor`) t1, \n",
        "        (SELECT (CAST(substr(CAST(do_date AS string), 1, 4) AS INT) + 4) AS year, *\n",
        "            FROM `cs145-project3-331000.factor_analysis.all_zipcode_all_factor`) t2 \n",
        "        WHERE CAST(t1.year AS INT) = CAST(t2.year AS INT) + 1\n",
        "            AND t1.geo_id = t2.geo_id) population\n",
        "WHERE pop_25_64 <> 0 \n",
        "    AND (income_100000_124999 + income_125000_149999 + income_150000_199999 + income_200000_or_more) <> 0\n",
        "    AND population.geo_id = all_factor.geo_id\n",
        "    AND CAST(population.year AS STRING) like CAST(substr(CAST(do_date AS string), 1, 4) AS STRING)\n",
        "ORDER BY label, zip_code, do_date, pop_growth_rate\n",
        "LIMIT 10"
      ]
    },
    {
      "cell_type": "code",
      "execution_count": 59,
      "metadata": {
        "colab": {
          "base_uri": "https://localhost:8080/",
          "height": 383
        },
        "id": "vPG9POCwPYkY",
        "outputId": "ce5c4daf-1bc9-462e-e5b5-1110efbcd00b",
        "vscode": {
          "languageId": "python"
        }
      },
      "outputs": [
        {
          "data": {
            "text/html": [
              "<div>\n",
              "<style scoped>\n",
              "    .dataframe tbody tr th:only-of-type {\n",
              "        vertical-align: middle;\n",
              "    }\n",
              "\n",
              "    .dataframe tbody tr th {\n",
              "        vertical-align: top;\n",
              "    }\n",
              "\n",
              "    .dataframe thead th {\n",
              "        text-align: right;\n",
              "    }\n",
              "</style>\n",
              "<table border=\"1\" class=\"dataframe\">\n",
              "  <thead>\n",
              "    <tr style=\"text-align: right;\">\n",
              "      <th></th>\n",
              "      <th>zip_code</th>\n",
              "      <th>do_year</th>\n",
              "      <th>F_medianAge_growth</th>\n",
              "      <th>label</th>\n",
              "      <th>F_low_high_income_ratio</th>\n",
              "      <th>F_advanced_education_rate</th>\n",
              "      <th>F_family_households_rate</th>\n",
              "      <th>F_house_rent</th>\n",
              "      <th>F_employment_rate</th>\n",
              "      <th>F_urban</th>\n",
              "    </tr>\n",
              "  </thead>\n",
              "  <tbody>\n",
              "    <tr>\n",
              "      <th>0</th>\n",
              "      <td>90001</td>\n",
              "      <td>2016</td>\n",
              "      <td>-0.004</td>\n",
              "      <td>1</td>\n",
              "      <td>6.589</td>\n",
              "      <td>0.045</td>\n",
              "      <td>0.837</td>\n",
              "      <td>42.0</td>\n",
              "      <td>0.390</td>\n",
              "      <td>1</td>\n",
              "    </tr>\n",
              "    <tr>\n",
              "      <th>1</th>\n",
              "      <td>90003</td>\n",
              "      <td>2017</td>\n",
              "      <td>-0.011</td>\n",
              "      <td>1</td>\n",
              "      <td>6.854</td>\n",
              "      <td>0.055</td>\n",
              "      <td>0.807</td>\n",
              "      <td>48.8</td>\n",
              "      <td>0.380</td>\n",
              "      <td>1</td>\n",
              "    </tr>\n",
              "    <tr>\n",
              "      <th>2</th>\n",
              "      <td>90004</td>\n",
              "      <td>2016</td>\n",
              "      <td>0.017</td>\n",
              "      <td>1</td>\n",
              "      <td>2.061</td>\n",
              "      <td>0.344</td>\n",
              "      <td>0.597</td>\n",
              "      <td>34.1</td>\n",
              "      <td>0.527</td>\n",
              "      <td>1</td>\n",
              "    </tr>\n",
              "    <tr>\n",
              "      <th>3</th>\n",
              "      <td>90004</td>\n",
              "      <td>2017</td>\n",
              "      <td>0.008</td>\n",
              "      <td>1</td>\n",
              "      <td>1.758</td>\n",
              "      <td>0.344</td>\n",
              "      <td>0.585</td>\n",
              "      <td>33.8</td>\n",
              "      <td>0.546</td>\n",
              "      <td>1</td>\n",
              "    </tr>\n",
              "    <tr>\n",
              "      <th>4</th>\n",
              "      <td>90005</td>\n",
              "      <td>2016</td>\n",
              "      <td>0.009</td>\n",
              "      <td>1</td>\n",
              "      <td>6.757</td>\n",
              "      <td>0.292</td>\n",
              "      <td>0.527</td>\n",
              "      <td>37.6</td>\n",
              "      <td>0.530</td>\n",
              "      <td>1</td>\n",
              "    </tr>\n",
              "    <tr>\n",
              "      <th>5</th>\n",
              "      <td>90005</td>\n",
              "      <td>2017</td>\n",
              "      <td>-0.006</td>\n",
              "      <td>1</td>\n",
              "      <td>5.350</td>\n",
              "      <td>0.322</td>\n",
              "      <td>0.502</td>\n",
              "      <td>37.3</td>\n",
              "      <td>0.542</td>\n",
              "      <td>1</td>\n",
              "    </tr>\n",
              "    <tr>\n",
              "      <th>6</th>\n",
              "      <td>90005</td>\n",
              "      <td>2018</td>\n",
              "      <td>0.006</td>\n",
              "      <td>1</td>\n",
              "      <td>4.618</td>\n",
              "      <td>0.323</td>\n",
              "      <td>0.497</td>\n",
              "      <td>37.5</td>\n",
              "      <td>0.545</td>\n",
              "      <td>1</td>\n",
              "    </tr>\n",
              "    <tr>\n",
              "      <th>7</th>\n",
              "      <td>90007</td>\n",
              "      <td>2017</td>\n",
              "      <td>0.009</td>\n",
              "      <td>1</td>\n",
              "      <td>10.268</td>\n",
              "      <td>0.281</td>\n",
              "      <td>0.474</td>\n",
              "      <td>46.0</td>\n",
              "      <td>0.397</td>\n",
              "      <td>1</td>\n",
              "    </tr>\n",
              "    <tr>\n",
              "      <th>8</th>\n",
              "      <td>90008</td>\n",
              "      <td>2016</td>\n",
              "      <td>0.013</td>\n",
              "      <td>1</td>\n",
              "      <td>2.547</td>\n",
              "      <td>0.269</td>\n",
              "      <td>0.478</td>\n",
              "      <td>42.7</td>\n",
              "      <td>0.448</td>\n",
              "      <td>1</td>\n",
              "    </tr>\n",
              "    <tr>\n",
              "      <th>9</th>\n",
              "      <td>90008</td>\n",
              "      <td>2017</td>\n",
              "      <td>0.013</td>\n",
              "      <td>1</td>\n",
              "      <td>2.731</td>\n",
              "      <td>0.282</td>\n",
              "      <td>0.465</td>\n",
              "      <td>43.6</td>\n",
              "      <td>0.448</td>\n",
              "      <td>1</td>\n",
              "    </tr>\n",
              "  </tbody>\n",
              "</table>\n",
              "</div>"
            ],
            "text/plain": [
              "  zip_code  do_year  ...  F_employment_rate  F_urban\n",
              "0    90001     2016  ...              0.390        1\n",
              "1    90003     2017  ...              0.380        1\n",
              "2    90004     2016  ...              0.527        1\n",
              "3    90004     2017  ...              0.546        1\n",
              "4    90005     2016  ...              0.530        1\n",
              "5    90005     2017  ...              0.542        1\n",
              "6    90005     2018  ...              0.545        1\n",
              "7    90007     2017  ...              0.397        1\n",
              "8    90008     2016  ...              0.448        1\n",
              "9    90008     2017  ...              0.448        1\n",
              "\n",
              "[10 rows x 10 columns]"
            ]
          },
          "execution_count": 59,
          "metadata": {},
          "output_type": "execute_result"
        }
      ],
      "source": [
        "factors"
      ]
    },
    {
      "cell_type": "markdown",
      "metadata": {
        "id": "Zcyc8zn85UCM"
      },
      "source": [
        "---\n",
        "\n",
        "*Logistic Regression*\n",
        "\n",
        "---"
      ]
    },
    {
      "cell_type": "markdown",
      "metadata": {
        "id": "BpH-z3sYd9pE"
      },
      "source": [
        " **Training**"
      ]
    },
    {
      "cell_type": "code",
      "execution_count": 67,
      "metadata": {
        "id": "vOsK8fiw-Apw",
        "vscode": {
          "languageId": "python"
        }
      },
      "outputs": [],
      "source": [
        "%%bigquery --project $project_id training_model1\n",
        "\n",
        "CREATE OR REPLACE MODEL `cs145-project3-331000.ml_pop.population_change` \n",
        "OPTIONS(model_type='logistic_reg') AS \n",
        "SELECT \n",
        "    zip_code,\n",
        "    year + 4 AS do_year,\n",
        "    age_growth_rate AS F_medianAge_growth,\n",
        "    (CASE WHEN population.pop_growth_rate < 0 THEN 1\n",
        "    WHEN population.pop_growth_rate BETWEEN 0 AND 0.1 THEN 2\n",
        "    WHEN population.pop_growth_rate > 0.1 THEN 3\n",
        "    END) AS label,\n",
        "    ROUND((income_less_10000 + income_10000_14999 + income_15000_19999 + income_20000_24999 + income_30000_34999 +\n",
        "    income_35000_39999) / (income_100000_124999 + income_125000_149999 + income_150000_199999 + income_200000_or_more),3) AS F_low_high_income_ratio,\n",
        "    ROUND((bachelors_degree_or_higher_25_64 / pop_25_64),3) AS F_advanced_education_rate,\n",
        "    ROUND((family_households / households),3) AS F_family_households_rate,\n",
        "    percent_income_spent_on_rent AS F_house_rent,\n",
        "    ROUND((employed_pop / total_pop),3) AS F_employment_rate,\n",
        "    IF(zip_code IN \n",
        "    (SELECT zip_code FROM `cs145-project3-331000.factor_analysis.urban_zip`), 1, 0) AS F_urban\n",
        "FROM \n",
        "    `cs145-project3-331000.factor_analysis.zipcode_allFactors` all_factor,\n",
        "    (   SELECT t1.year, t1.geo_id,\n",
        "            if(t2.total_pop = 0, 1, ROUND(t1.total_pop/t2.total_pop-1, 3)) AS pop_growth_rate,\n",
        "            ROUND(t1.median_age/t2.median_age-1, 3) AS age_growth_rate,\n",
        "        FROM  \n",
        "        (SELECT (CAST(substr(CAST(do_date AS string), 1, 4) AS INT) + 4) AS year, *\n",
        "            FROM `cs145-project3-331000.factor_analysis.all_zipcode_all_factor`) t1, \n",
        "        (SELECT (CAST(substr(CAST(do_date AS string), 1, 4) AS INT) + 4) AS year, *\n",
        "            FROM `cs145-project3-331000.factor_analysis.all_zipcode_all_factor`) t2 \n",
        "        WHERE CAST(t1.year AS INT) = CAST(t2.year AS INT) + 1\n",
        "            AND t1.geo_id = t2.geo_id) population\n",
        "WHERE pop_25_64 <> 0 \n",
        "    AND (income_100000_124999 + income_125000_149999 + income_150000_199999 + income_200000_or_more) <> 0\n",
        "    AND population.geo_id = all_factor.geo_id\n",
        "    AND CAST(population.year AS STRING) like CAST(substr(CAST(do_date AS string), 1, 4) AS STRING)\n",
        "    AND year <= 2012"
      ]
    },
    {
      "cell_type": "code",
      "execution_count": 68,
      "metadata": {
        "id": "dQ-Wm0Izhcrl",
        "vscode": {
          "languageId": "python"
        }
      },
      "outputs": [],
      "source": [
        "%%bigquery --project $project_id training_stats\n",
        "\n",
        "# Run cell to view training stats\n",
        "\n",
        "SELECT\n",
        "  *\n",
        "FROM\n",
        "  ML.TRAINING_INFO(MODEL `cs145-project3-331000.ml_pop.population_change`)"
      ]
    },
    {
      "cell_type": "code",
      "execution_count": 71,
      "metadata": {
        "colab": {
          "base_uri": "https://localhost:8080/",
          "height": 269
        },
        "id": "2KF6QyP52vDw",
        "outputId": "2cbd9369-e323-4693-b914-d9e32740f91d",
        "vscode": {
          "languageId": "python"
        }
      },
      "outputs": [
        {
          "data": {
            "text/html": [
              "<div>\n",
              "<style scoped>\n",
              "    .dataframe tbody tr th:only-of-type {\n",
              "        vertical-align: middle;\n",
              "    }\n",
              "\n",
              "    .dataframe tbody tr th {\n",
              "        vertical-align: top;\n",
              "    }\n",
              "\n",
              "    .dataframe thead th {\n",
              "        text-align: right;\n",
              "    }\n",
              "</style>\n",
              "<table border=\"1\" class=\"dataframe\">\n",
              "  <thead>\n",
              "    <tr style=\"text-align: right;\">\n",
              "      <th></th>\n",
              "      <th>training_run</th>\n",
              "      <th>iteration</th>\n",
              "      <th>loss</th>\n",
              "      <th>eval_loss</th>\n",
              "      <th>learning_rate</th>\n",
              "      <th>duration_ms</th>\n",
              "    </tr>\n",
              "  </thead>\n",
              "  <tbody>\n",
              "    <tr>\n",
              "      <th>0</th>\n",
              "      <td>0</td>\n",
              "      <td>6</td>\n",
              "      <td>0.005552</td>\n",
              "      <td>0.295988</td>\n",
              "      <td>12.8</td>\n",
              "      <td>6588</td>\n",
              "    </tr>\n",
              "    <tr>\n",
              "      <th>1</th>\n",
              "      <td>0</td>\n",
              "      <td>5</td>\n",
              "      <td>0.011689</td>\n",
              "      <td>0.297519</td>\n",
              "      <td>6.4</td>\n",
              "      <td>7319</td>\n",
              "    </tr>\n",
              "    <tr>\n",
              "      <th>2</th>\n",
              "      <td>0</td>\n",
              "      <td>4</td>\n",
              "      <td>0.025909</td>\n",
              "      <td>0.301924</td>\n",
              "      <td>3.2</td>\n",
              "      <td>6636</td>\n",
              "    </tr>\n",
              "    <tr>\n",
              "      <th>3</th>\n",
              "      <td>0</td>\n",
              "      <td>3</td>\n",
              "      <td>0.061426</td>\n",
              "      <td>0.309852</td>\n",
              "      <td>1.6</td>\n",
              "      <td>5585</td>\n",
              "    </tr>\n",
              "    <tr>\n",
              "      <th>4</th>\n",
              "      <td>0</td>\n",
              "      <td>2</td>\n",
              "      <td>0.135205</td>\n",
              "      <td>0.323202</td>\n",
              "      <td>0.8</td>\n",
              "      <td>5971</td>\n",
              "    </tr>\n",
              "    <tr>\n",
              "      <th>5</th>\n",
              "      <td>0</td>\n",
              "      <td>1</td>\n",
              "      <td>0.231441</td>\n",
              "      <td>0.340746</td>\n",
              "      <td>0.4</td>\n",
              "      <td>5086</td>\n",
              "    </tr>\n",
              "    <tr>\n",
              "      <th>6</th>\n",
              "      <td>0</td>\n",
              "      <td>0</td>\n",
              "      <td>0.313222</td>\n",
              "      <td>0.356070</td>\n",
              "      <td>0.2</td>\n",
              "      <td>5008</td>\n",
              "    </tr>\n",
              "  </tbody>\n",
              "</table>\n",
              "</div>"
            ],
            "text/plain": [
              "   training_run  iteration      loss  eval_loss  learning_rate  duration_ms\n",
              "0             0          6  0.005552   0.295988           12.8         6588\n",
              "1             0          5  0.011689   0.297519            6.4         7319\n",
              "2             0          4  0.025909   0.301924            3.2         6636\n",
              "3             0          3  0.061426   0.309852            1.6         5585\n",
              "4             0          2  0.135205   0.323202            0.8         5971\n",
              "5             0          1  0.231441   0.340746            0.4         5086\n",
              "6             0          0  0.313222   0.356070            0.2         5008"
            ]
          },
          "execution_count": 71,
          "metadata": {},
          "output_type": "execute_result"
        }
      ],
      "source": [
        "training_stats"
      ]
    },
    {
      "cell_type": "markdown",
      "metadata": {
        "id": "KN64afzdhwho"
      },
      "source": [
        "**Evaluation**"
      ]
    },
    {
      "cell_type": "code",
      "execution_count": 69,
      "metadata": {
        "id": "RVEn2Fc3h0oA",
        "vscode": {
          "languageId": "python"
        }
      },
      "outputs": [],
      "source": [
        "%%bigquery --project $project_id evaluation_model1\n",
        "SELECT\n",
        "  *\n",
        "FROM\n",
        "  ML.EVALUATE(MODEL `cs145-project3-331000.ml_pop.population_change`, (\n",
        "    SELECT \n",
        "    zip_code,\n",
        "    year + 4 AS do_year,\n",
        "    age_growth_rate AS F_medianAge_growth,\n",
        "    (CASE WHEN population.pop_growth_rate < 0 THEN 1\n",
        "    WHEN population.pop_growth_rate BETWEEN 0 AND 0.1 THEN 2\n",
        "    WHEN population.pop_growth_rate > 0.1 THEN 3\n",
        "    END) AS label,\n",
        "    ROUND((income_less_10000 + income_10000_14999 + income_15000_19999 + income_20000_24999 + income_30000_34999 +\n",
        "    income_35000_39999) / (income_100000_124999 + income_125000_149999 + income_150000_199999 + income_200000_or_more),3) AS F_low_high_income_ratio,\n",
        "    ROUND((bachelors_degree_or_higher_25_64 / pop_25_64),3) AS F_advanced_education_rate,\n",
        "    ROUND((family_households / households),3) AS F_family_households_rate,\n",
        "    percent_income_spent_on_rent AS F_house_rent,\n",
        "    ROUND((employed_pop / total_pop),3) AS F_employment_rate,\n",
        "    IF(zip_code IN \n",
        "    (SELECT zip_code FROM `cs145-project3-331000.factor_analysis.urban_zip`), 1, 0) AS F_urban\n",
        "FROM \n",
        "    `cs145-project3-331000.factor_analysis.zipcode_allFactors` all_factor,\n",
        "    (   SELECT t1.year, t1.geo_id,\n",
        "            if(t2.total_pop = 0, 1, ROUND(t1.total_pop/t2.total_pop-1, 3)) AS pop_growth_rate,\n",
        "            ROUND(t1.median_age/t2.median_age-1, 3) AS age_growth_rate,\n",
        "        FROM  \n",
        "        (SELECT (CAST(substr(CAST(do_date AS string), 1, 4) AS INT) + 4) AS year, *\n",
        "            FROM `cs145-project3-331000.factor_analysis.all_zipcode_all_factor`) t1, \n",
        "        (SELECT (CAST(substr(CAST(do_date AS string), 1, 4) AS INT) + 4) AS year, *\n",
        "            FROM `cs145-project3-331000.factor_analysis.all_zipcode_all_factor`) t2 \n",
        "        WHERE CAST(t1.year AS INT) = CAST(t2.year AS INT) + 1\n",
        "            AND t1.geo_id = t2.geo_id) population\n",
        "WHERE pop_25_64 <> 0 \n",
        "    AND (income_100000_124999 + income_125000_149999 + income_150000_199999 + income_200000_or_more) <> 0\n",
        "    AND population.geo_id = all_factor.geo_id\n",
        "    AND CAST(population.year AS STRING) like CAST(substr(CAST(do_date AS string), 1, 4) AS STRING)\n",
        "    AND year = 2013))"
      ]
    },
    {
      "cell_type": "code",
      "execution_count": 72,
      "metadata": {
        "colab": {
          "base_uri": "https://localhost:8080/",
          "height": 81
        },
        "id": "0zSlL7Gz20mm",
        "outputId": "332b19e8-8787-434a-d454-424313d6e236",
        "vscode": {
          "languageId": "python"
        }
      },
      "outputs": [
        {
          "data": {
            "text/html": [
              "<div>\n",
              "<style scoped>\n",
              "    .dataframe tbody tr th:only-of-type {\n",
              "        vertical-align: middle;\n",
              "    }\n",
              "\n",
              "    .dataframe tbody tr th {\n",
              "        vertical-align: top;\n",
              "    }\n",
              "\n",
              "    .dataframe thead th {\n",
              "        text-align: right;\n",
              "    }\n",
              "</style>\n",
              "<table border=\"1\" class=\"dataframe\">\n",
              "  <thead>\n",
              "    <tr style=\"text-align: right;\">\n",
              "      <th></th>\n",
              "      <th>precision</th>\n",
              "      <th>recall</th>\n",
              "      <th>accuracy</th>\n",
              "      <th>f1_score</th>\n",
              "      <th>log_loss</th>\n",
              "      <th>roc_auc</th>\n",
              "    </tr>\n",
              "  </thead>\n",
              "  <tbody>\n",
              "    <tr>\n",
              "      <th>0</th>\n",
              "      <td>0.447565</td>\n",
              "      <td>0.434212</td>\n",
              "      <td>0.562159</td>\n",
              "      <td>0.438911</td>\n",
              "      <td>2.311251</td>\n",
              "      <td>0.648219</td>\n",
              "    </tr>\n",
              "  </tbody>\n",
              "</table>\n",
              "</div>"
            ],
            "text/plain": [
              "   precision    recall  accuracy  f1_score  log_loss   roc_auc\n",
              "0   0.447565  0.434212  0.562159  0.438911  2.311251  0.648219"
            ]
          },
          "execution_count": 72,
          "metadata": {},
          "output_type": "execute_result"
        }
      ],
      "source": [
        "evaluation_model1"
      ]
    },
    {
      "cell_type": "markdown",
      "metadata": {
        "id": "eUBJQ6oMla4I"
      },
      "source": [
        "**Prediction**"
      ]
    },
    {
      "cell_type": "code",
      "execution_count": 70,
      "metadata": {
        "id": "lmfjMfnAldt-",
        "vscode": {
          "languageId": "python"
        }
      },
      "outputs": [],
      "source": [
        "%%bigquery --project $project_id Prediction_model1\n",
        "SELECT\n",
        "  predicted_label, zip_code, do_year, F_low_high_income_ratio, F_advanced_education_rate, F_family_households_rate, F_house_rent, F_employment_rate\n",
        "FROM\n",
        "  ML.PREDICT(MODEL `cs145-project3-331000.ml_pop.population_change`, ( \n",
        "      SELECT \n",
        "    zip_code,\n",
        "    year + 4 AS do_year,\n",
        "    age_growth_rate AS F_medianAge_growth,\n",
        "    (CASE WHEN population.pop_growth_rate < 0 THEN 1\n",
        "    WHEN population.pop_growth_rate BETWEEN 0 AND 0.1 THEN 2\n",
        "    WHEN population.pop_growth_rate > 0.1 THEN 3\n",
        "    END) AS label,\n",
        "    ROUND((income_less_10000 + income_10000_14999 + income_15000_19999 + income_20000_24999 + income_30000_34999 +\n",
        "    income_35000_39999) / (income_100000_124999 + income_125000_149999 + income_150000_199999 + income_200000_or_more),3) AS F_low_high_income_ratio,\n",
        "    ROUND((bachelors_degree_or_higher_25_64 / pop_25_64),3) AS F_advanced_education_rate,\n",
        "    ROUND((family_households / households),3) AS F_family_households_rate,\n",
        "    percent_income_spent_on_rent AS F_house_rent,\n",
        "    ROUND((employed_pop / total_pop),3) AS F_employment_rate,\n",
        "    IF(zip_code IN \n",
        "    (SELECT zip_code FROM `cs145-project3-331000.factor_analysis.urban_zip`), 1, 0) AS F_urban\n",
        "FROM \n",
        "    `cs145-project3-331000.factor_analysis.zipcode_allFactors` all_factor,\n",
        "    (   SELECT t1.year, t1.geo_id,\n",
        "            if(t2.total_pop = 0, 1, ROUND(t1.total_pop/t2.total_pop-1, 3)) AS pop_growth_rate,\n",
        "            ROUND(t1.median_age/t2.median_age-1, 3) AS age_growth_rate,\n",
        "        FROM  \n",
        "        (SELECT (CAST(substr(CAST(do_date AS string), 1, 4) AS INT) + 4) AS year, *\n",
        "            FROM `cs145-project3-331000.factor_analysis.all_zipcode_all_factor`) t1, \n",
        "        (SELECT (CAST(substr(CAST(do_date AS string), 1, 4) AS INT) + 4) AS year, *\n",
        "            FROM `cs145-project3-331000.factor_analysis.all_zipcode_all_factor`) t2 \n",
        "        WHERE CAST(t1.year AS INT) = CAST(t2.year AS INT) + 1\n",
        "            AND t1.geo_id = t2.geo_id) population\n",
        "WHERE pop_25_64 <> 0 \n",
        "    AND (income_100000_124999 + income_125000_149999 + income_150000_199999 + income_200000_or_more) <> 0\n",
        "    AND population.geo_id = all_factor.geo_id\n",
        "    AND CAST(population.year AS STRING) like CAST(substr(CAST(do_date AS string), 1, 4) AS STRING)\n",
        "    AND year = 2014))\n",
        "LIMIT 20"
      ]
    },
    {
      "cell_type": "code",
      "execution_count": 73,
      "metadata": {
        "colab": {
          "base_uri": "https://localhost:8080/",
          "height": 677
        },
        "id": "_TQzzvph3GsD",
        "outputId": "ce3fa20a-acf2-4b4e-d489-b2b065bfb403",
        "vscode": {
          "languageId": "python"
        }
      },
      "outputs": [
        {
          "data": {
            "text/html": [
              "<div>\n",
              "<style scoped>\n",
              "    .dataframe tbody tr th:only-of-type {\n",
              "        vertical-align: middle;\n",
              "    }\n",
              "\n",
              "    .dataframe tbody tr th {\n",
              "        vertical-align: top;\n",
              "    }\n",
              "\n",
              "    .dataframe thead th {\n",
              "        text-align: right;\n",
              "    }\n",
              "</style>\n",
              "<table border=\"1\" class=\"dataframe\">\n",
              "  <thead>\n",
              "    <tr style=\"text-align: right;\">\n",
              "      <th></th>\n",
              "      <th>predicted_label</th>\n",
              "      <th>zip_code</th>\n",
              "      <th>do_year</th>\n",
              "      <th>F_low_high_income_ratio</th>\n",
              "      <th>F_advanced_education_rate</th>\n",
              "      <th>F_family_households_rate</th>\n",
              "      <th>F_house_rent</th>\n",
              "      <th>F_employment_rate</th>\n",
              "    </tr>\n",
              "  </thead>\n",
              "  <tbody>\n",
              "    <tr>\n",
              "      <th>0</th>\n",
              "      <td>2</td>\n",
              "      <td>94621</td>\n",
              "      <td>2018</td>\n",
              "      <td>3.392</td>\n",
              "      <td>0.081</td>\n",
              "      <td>0.724</td>\n",
              "      <td>38.5</td>\n",
              "      <td>0.388</td>\n",
              "    </tr>\n",
              "    <tr>\n",
              "      <th>1</th>\n",
              "      <td>2</td>\n",
              "      <td>93256</td>\n",
              "      <td>2018</td>\n",
              "      <td>14.048</td>\n",
              "      <td>0.018</td>\n",
              "      <td>0.853</td>\n",
              "      <td>39.3</td>\n",
              "      <td>0.274</td>\n",
              "    </tr>\n",
              "    <tr>\n",
              "      <th>2</th>\n",
              "      <td>2</td>\n",
              "      <td>92354</td>\n",
              "      <td>2018</td>\n",
              "      <td>1.082</td>\n",
              "      <td>0.497</td>\n",
              "      <td>0.686</td>\n",
              "      <td>34.8</td>\n",
              "      <td>0.428</td>\n",
              "    </tr>\n",
              "    <tr>\n",
              "      <th>3</th>\n",
              "      <td>2</td>\n",
              "      <td>93950</td>\n",
              "      <td>2018</td>\n",
              "      <td>0.488</td>\n",
              "      <td>0.541</td>\n",
              "      <td>0.581</td>\n",
              "      <td>29.6</td>\n",
              "      <td>0.451</td>\n",
              "    </tr>\n",
              "    <tr>\n",
              "      <th>4</th>\n",
              "      <td>1</td>\n",
              "      <td>95456</td>\n",
              "      <td>2018</td>\n",
              "      <td>1.980</td>\n",
              "      <td>0.184</td>\n",
              "      <td>0.389</td>\n",
              "      <td>51.0</td>\n",
              "      <td>0.328</td>\n",
              "    </tr>\n",
              "    <tr>\n",
              "      <th>5</th>\n",
              "      <td>2</td>\n",
              "      <td>95426</td>\n",
              "      <td>2018</td>\n",
              "      <td>0.834</td>\n",
              "      <td>0.107</td>\n",
              "      <td>0.816</td>\n",
              "      <td>25.7</td>\n",
              "      <td>0.489</td>\n",
              "    </tr>\n",
              "    <tr>\n",
              "      <th>6</th>\n",
              "      <td>2</td>\n",
              "      <td>96035</td>\n",
              "      <td>2018</td>\n",
              "      <td>2.455</td>\n",
              "      <td>0.119</td>\n",
              "      <td>0.740</td>\n",
              "      <td>30.8</td>\n",
              "      <td>0.421</td>\n",
              "    </tr>\n",
              "    <tr>\n",
              "      <th>7</th>\n",
              "      <td>2</td>\n",
              "      <td>93622</td>\n",
              "      <td>2018</td>\n",
              "      <td>3.330</td>\n",
              "      <td>0.065</td>\n",
              "      <td>0.888</td>\n",
              "      <td>31.7</td>\n",
              "      <td>0.394</td>\n",
              "    </tr>\n",
              "    <tr>\n",
              "      <th>8</th>\n",
              "      <td>2</td>\n",
              "      <td>92040</td>\n",
              "      <td>2018</td>\n",
              "      <td>0.619</td>\n",
              "      <td>0.206</td>\n",
              "      <td>0.739</td>\n",
              "      <td>31.6</td>\n",
              "      <td>0.471</td>\n",
              "    </tr>\n",
              "    <tr>\n",
              "      <th>9</th>\n",
              "      <td>1</td>\n",
              "      <td>93562</td>\n",
              "      <td>2018</td>\n",
              "      <td>4.986</td>\n",
              "      <td>0.104</td>\n",
              "      <td>0.521</td>\n",
              "      <td>27.0</td>\n",
              "      <td>0.332</td>\n",
              "    </tr>\n",
              "    <tr>\n",
              "      <th>10</th>\n",
              "      <td>1</td>\n",
              "      <td>93301</td>\n",
              "      <td>2018</td>\n",
              "      <td>4.095</td>\n",
              "      <td>0.194</td>\n",
              "      <td>0.552</td>\n",
              "      <td>33.0</td>\n",
              "      <td>0.369</td>\n",
              "    </tr>\n",
              "    <tr>\n",
              "      <th>11</th>\n",
              "      <td>1</td>\n",
              "      <td>90034</td>\n",
              "      <td>2018</td>\n",
              "      <td>0.707</td>\n",
              "      <td>0.581</td>\n",
              "      <td>0.410</td>\n",
              "      <td>29.3</td>\n",
              "      <td>0.645</td>\n",
              "    </tr>\n",
              "    <tr>\n",
              "      <th>12</th>\n",
              "      <td>1</td>\n",
              "      <td>94559</td>\n",
              "      <td>2018</td>\n",
              "      <td>0.577</td>\n",
              "      <td>0.313</td>\n",
              "      <td>0.610</td>\n",
              "      <td>29.5</td>\n",
              "      <td>0.518</td>\n",
              "    </tr>\n",
              "    <tr>\n",
              "      <th>13</th>\n",
              "      <td>2</td>\n",
              "      <td>95075</td>\n",
              "      <td>2018</td>\n",
              "      <td>0.623</td>\n",
              "      <td>0.203</td>\n",
              "      <td>0.784</td>\n",
              "      <td>51.0</td>\n",
              "      <td>0.479</td>\n",
              "    </tr>\n",
              "    <tr>\n",
              "      <th>14</th>\n",
              "      <td>1</td>\n",
              "      <td>95497</td>\n",
              "      <td>2018</td>\n",
              "      <td>0.376</td>\n",
              "      <td>0.455</td>\n",
              "      <td>0.641</td>\n",
              "      <td>51.0</td>\n",
              "      <td>0.244</td>\n",
              "    </tr>\n",
              "    <tr>\n",
              "      <th>15</th>\n",
              "      <td>2</td>\n",
              "      <td>94123</td>\n",
              "      <td>2018</td>\n",
              "      <td>0.156</td>\n",
              "      <td>0.881</td>\n",
              "      <td>0.317</td>\n",
              "      <td>20.7</td>\n",
              "      <td>0.704</td>\n",
              "    </tr>\n",
              "    <tr>\n",
              "      <th>16</th>\n",
              "      <td>2</td>\n",
              "      <td>91732</td>\n",
              "      <td>2018</td>\n",
              "      <td>1.845</td>\n",
              "      <td>0.129</td>\n",
              "      <td>0.833</td>\n",
              "      <td>36.3</td>\n",
              "      <td>0.466</td>\n",
              "    </tr>\n",
              "    <tr>\n",
              "      <th>17</th>\n",
              "      <td>1</td>\n",
              "      <td>95966</td>\n",
              "      <td>2018</td>\n",
              "      <td>2.532</td>\n",
              "      <td>0.093</td>\n",
              "      <td>0.625</td>\n",
              "      <td>33.8</td>\n",
              "      <td>0.343</td>\n",
              "    </tr>\n",
              "    <tr>\n",
              "      <th>18</th>\n",
              "      <td>2</td>\n",
              "      <td>92692</td>\n",
              "      <td>2018</td>\n",
              "      <td>0.231</td>\n",
              "      <td>0.535</td>\n",
              "      <td>0.753</td>\n",
              "      <td>33.4</td>\n",
              "      <td>0.507</td>\n",
              "    </tr>\n",
              "    <tr>\n",
              "      <th>19</th>\n",
              "      <td>2</td>\n",
              "      <td>92009</td>\n",
              "      <td>2018</td>\n",
              "      <td>0.190</td>\n",
              "      <td>0.645</td>\n",
              "      <td>0.783</td>\n",
              "      <td>26.6</td>\n",
              "      <td>0.503</td>\n",
              "    </tr>\n",
              "  </tbody>\n",
              "</table>\n",
              "</div>"
            ],
            "text/plain": [
              "    predicted_label zip_code  ...  F_house_rent  F_employment_rate\n",
              "0                 2    94621  ...          38.5              0.388\n",
              "1                 2    93256  ...          39.3              0.274\n",
              "2                 2    92354  ...          34.8              0.428\n",
              "3                 2    93950  ...          29.6              0.451\n",
              "4                 1    95456  ...          51.0              0.328\n",
              "5                 2    95426  ...          25.7              0.489\n",
              "6                 2    96035  ...          30.8              0.421\n",
              "7                 2    93622  ...          31.7              0.394\n",
              "8                 2    92040  ...          31.6              0.471\n",
              "9                 1    93562  ...          27.0              0.332\n",
              "10                1    93301  ...          33.0              0.369\n",
              "11                1    90034  ...          29.3              0.645\n",
              "12                1    94559  ...          29.5              0.518\n",
              "13                2    95075  ...          51.0              0.479\n",
              "14                1    95497  ...          51.0              0.244\n",
              "15                2    94123  ...          20.7              0.704\n",
              "16                2    91732  ...          36.3              0.466\n",
              "17                1    95966  ...          33.8              0.343\n",
              "18                2    92692  ...          33.4              0.507\n",
              "19                2    92009  ...          26.6              0.503\n",
              "\n",
              "[20 rows x 8 columns]"
            ]
          },
          "execution_count": 73,
          "metadata": {},
          "output_type": "execute_result"
        }
      ],
      "source": [
        "Prediction_model1"
      ]
    },
    {
      "cell_type": "markdown",
      "metadata": {
        "id": "ofeY7XQuyhOU"
      },
      "source": [
        "---\n",
        "\n",
        "*BOOSTED_TREE_CLASSIFIER*\n",
        "\n",
        "---"
      ]
    },
    {
      "cell_type": "markdown",
      "metadata": {
        "id": "Xj1ofLU25iY1"
      },
      "source": [
        " **Training**"
      ]
    },
    {
      "cell_type": "code",
      "execution_count": 74,
      "metadata": {
        "id": "qsvBmpNY5oE6",
        "vscode": {
          "languageId": "python"
        }
      },
      "outputs": [],
      "source": [
        "%%bigquery --project $project_id training_model2\n",
        "\n",
        "CREATE OR REPLACE MODEL `cs145-project3-331000.ml_pop.population_change2` \n",
        "OPTIONS(model_type='BOOSTED_TREE_CLASSIFIER') AS \n",
        "SELECT \n",
        "    zip_code,\n",
        "    year + 4 AS do_year,\n",
        "    age_growth_rate AS F_medianAge_growth,\n",
        "    (CASE WHEN population.pop_growth_rate < 0 THEN 1\n",
        "    WHEN population.pop_growth_rate BETWEEN 0 AND 0.1 THEN 2\n",
        "    WHEN population.pop_growth_rate > 0.1 THEN 3\n",
        "    END) AS label,\n",
        "    ROUND((income_less_10000 + income_10000_14999 + income_15000_19999 + income_20000_24999 + income_30000_34999 +\n",
        "    income_35000_39999) / (income_100000_124999 + income_125000_149999 + income_150000_199999 + income_200000_or_more),3) AS F_low_high_income_ratio,\n",
        "    ROUND((bachelors_degree_or_higher_25_64 / pop_25_64),3) AS F_advanced_education_rate,\n",
        "    ROUND((family_households / households),3) AS F_family_households_rate,\n",
        "    percent_income_spent_on_rent AS F_house_rent,\n",
        "    ROUND((employed_pop / total_pop),3) AS F_employment_rate,\n",
        "    IF(zip_code IN \n",
        "    (SELECT zip_code FROM `cs145-project3-331000.factor_analysis.urban_zip`), 1, 0) AS F_urban\n",
        "FROM \n",
        "    `cs145-project3-331000.factor_analysis.zipcode_allFactors` all_factor,\n",
        "    (   SELECT t1.year, t1.geo_id,\n",
        "            if(t2.total_pop = 0, 1, ROUND(t1.total_pop/t2.total_pop-1, 3)) AS pop_growth_rate,\n",
        "            ROUND(t1.median_age/t2.median_age-1, 3) AS age_growth_rate,\n",
        "        FROM  \n",
        "        (SELECT (CAST(substr(CAST(do_date AS string), 1, 4) AS INT) + 4) AS year, *\n",
        "            FROM `cs145-project3-331000.factor_analysis.all_zipcode_all_factor`) t1, \n",
        "        (SELECT (CAST(substr(CAST(do_date AS string), 1, 4) AS INT) + 4) AS year, *\n",
        "            FROM `cs145-project3-331000.factor_analysis.all_zipcode_all_factor`) t2 \n",
        "        WHERE CAST(t1.year AS INT) = CAST(t2.year AS INT) + 1\n",
        "            AND t1.geo_id = t2.geo_id) population\n",
        "WHERE pop_25_64 <> 0 \n",
        "    AND (income_100000_124999 + income_125000_149999 + income_150000_199999 + income_200000_or_more) <> 0\n",
        "    AND population.geo_id = all_factor.geo_id\n",
        "    AND CAST(population.year AS STRING) like CAST(substr(CAST(do_date AS string), 1, 4) AS STRING)\n",
        "    AND year <= 2012"
      ]
    },
    {
      "cell_type": "code",
      "execution_count": 75,
      "metadata": {
        "id": "U73hVuSoI0ZC",
        "vscode": {
          "languageId": "python"
        }
      },
      "outputs": [],
      "source": [
        "%%bigquery --project $project_id training_stats2\n",
        "\n",
        "# Run cell to view training stats\n",
        "\n",
        "SELECT\n",
        "  *\n",
        "FROM\n",
        "  ML.TRAINING_INFO(MODEL `cs145-project3-331000.ml_pop.population_change2`)"
      ]
    },
    {
      "cell_type": "code",
      "execution_count": 76,
      "metadata": {
        "colab": {
          "base_uri": "https://localhost:8080/",
          "height": 269
        },
        "id": "djgOcELwLguX",
        "outputId": "87e84be3-6ea2-4c7e-d4d0-2cd2ce14b554",
        "vscode": {
          "languageId": "python"
        }
      },
      "outputs": [
        {
          "data": {
            "text/html": [
              "<div>\n",
              "<style scoped>\n",
              "    .dataframe tbody tr th:only-of-type {\n",
              "        vertical-align: middle;\n",
              "    }\n",
              "\n",
              "    .dataframe tbody tr th {\n",
              "        vertical-align: top;\n",
              "    }\n",
              "\n",
              "    .dataframe thead th {\n",
              "        text-align: right;\n",
              "    }\n",
              "</style>\n",
              "<table border=\"1\" class=\"dataframe\">\n",
              "  <thead>\n",
              "    <tr style=\"text-align: right;\">\n",
              "      <th></th>\n",
              "      <th>training_run</th>\n",
              "      <th>iteration</th>\n",
              "      <th>loss</th>\n",
              "      <th>eval_loss</th>\n",
              "      <th>learning_rate</th>\n",
              "      <th>duration_ms</th>\n",
              "    </tr>\n",
              "  </thead>\n",
              "  <tbody>\n",
              "    <tr>\n",
              "      <th>0</th>\n",
              "      <td>0</td>\n",
              "      <td>7</td>\n",
              "      <td>0.565401</td>\n",
              "      <td>0.822067</td>\n",
              "      <td>0.3</td>\n",
              "      <td>57</td>\n",
              "    </tr>\n",
              "    <tr>\n",
              "      <th>1</th>\n",
              "      <td>0</td>\n",
              "      <td>6</td>\n",
              "      <td>0.603617</td>\n",
              "      <td>0.822113</td>\n",
              "      <td>0.3</td>\n",
              "      <td>53</td>\n",
              "    </tr>\n",
              "    <tr>\n",
              "      <th>2</th>\n",
              "      <td>0</td>\n",
              "      <td>5</td>\n",
              "      <td>0.639536</td>\n",
              "      <td>0.838830</td>\n",
              "      <td>0.3</td>\n",
              "      <td>55</td>\n",
              "    </tr>\n",
              "    <tr>\n",
              "      <th>3</th>\n",
              "      <td>0</td>\n",
              "      <td>4</td>\n",
              "      <td>0.686839</td>\n",
              "      <td>0.859579</td>\n",
              "      <td>0.3</td>\n",
              "      <td>68</td>\n",
              "    </tr>\n",
              "    <tr>\n",
              "      <th>4</th>\n",
              "      <td>0</td>\n",
              "      <td>3</td>\n",
              "      <td>0.750302</td>\n",
              "      <td>0.886877</td>\n",
              "      <td>0.3</td>\n",
              "      <td>50</td>\n",
              "    </tr>\n",
              "    <tr>\n",
              "      <th>5</th>\n",
              "      <td>0</td>\n",
              "      <td>2</td>\n",
              "      <td>0.828110</td>\n",
              "      <td>0.931378</td>\n",
              "      <td>0.3</td>\n",
              "      <td>103</td>\n",
              "    </tr>\n",
              "    <tr>\n",
              "      <th>6</th>\n",
              "      <td>0</td>\n",
              "      <td>1</td>\n",
              "      <td>0.935604</td>\n",
              "      <td>0.992209</td>\n",
              "      <td>0.3</td>\n",
              "      <td>164705</td>\n",
              "    </tr>\n",
              "  </tbody>\n",
              "</table>\n",
              "</div>"
            ],
            "text/plain": [
              "   training_run  iteration      loss  eval_loss  learning_rate  duration_ms\n",
              "0             0          7  0.565401   0.822067            0.3           57\n",
              "1             0          6  0.603617   0.822113            0.3           53\n",
              "2             0          5  0.639536   0.838830            0.3           55\n",
              "3             0          4  0.686839   0.859579            0.3           68\n",
              "4             0          3  0.750302   0.886877            0.3           50\n",
              "5             0          2  0.828110   0.931378            0.3          103\n",
              "6             0          1  0.935604   0.992209            0.3       164705"
            ]
          },
          "execution_count": 76,
          "metadata": {},
          "output_type": "execute_result"
        }
      ],
      "source": [
        "training_stats2"
      ]
    },
    {
      "cell_type": "markdown",
      "metadata": {
        "id": "u4evr7c2JHiO"
      },
      "source": [
        "**Evaluation**"
      ]
    },
    {
      "cell_type": "code",
      "execution_count": 77,
      "metadata": {
        "id": "Zxc51sIqJEbs",
        "vscode": {
          "languageId": "python"
        }
      },
      "outputs": [],
      "source": [
        "%%bigquery --project $project_id evaluation_model2\n",
        "SELECT\n",
        "  *\n",
        "FROM\n",
        "  ML.EVALUATE(MODEL `cs145-project3-331000.ml_pop.population_change2`, (\n",
        "    SELECT \n",
        "    zip_code,\n",
        "    year + 4 AS do_year,\n",
        "    age_growth_rate AS F_medianAge_growth,\n",
        "    (CASE WHEN population.pop_growth_rate < 0 THEN 1\n",
        "    WHEN population.pop_growth_rate BETWEEN 0 AND 0.1 THEN 2\n",
        "    WHEN population.pop_growth_rate > 0.1 THEN 3\n",
        "    END) AS label,\n",
        "    ROUND((income_less_10000 + income_10000_14999 + income_15000_19999 + income_20000_24999 + income_30000_34999 +\n",
        "    income_35000_39999) / (income_100000_124999 + income_125000_149999 + income_150000_199999 + income_200000_or_more),3) AS F_low_high_income_ratio,\n",
        "    ROUND((bachelors_degree_or_higher_25_64 / pop_25_64),3) AS F_advanced_education_rate,\n",
        "    ROUND((family_households / households),3) AS F_family_households_rate,\n",
        "    percent_income_spent_on_rent AS F_house_rent,\n",
        "    ROUND((employed_pop / total_pop),3) AS F_employment_rate,\n",
        "    IF(zip_code IN \n",
        "    (SELECT zip_code FROM `cs145-project3-331000.factor_analysis.urban_zip`), 1, 0) AS F_urban\n",
        "FROM \n",
        "    `cs145-project3-331000.factor_analysis.zipcode_allFactors` all_factor,\n",
        "    (   SELECT t1.year, t1.geo_id,\n",
        "            if(t2.total_pop = 0, 1, ROUND(t1.total_pop/t2.total_pop-1, 3)) AS pop_growth_rate,\n",
        "            ROUND(t1.median_age/t2.median_age-1, 3) AS age_growth_rate,\n",
        "        FROM  \n",
        "        (SELECT (CAST(substr(CAST(do_date AS string), 1, 4) AS INT) + 4) AS year, *\n",
        "            FROM `cs145-project3-331000.factor_analysis.all_zipcode_all_factor`) t1, \n",
        "        (SELECT (CAST(substr(CAST(do_date AS string), 1, 4) AS INT) + 4) AS year, *\n",
        "            FROM `cs145-project3-331000.factor_analysis.all_zipcode_all_factor`) t2 \n",
        "        WHERE CAST(t1.year AS INT) = CAST(t2.year AS INT) + 1\n",
        "            AND t1.geo_id = t2.geo_id) population\n",
        "WHERE pop_25_64 <> 0 \n",
        "    AND (income_100000_124999 + income_125000_149999 + income_150000_199999 + income_200000_or_more) <> 0\n",
        "    AND population.geo_id = all_factor.geo_id\n",
        "    AND CAST(population.year AS STRING) like CAST(substr(CAST(do_date AS string), 1, 4) AS STRING)\n",
        "    AND year = 2013))"
      ]
    },
    {
      "cell_type": "code",
      "execution_count": 78,
      "metadata": {
        "colab": {
          "base_uri": "https://localhost:8080/",
          "height": 81
        },
        "id": "0hPsBDLKLqFF",
        "outputId": "cb60c0cf-7842-4bb4-a1d8-91da34859b44",
        "vscode": {
          "languageId": "python"
        }
      },
      "outputs": [
        {
          "data": {
            "text/html": [
              "<div>\n",
              "<style scoped>\n",
              "    .dataframe tbody tr th:only-of-type {\n",
              "        vertical-align: middle;\n",
              "    }\n",
              "\n",
              "    .dataframe tbody tr th {\n",
              "        vertical-align: top;\n",
              "    }\n",
              "\n",
              "    .dataframe thead th {\n",
              "        text-align: right;\n",
              "    }\n",
              "</style>\n",
              "<table border=\"1\" class=\"dataframe\">\n",
              "  <thead>\n",
              "    <tr style=\"text-align: right;\">\n",
              "      <th></th>\n",
              "      <th>precision</th>\n",
              "      <th>recall</th>\n",
              "      <th>accuracy</th>\n",
              "      <th>f1_score</th>\n",
              "      <th>log_loss</th>\n",
              "      <th>roc_auc</th>\n",
              "    </tr>\n",
              "  </thead>\n",
              "  <tbody>\n",
              "    <tr>\n",
              "      <th>0</th>\n",
              "      <td>0.494402</td>\n",
              "      <td>0.426833</td>\n",
              "      <td>0.599151</td>\n",
              "      <td>0.434446</td>\n",
              "      <td>1.091232</td>\n",
              "      <td>0.704895</td>\n",
              "    </tr>\n",
              "  </tbody>\n",
              "</table>\n",
              "</div>"
            ],
            "text/plain": [
              "   precision    recall  accuracy  f1_score  log_loss   roc_auc\n",
              "0   0.494402  0.426833  0.599151  0.434446  1.091232  0.704895"
            ]
          },
          "execution_count": 78,
          "metadata": {},
          "output_type": "execute_result"
        }
      ],
      "source": [
        "evaluation_model2"
      ]
    },
    {
      "cell_type": "markdown",
      "metadata": {
        "id": "6V4S1Ee1I7by"
      },
      "source": [
        "**Prediction**"
      ]
    },
    {
      "cell_type": "code",
      "execution_count": 79,
      "metadata": {
        "id": "DwDXXcQlJUJL",
        "vscode": {
          "languageId": "python"
        }
      },
      "outputs": [],
      "source": [
        "%%bigquery --project $project_id Prediction_model2\n",
        "SELECT\n",
        "  predicted_label, zip_code, do_year, F_low_high_income_ratio, F_advanced_education_rate, F_family_households_rate, F_house_rent, F_employment_rate\n",
        "FROM\n",
        "  ML.PREDICT(MODEL `cs145-project3-331000.ml_pop.population_change2`, ( \n",
        "      SELECT \n",
        "    zip_code,\n",
        "    year + 4 AS do_year,\n",
        "    age_growth_rate AS F_medianAge_growth,\n",
        "    (CASE WHEN population.pop_growth_rate < 0 THEN 1\n",
        "    WHEN population.pop_growth_rate BETWEEN 0 AND 0.1 THEN 2\n",
        "    WHEN population.pop_growth_rate > 0.1 THEN 3\n",
        "    END) AS label,\n",
        "    ROUND((income_less_10000 + income_10000_14999 + income_15000_19999 + income_20000_24999 + income_30000_34999 +\n",
        "    income_35000_39999) / (income_100000_124999 + income_125000_149999 + income_150000_199999 + income_200000_or_more),3) AS F_low_high_income_ratio,\n",
        "    ROUND((bachelors_degree_or_higher_25_64 / pop_25_64),3) AS F_advanced_education_rate,\n",
        "    ROUND((family_households / households),3) AS F_family_households_rate,\n",
        "    percent_income_spent_on_rent AS F_house_rent,\n",
        "    ROUND((employed_pop / total_pop),3) AS F_employment_rate,\n",
        "    IF(zip_code IN \n",
        "    (SELECT zip_code FROM `cs145-project3-331000.factor_analysis.urban_zip`), 1, 0) AS F_urban\n",
        "FROM \n",
        "    `cs145-project3-331000.factor_analysis.zipcode_allFactors` all_factor,\n",
        "    (   SELECT t1.year, t1.geo_id,\n",
        "            if(t2.total_pop = 0, 1, ROUND(t1.total_pop/t2.total_pop-1, 3)) AS pop_growth_rate,\n",
        "            ROUND(t1.median_age/t2.median_age-1, 3) AS age_growth_rate,\n",
        "        FROM  \n",
        "        (SELECT (CAST(substr(CAST(do_date AS string), 1, 4) AS INT) + 4) AS year, *\n",
        "            FROM `cs145-project3-331000.factor_analysis.all_zipcode_all_factor`) t1, \n",
        "        (SELECT (CAST(substr(CAST(do_date AS string), 1, 4) AS INT) + 4) AS year, *\n",
        "            FROM `cs145-project3-331000.factor_analysis.all_zipcode_all_factor`) t2 \n",
        "        WHERE CAST(t1.year AS INT) = CAST(t2.year AS INT) + 1\n",
        "            AND t1.geo_id = t2.geo_id) population\n",
        "WHERE pop_25_64 <> 0 \n",
        "    AND (income_100000_124999 + income_125000_149999 + income_150000_199999 + income_200000_or_more) <> 0\n",
        "    AND population.geo_id = all_factor.geo_id\n",
        "    AND CAST(population.year AS STRING) like CAST(substr(CAST(do_date AS string), 1, 4) AS STRING)\n",
        "    AND year = 2014))\n",
        "LIMIT 20"
      ]
    },
    {
      "cell_type": "code",
      "execution_count": 80,
      "metadata": {
        "colab": {
          "base_uri": "https://localhost:8080/",
          "height": 677
        },
        "id": "iHxdlXUTMDhM",
        "outputId": "26139894-d428-49d5-8aa7-017fae6d24e3",
        "vscode": {
          "languageId": "python"
        }
      },
      "outputs": [
        {
          "data": {
            "text/html": [
              "<div>\n",
              "<style scoped>\n",
              "    .dataframe tbody tr th:only-of-type {\n",
              "        vertical-align: middle;\n",
              "    }\n",
              "\n",
              "    .dataframe tbody tr th {\n",
              "        vertical-align: top;\n",
              "    }\n",
              "\n",
              "    .dataframe thead th {\n",
              "        text-align: right;\n",
              "    }\n",
              "</style>\n",
              "<table border=\"1\" class=\"dataframe\">\n",
              "  <thead>\n",
              "    <tr style=\"text-align: right;\">\n",
              "      <th></th>\n",
              "      <th>predicted_label</th>\n",
              "      <th>zip_code</th>\n",
              "      <th>do_year</th>\n",
              "      <th>F_low_high_income_ratio</th>\n",
              "      <th>F_advanced_education_rate</th>\n",
              "      <th>F_family_households_rate</th>\n",
              "      <th>F_house_rent</th>\n",
              "      <th>F_employment_rate</th>\n",
              "    </tr>\n",
              "  </thead>\n",
              "  <tbody>\n",
              "    <tr>\n",
              "      <th>0</th>\n",
              "      <td>1</td>\n",
              "      <td>95625</td>\n",
              "      <td>2018</td>\n",
              "      <td>1.125</td>\n",
              "      <td>0.000</td>\n",
              "      <td>0.000</td>\n",
              "      <td>22.6</td>\n",
              "      <td>0.254</td>\n",
              "    </tr>\n",
              "    <tr>\n",
              "      <th>1</th>\n",
              "      <td>2</td>\n",
              "      <td>94940</td>\n",
              "      <td>2018</td>\n",
              "      <td>0.425</td>\n",
              "      <td>0.322</td>\n",
              "      <td>0.839</td>\n",
              "      <td>NaN</td>\n",
              "      <td>0.513</td>\n",
              "    </tr>\n",
              "    <tr>\n",
              "      <th>2</th>\n",
              "      <td>2</td>\n",
              "      <td>93605</td>\n",
              "      <td>2018</td>\n",
              "      <td>0.368</td>\n",
              "      <td>0.385</td>\n",
              "      <td>0.792</td>\n",
              "      <td>11.5</td>\n",
              "      <td>0.335</td>\n",
              "    </tr>\n",
              "    <tr>\n",
              "      <th>3</th>\n",
              "      <td>1</td>\n",
              "      <td>95555</td>\n",
              "      <td>2018</td>\n",
              "      <td>4.000</td>\n",
              "      <td>0.112</td>\n",
              "      <td>0.581</td>\n",
              "      <td>42.5</td>\n",
              "      <td>0.412</td>\n",
              "    </tr>\n",
              "    <tr>\n",
              "      <th>4</th>\n",
              "      <td>2</td>\n",
              "      <td>93450</td>\n",
              "      <td>2018</td>\n",
              "      <td>2.700</td>\n",
              "      <td>0.078</td>\n",
              "      <td>0.777</td>\n",
              "      <td>22.7</td>\n",
              "      <td>0.407</td>\n",
              "    </tr>\n",
              "    <tr>\n",
              "      <th>5</th>\n",
              "      <td>2</td>\n",
              "      <td>95612</td>\n",
              "      <td>2018</td>\n",
              "      <td>0.532</td>\n",
              "      <td>0.285</td>\n",
              "      <td>0.660</td>\n",
              "      <td>26.1</td>\n",
              "      <td>0.519</td>\n",
              "    </tr>\n",
              "    <tr>\n",
              "      <th>6</th>\n",
              "      <td>2</td>\n",
              "      <td>93441</td>\n",
              "      <td>2018</td>\n",
              "      <td>0.343</td>\n",
              "      <td>0.606</td>\n",
              "      <td>0.653</td>\n",
              "      <td>30.3</td>\n",
              "      <td>0.579</td>\n",
              "    </tr>\n",
              "    <tr>\n",
              "      <th>7</th>\n",
              "      <td>2</td>\n",
              "      <td>91321</td>\n",
              "      <td>2018</td>\n",
              "      <td>0.680</td>\n",
              "      <td>0.258</td>\n",
              "      <td>0.705</td>\n",
              "      <td>36.3</td>\n",
              "      <td>0.479</td>\n",
              "    </tr>\n",
              "    <tr>\n",
              "      <th>8</th>\n",
              "      <td>2</td>\n",
              "      <td>95351</td>\n",
              "      <td>2018</td>\n",
              "      <td>3.913</td>\n",
              "      <td>0.060</td>\n",
              "      <td>0.799</td>\n",
              "      <td>37.3</td>\n",
              "      <td>0.349</td>\n",
              "    </tr>\n",
              "    <tr>\n",
              "      <th>9</th>\n",
              "      <td>2</td>\n",
              "      <td>91303</td>\n",
              "      <td>2018</td>\n",
              "      <td>1.269</td>\n",
              "      <td>0.238</td>\n",
              "      <td>0.665</td>\n",
              "      <td>34.6</td>\n",
              "      <td>0.532</td>\n",
              "    </tr>\n",
              "    <tr>\n",
              "      <th>10</th>\n",
              "      <td>2</td>\n",
              "      <td>95139</td>\n",
              "      <td>2018</td>\n",
              "      <td>0.132</td>\n",
              "      <td>0.451</td>\n",
              "      <td>0.828</td>\n",
              "      <td>32.2</td>\n",
              "      <td>0.499</td>\n",
              "    </tr>\n",
              "    <tr>\n",
              "      <th>11</th>\n",
              "      <td>1</td>\n",
              "      <td>95673</td>\n",
              "      <td>2018</td>\n",
              "      <td>1.066</td>\n",
              "      <td>0.135</td>\n",
              "      <td>0.765</td>\n",
              "      <td>33.1</td>\n",
              "      <td>0.417</td>\n",
              "    </tr>\n",
              "    <tr>\n",
              "      <th>12</th>\n",
              "      <td>2</td>\n",
              "      <td>95002</td>\n",
              "      <td>2018</td>\n",
              "      <td>0.281</td>\n",
              "      <td>0.217</td>\n",
              "      <td>0.816</td>\n",
              "      <td>27.7</td>\n",
              "      <td>0.489</td>\n",
              "    </tr>\n",
              "    <tr>\n",
              "      <th>13</th>\n",
              "      <td>1</td>\n",
              "      <td>93280</td>\n",
              "      <td>2018</td>\n",
              "      <td>6.308</td>\n",
              "      <td>0.027</td>\n",
              "      <td>0.848</td>\n",
              "      <td>35.5</td>\n",
              "      <td>0.308</td>\n",
              "    </tr>\n",
              "    <tr>\n",
              "      <th>14</th>\n",
              "      <td>2</td>\n",
              "      <td>95315</td>\n",
              "      <td>2018</td>\n",
              "      <td>1.802</td>\n",
              "      <td>0.055</td>\n",
              "      <td>0.855</td>\n",
              "      <td>29.5</td>\n",
              "      <td>0.402</td>\n",
              "    </tr>\n",
              "    <tr>\n",
              "      <th>15</th>\n",
              "      <td>2</td>\n",
              "      <td>95117</td>\n",
              "      <td>2018</td>\n",
              "      <td>0.422</td>\n",
              "      <td>0.440</td>\n",
              "      <td>0.655</td>\n",
              "      <td>30.1</td>\n",
              "      <td>0.572</td>\n",
              "    </tr>\n",
              "    <tr>\n",
              "      <th>16</th>\n",
              "      <td>2</td>\n",
              "      <td>94545</td>\n",
              "      <td>2018</td>\n",
              "      <td>0.475</td>\n",
              "      <td>0.301</td>\n",
              "      <td>0.779</td>\n",
              "      <td>30.8</td>\n",
              "      <td>0.495</td>\n",
              "    </tr>\n",
              "    <tr>\n",
              "      <th>17</th>\n",
              "      <td>2</td>\n",
              "      <td>95629</td>\n",
              "      <td>2018</td>\n",
              "      <td>0.435</td>\n",
              "      <td>0.321</td>\n",
              "      <td>0.769</td>\n",
              "      <td>17.4</td>\n",
              "      <td>0.533</td>\n",
              "    </tr>\n",
              "    <tr>\n",
              "      <th>18</th>\n",
              "      <td>1</td>\n",
              "      <td>92333</td>\n",
              "      <td>2018</td>\n",
              "      <td>0.821</td>\n",
              "      <td>0.179</td>\n",
              "      <td>0.703</td>\n",
              "      <td>NaN</td>\n",
              "      <td>0.266</td>\n",
              "    </tr>\n",
              "    <tr>\n",
              "      <th>19</th>\n",
              "      <td>2</td>\n",
              "      <td>95988</td>\n",
              "      <td>2018</td>\n",
              "      <td>1.850</td>\n",
              "      <td>0.130</td>\n",
              "      <td>0.682</td>\n",
              "      <td>31.3</td>\n",
              "      <td>0.365</td>\n",
              "    </tr>\n",
              "  </tbody>\n",
              "</table>\n",
              "</div>"
            ],
            "text/plain": [
              "    predicted_label zip_code  ...  F_house_rent  F_employment_rate\n",
              "0                 1    95625  ...          22.6              0.254\n",
              "1                 2    94940  ...           NaN              0.513\n",
              "2                 2    93605  ...          11.5              0.335\n",
              "3                 1    95555  ...          42.5              0.412\n",
              "4                 2    93450  ...          22.7              0.407\n",
              "5                 2    95612  ...          26.1              0.519\n",
              "6                 2    93441  ...          30.3              0.579\n",
              "7                 2    91321  ...          36.3              0.479\n",
              "8                 2    95351  ...          37.3              0.349\n",
              "9                 2    91303  ...          34.6              0.532\n",
              "10                2    95139  ...          32.2              0.499\n",
              "11                1    95673  ...          33.1              0.417\n",
              "12                2    95002  ...          27.7              0.489\n",
              "13                1    93280  ...          35.5              0.308\n",
              "14                2    95315  ...          29.5              0.402\n",
              "15                2    95117  ...          30.1              0.572\n",
              "16                2    94545  ...          30.8              0.495\n",
              "17                2    95629  ...          17.4              0.533\n",
              "18                1    92333  ...           NaN              0.266\n",
              "19                2    95988  ...          31.3              0.365\n",
              "\n",
              "[20 rows x 8 columns]"
            ]
          },
          "execution_count": 80,
          "metadata": {},
          "output_type": "execute_result"
        }
      ],
      "source": [
        "Prediction_model2"
      ]
    },
    {
      "cell_type": "markdown",
      "metadata": {
        "id": "o1per0xvMP23"
      },
      "source": [
        "---\n",
        "\n",
        "*DNN_LINEAR_COMBINED_CLASSIFIER*\n",
        "\n",
        "---"
      ]
    },
    {
      "cell_type": "code",
      "execution_count": 81,
      "metadata": {
        "id": "FCXSPLZ9OpX3",
        "vscode": {
          "languageId": "python"
        }
      },
      "outputs": [],
      "source": [
        "%%bigquery --project $project_id training_model3\n",
        "\n",
        "CREATE OR REPLACE MODEL `cs145-project3-331000.ml_pop.population_change3` \n",
        "OPTIONS(model_type='DNN_LINEAR_COMBINED_CLASSIFIER') AS \n",
        "SELECT \n",
        "    zip_code,\n",
        "    year + 4 AS do_year,\n",
        "    age_growth_rate AS F_medianAge_growth,\n",
        "    (CASE WHEN population.pop_growth_rate < 0 THEN 1\n",
        "    WHEN population.pop_growth_rate BETWEEN 0 AND 0.1 THEN 2\n",
        "    WHEN population.pop_growth_rate > 0.1 THEN 3\n",
        "    END) AS label,\n",
        "    ROUND((income_less_10000 + income_10000_14999 + income_15000_19999 + income_20000_24999 + income_30000_34999 +\n",
        "    income_35000_39999) / (income_100000_124999 + income_125000_149999 + income_150000_199999 + income_200000_or_more),3) AS F_low_high_income_ratio,\n",
        "    ROUND((bachelors_degree_or_higher_25_64 / pop_25_64),3) AS F_advanced_education_rate,\n",
        "    ROUND((family_households / households),3) AS F_family_households_rate,\n",
        "    percent_income_spent_on_rent AS F_house_rent,\n",
        "    ROUND((employed_pop / total_pop),3) AS F_employment_rate,\n",
        "    IF(zip_code IN \n",
        "    (SELECT zip_code FROM `cs145-project3-331000.factor_analysis.urban_zip`), 1, 0) AS F_urban\n",
        "FROM \n",
        "    `cs145-project3-331000.factor_analysis.zipcode_allFactors` all_factor,\n",
        "    (   SELECT t1.year, t1.geo_id,\n",
        "            if(t2.total_pop = 0, 1, ROUND(t1.total_pop/t2.total_pop-1, 3)) AS pop_growth_rate,\n",
        "            ROUND(t1.median_age/t2.median_age-1, 3) AS age_growth_rate,\n",
        "        FROM  \n",
        "        (SELECT (CAST(substr(CAST(do_date AS string), 1, 4) AS INT) + 4) AS year, *\n",
        "            FROM `cs145-project3-331000.factor_analysis.all_zipcode_all_factor`) t1, \n",
        "        (SELECT (CAST(substr(CAST(do_date AS string), 1, 4) AS INT) + 4) AS year, *\n",
        "            FROM `cs145-project3-331000.factor_analysis.all_zipcode_all_factor`) t2 \n",
        "        WHERE CAST(t1.year AS INT) = CAST(t2.year AS INT) + 1\n",
        "            AND t1.geo_id = t2.geo_id) population\n",
        "WHERE pop_25_64 <> 0 \n",
        "    AND (income_100000_124999 + income_125000_149999 + income_150000_199999 + income_200000_or_more) <> 0\n",
        "    AND population.geo_id = all_factor.geo_id\n",
        "    AND CAST(population.year AS STRING) like CAST(substr(CAST(do_date AS string), 1, 4) AS STRING)\n",
        "    AND year <= 2012"
      ]
    },
    {
      "cell_type": "code",
      "execution_count": 82,
      "metadata": {
        "id": "DLw91uZPSD0M",
        "vscode": {
          "languageId": "python"
        }
      },
      "outputs": [],
      "source": [
        "%%bigquery --project $project_id training_stats3\n",
        "\n",
        "# Run cell to view training stats\n",
        "\n",
        "SELECT\n",
        "  *\n",
        "FROM\n",
        "  ML.TRAINING_INFO(MODEL `cs145-project3-331000.ml_pop.population_change3`)"
      ]
    },
    {
      "cell_type": "code",
      "execution_count": 83,
      "metadata": {
        "colab": {
          "base_uri": "https://localhost:8080/",
          "height": 520
        },
        "id": "GvvtOHpTSJ0I",
        "outputId": "d6713a3e-7ffc-4de7-973b-1127d10a9757",
        "vscode": {
          "languageId": "python"
        }
      },
      "outputs": [
        {
          "data": {
            "text/html": [
              "<div>\n",
              "<style scoped>\n",
              "    .dataframe tbody tr th:only-of-type {\n",
              "        vertical-align: middle;\n",
              "    }\n",
              "\n",
              "    .dataframe tbody tr th {\n",
              "        vertical-align: top;\n",
              "    }\n",
              "\n",
              "    .dataframe thead th {\n",
              "        text-align: right;\n",
              "    }\n",
              "</style>\n",
              "<table border=\"1\" class=\"dataframe\">\n",
              "  <thead>\n",
              "    <tr style=\"text-align: right;\">\n",
              "      <th></th>\n",
              "      <th>training_run</th>\n",
              "      <th>iteration</th>\n",
              "      <th>loss</th>\n",
              "      <th>eval_loss</th>\n",
              "      <th>learning_rate</th>\n",
              "      <th>duration_ms</th>\n",
              "    </tr>\n",
              "  </thead>\n",
              "  <tbody>\n",
              "    <tr>\n",
              "      <th>0</th>\n",
              "      <td>0</td>\n",
              "      <td>14</td>\n",
              "      <td>1.022391</td>\n",
              "      <td>0.937461</td>\n",
              "      <td>0.001</td>\n",
              "      <td>25268</td>\n",
              "    </tr>\n",
              "    <tr>\n",
              "      <th>1</th>\n",
              "      <td>0</td>\n",
              "      <td>13</td>\n",
              "      <td>1.136909</td>\n",
              "      <td>0.943256</td>\n",
              "      <td>0.001</td>\n",
              "      <td>25255</td>\n",
              "    </tr>\n",
              "    <tr>\n",
              "      <th>2</th>\n",
              "      <td>0</td>\n",
              "      <td>12</td>\n",
              "      <td>0.944184</td>\n",
              "      <td>0.949983</td>\n",
              "      <td>0.001</td>\n",
              "      <td>25967</td>\n",
              "    </tr>\n",
              "    <tr>\n",
              "      <th>3</th>\n",
              "      <td>0</td>\n",
              "      <td>11</td>\n",
              "      <td>1.095084</td>\n",
              "      <td>0.957479</td>\n",
              "      <td>0.001</td>\n",
              "      <td>24828</td>\n",
              "    </tr>\n",
              "    <tr>\n",
              "      <th>4</th>\n",
              "      <td>0</td>\n",
              "      <td>10</td>\n",
              "      <td>1.055998</td>\n",
              "      <td>0.965755</td>\n",
              "      <td>0.001</td>\n",
              "      <td>25423</td>\n",
              "    </tr>\n",
              "    <tr>\n",
              "      <th>5</th>\n",
              "      <td>0</td>\n",
              "      <td>9</td>\n",
              "      <td>0.973982</td>\n",
              "      <td>0.975215</td>\n",
              "      <td>0.001</td>\n",
              "      <td>25989</td>\n",
              "    </tr>\n",
              "    <tr>\n",
              "      <th>6</th>\n",
              "      <td>0</td>\n",
              "      <td>8</td>\n",
              "      <td>1.084802</td>\n",
              "      <td>0.986151</td>\n",
              "      <td>0.001</td>\n",
              "      <td>25086</td>\n",
              "    </tr>\n",
              "    <tr>\n",
              "      <th>7</th>\n",
              "      <td>0</td>\n",
              "      <td>7</td>\n",
              "      <td>1.006085</td>\n",
              "      <td>0.998554</td>\n",
              "      <td>0.001</td>\n",
              "      <td>24449</td>\n",
              "    </tr>\n",
              "    <tr>\n",
              "      <th>8</th>\n",
              "      <td>0</td>\n",
              "      <td>6</td>\n",
              "      <td>1.085236</td>\n",
              "      <td>1.013567</td>\n",
              "      <td>0.001</td>\n",
              "      <td>24507</td>\n",
              "    </tr>\n",
              "    <tr>\n",
              "      <th>9</th>\n",
              "      <td>0</td>\n",
              "      <td>5</td>\n",
              "      <td>1.172016</td>\n",
              "      <td>1.030876</td>\n",
              "      <td>0.001</td>\n",
              "      <td>25332</td>\n",
              "    </tr>\n",
              "    <tr>\n",
              "      <th>10</th>\n",
              "      <td>0</td>\n",
              "      <td>4</td>\n",
              "      <td>1.103385</td>\n",
              "      <td>1.051916</td>\n",
              "      <td>0.001</td>\n",
              "      <td>25584</td>\n",
              "    </tr>\n",
              "    <tr>\n",
              "      <th>11</th>\n",
              "      <td>0</td>\n",
              "      <td>3</td>\n",
              "      <td>1.119108</td>\n",
              "      <td>1.077265</td>\n",
              "      <td>0.001</td>\n",
              "      <td>26168</td>\n",
              "    </tr>\n",
              "    <tr>\n",
              "      <th>12</th>\n",
              "      <td>0</td>\n",
              "      <td>2</td>\n",
              "      <td>1.200632</td>\n",
              "      <td>1.108136</td>\n",
              "      <td>0.001</td>\n",
              "      <td>26390</td>\n",
              "    </tr>\n",
              "    <tr>\n",
              "      <th>13</th>\n",
              "      <td>0</td>\n",
              "      <td>1</td>\n",
              "      <td>1.148817</td>\n",
              "      <td>1.147597</td>\n",
              "      <td>0.001</td>\n",
              "      <td>28155</td>\n",
              "    </tr>\n",
              "    <tr>\n",
              "      <th>14</th>\n",
              "      <td>0</td>\n",
              "      <td>0</td>\n",
              "      <td>1.284872</td>\n",
              "      <td>1.196819</td>\n",
              "      <td>0.001</td>\n",
              "      <td>18251</td>\n",
              "    </tr>\n",
              "  </tbody>\n",
              "</table>\n",
              "</div>"
            ],
            "text/plain": [
              "    training_run  iteration      loss  eval_loss  learning_rate  duration_ms\n",
              "0              0         14  1.022391   0.937461          0.001        25268\n",
              "1              0         13  1.136909   0.943256          0.001        25255\n",
              "2              0         12  0.944184   0.949983          0.001        25967\n",
              "3              0         11  1.095084   0.957479          0.001        24828\n",
              "4              0         10  1.055998   0.965755          0.001        25423\n",
              "5              0          9  0.973982   0.975215          0.001        25989\n",
              "6              0          8  1.084802   0.986151          0.001        25086\n",
              "7              0          7  1.006085   0.998554          0.001        24449\n",
              "8              0          6  1.085236   1.013567          0.001        24507\n",
              "9              0          5  1.172016   1.030876          0.001        25332\n",
              "10             0          4  1.103385   1.051916          0.001        25584\n",
              "11             0          3  1.119108   1.077265          0.001        26168\n",
              "12             0          2  1.200632   1.108136          0.001        26390\n",
              "13             0          1  1.148817   1.147597          0.001        28155\n",
              "14             0          0  1.284872   1.196819          0.001        18251"
            ]
          },
          "execution_count": 83,
          "metadata": {},
          "output_type": "execute_result"
        }
      ],
      "source": [
        "training_stats3"
      ]
    },
    {
      "cell_type": "markdown",
      "metadata": {
        "id": "OdwNUlF9SLtS"
      },
      "source": [
        "**Evaluation**"
      ]
    },
    {
      "cell_type": "code",
      "execution_count": 84,
      "metadata": {
        "id": "1swFPSlVSQDx",
        "vscode": {
          "languageId": "python"
        }
      },
      "outputs": [],
      "source": [
        "%%bigquery --project $project_id evaluation_model3\n",
        "SELECT\n",
        "  *\n",
        "FROM\n",
        "  ML.EVALUATE(MODEL `cs145-project3-331000.ml_pop.population_change3`, (\n",
        "    SELECT \n",
        "    zip_code,\n",
        "    year + 4 AS do_year,\n",
        "    age_growth_rate AS F_medianAge_growth,\n",
        "    (CASE WHEN population.pop_growth_rate < 0 THEN 1\n",
        "    WHEN population.pop_growth_rate BETWEEN 0 AND 0.1 THEN 2\n",
        "    WHEN population.pop_growth_rate > 0.1 THEN 3\n",
        "    END) AS label,\n",
        "    ROUND((income_less_10000 + income_10000_14999 + income_15000_19999 + income_20000_24999 + income_30000_34999 +\n",
        "    income_35000_39999) / (income_100000_124999 + income_125000_149999 + income_150000_199999 + income_200000_or_more),3) AS F_low_high_income_ratio,\n",
        "    ROUND((bachelors_degree_or_higher_25_64 / pop_25_64),3) AS F_advanced_education_rate,\n",
        "    ROUND((family_households / households),3) AS F_family_households_rate,\n",
        "    percent_income_spent_on_rent AS F_house_rent,\n",
        "    ROUND((employed_pop / total_pop),3) AS F_employment_rate,\n",
        "    IF(zip_code IN \n",
        "    (SELECT zip_code FROM `cs145-project3-331000.factor_analysis.urban_zip`), 1, 0) AS F_urban\n",
        "FROM \n",
        "    `cs145-project3-331000.factor_analysis.zipcode_allFactors` all_factor,\n",
        "    (   SELECT t1.year, t1.geo_id,\n",
        "            if(t2.total_pop = 0, 1, ROUND(t1.total_pop/t2.total_pop-1, 3)) AS pop_growth_rate,\n",
        "            ROUND(t1.median_age/t2.median_age-1, 3) AS age_growth_rate,\n",
        "        FROM  \n",
        "        (SELECT (CAST(substr(CAST(do_date AS string), 1, 4) AS INT) + 4) AS year, *\n",
        "            FROM `cs145-project3-331000.factor_analysis.all_zipcode_all_factor`) t1, \n",
        "        (SELECT (CAST(substr(CAST(do_date AS string), 1, 4) AS INT) + 4) AS year, *\n",
        "            FROM `cs145-project3-331000.factor_analysis.all_zipcode_all_factor`) t2 \n",
        "        WHERE CAST(t1.year AS INT) = CAST(t2.year AS INT) + 1\n",
        "            AND t1.geo_id = t2.geo_id) population\n",
        "WHERE pop_25_64 <> 0 \n",
        "    AND (income_100000_124999 + income_125000_149999 + income_150000_199999 + income_200000_or_more) <> 0\n",
        "    AND population.geo_id = all_factor.geo_id\n",
        "    AND CAST(population.year AS STRING) like CAST(substr(CAST(do_date AS string), 1, 4) AS STRING)\n",
        "    AND year = 2013))"
      ]
    },
    {
      "cell_type": "code",
      "execution_count": 85,
      "metadata": {
        "colab": {
          "base_uri": "https://localhost:8080/",
          "height": 81
        },
        "id": "9rkfnSJ1Sfzo",
        "outputId": "b3be9643-408e-48d3-9fcf-5ab58c4c7de9",
        "vscode": {
          "languageId": "python"
        }
      },
      "outputs": [
        {
          "data": {
            "text/html": [
              "<div>\n",
              "<style scoped>\n",
              "    .dataframe tbody tr th:only-of-type {\n",
              "        vertical-align: middle;\n",
              "    }\n",
              "\n",
              "    .dataframe tbody tr th {\n",
              "        vertical-align: top;\n",
              "    }\n",
              "\n",
              "    .dataframe thead th {\n",
              "        text-align: right;\n",
              "    }\n",
              "</style>\n",
              "<table border=\"1\" class=\"dataframe\">\n",
              "  <thead>\n",
              "    <tr style=\"text-align: right;\">\n",
              "      <th></th>\n",
              "      <th>precision</th>\n",
              "      <th>recall</th>\n",
              "      <th>accuracy</th>\n",
              "      <th>f1_score</th>\n",
              "      <th>log_loss</th>\n",
              "      <th>roc_auc</th>\n",
              "    </tr>\n",
              "  </thead>\n",
              "  <tbody>\n",
              "    <tr>\n",
              "      <th>0</th>\n",
              "      <td>0.191227</td>\n",
              "      <td>0.333333</td>\n",
              "      <td>0.573681</td>\n",
              "      <td>0.243031</td>\n",
              "      <td>1.159557</td>\n",
              "      <td>0.570113</td>\n",
              "    </tr>\n",
              "  </tbody>\n",
              "</table>\n",
              "</div>"
            ],
            "text/plain": [
              "   precision    recall  accuracy  f1_score  log_loss   roc_auc\n",
              "0   0.191227  0.333333  0.573681  0.243031  1.159557  0.570113"
            ]
          },
          "execution_count": 85,
          "metadata": {},
          "output_type": "execute_result"
        }
      ],
      "source": [
        "evaluation_model3"
      ]
    },
    {
      "cell_type": "markdown",
      "metadata": {
        "id": "46-vfgXNR-OB"
      },
      "source": [
        "**Prediction**"
      ]
    },
    {
      "cell_type": "code",
      "execution_count": 86,
      "metadata": {
        "id": "YH_U_awCSxnj",
        "vscode": {
          "languageId": "python"
        }
      },
      "outputs": [],
      "source": [
        "%%bigquery --project $project_id Prediction_model3\n",
        "SELECT\n",
        "  predicted_label, zip_code, do_year, F_low_high_income_ratio, F_advanced_education_rate, F_family_households_rate, F_house_rent, F_employment_rate\n",
        "FROM\n",
        "  ML.PREDICT(MODEL `cs145-project3-331000.ml_pop.population_change3`, ( \n",
        "      SELECT \n",
        "    zip_code,\n",
        "    year + 4 AS do_year,\n",
        "    age_growth_rate AS F_medianAge_growth,\n",
        "    (CASE WHEN population.pop_growth_rate < 0 THEN 1\n",
        "    WHEN population.pop_growth_rate BETWEEN 0 AND 0.1 THEN 2\n",
        "    WHEN population.pop_growth_rate > 0.1 THEN 3\n",
        "    END) AS label,\n",
        "    ROUND((income_less_10000 + income_10000_14999 + income_15000_19999 + income_20000_24999 + income_30000_34999 +\n",
        "    income_35000_39999) / (income_100000_124999 + income_125000_149999 + income_150000_199999 + income_200000_or_more),3) AS F_low_high_income_ratio,\n",
        "    ROUND((bachelors_degree_or_higher_25_64 / pop_25_64),3) AS F_advanced_education_rate,\n",
        "    ROUND((family_households / households),3) AS F_family_households_rate,\n",
        "    percent_income_spent_on_rent AS F_house_rent,\n",
        "    ROUND((employed_pop / total_pop),3) AS F_employment_rate,\n",
        "    IF(zip_code IN \n",
        "    (SELECT zip_code FROM `cs145-project3-331000.factor_analysis.urban_zip`), 1, 0) AS F_urban\n",
        "FROM \n",
        "    `cs145-project3-331000.factor_analysis.zipcode_allFactors` all_factor,\n",
        "    (   SELECT t1.year, t1.geo_id,\n",
        "            if(t2.total_pop = 0, 1, ROUND(t1.total_pop/t2.total_pop-1, 3)) AS pop_growth_rate,\n",
        "            ROUND(t1.median_age/t2.median_age-1, 3) AS age_growth_rate,\n",
        "        FROM  \n",
        "        (SELECT (CAST(substr(CAST(do_date AS string), 1, 4) AS INT) + 4) AS year, *\n",
        "            FROM `cs145-project3-331000.factor_analysis.all_zipcode_all_factor`) t1, \n",
        "        (SELECT (CAST(substr(CAST(do_date AS string), 1, 4) AS INT) + 4) AS year, *\n",
        "            FROM `cs145-project3-331000.factor_analysis.all_zipcode_all_factor`) t2 \n",
        "        WHERE CAST(t1.year AS INT) = CAST(t2.year AS INT) + 1\n",
        "            AND t1.geo_id = t2.geo_id) population\n",
        "WHERE pop_25_64 <> 0 \n",
        "    AND (income_100000_124999 + income_125000_149999 + income_150000_199999 + income_200000_or_more) <> 0\n",
        "    AND population.geo_id = all_factor.geo_id\n",
        "    AND CAST(population.year AS STRING) like CAST(substr(CAST(do_date AS string), 1, 4) AS STRING)\n",
        "    AND year = 2014))\n",
        "LIMIT 20"
      ]
    },
    {
      "cell_type": "code",
      "execution_count": 87,
      "metadata": {
        "colab": {
          "base_uri": "https://localhost:8080/",
          "height": 677
        },
        "id": "Qav_yRjNS61D",
        "outputId": "87048ef5-3801-4535-c01f-457ade14dd3e",
        "vscode": {
          "languageId": "python"
        }
      },
      "outputs": [
        {
          "data": {
            "text/html": [
              "<div>\n",
              "<style scoped>\n",
              "    .dataframe tbody tr th:only-of-type {\n",
              "        vertical-align: middle;\n",
              "    }\n",
              "\n",
              "    .dataframe tbody tr th {\n",
              "        vertical-align: top;\n",
              "    }\n",
              "\n",
              "    .dataframe thead th {\n",
              "        text-align: right;\n",
              "    }\n",
              "</style>\n",
              "<table border=\"1\" class=\"dataframe\">\n",
              "  <thead>\n",
              "    <tr style=\"text-align: right;\">\n",
              "      <th></th>\n",
              "      <th>predicted_label</th>\n",
              "      <th>zip_code</th>\n",
              "      <th>do_year</th>\n",
              "      <th>F_low_high_income_ratio</th>\n",
              "      <th>F_advanced_education_rate</th>\n",
              "      <th>F_family_households_rate</th>\n",
              "      <th>F_house_rent</th>\n",
              "      <th>F_employment_rate</th>\n",
              "    </tr>\n",
              "  </thead>\n",
              "  <tbody>\n",
              "    <tr>\n",
              "      <th>0</th>\n",
              "      <td>2</td>\n",
              "      <td>95646</td>\n",
              "      <td>2018</td>\n",
              "      <td>0.167</td>\n",
              "      <td>0.288</td>\n",
              "      <td>0.000</td>\n",
              "      <td>15.5</td>\n",
              "      <td>0.711</td>\n",
              "    </tr>\n",
              "    <tr>\n",
              "      <th>1</th>\n",
              "      <td>2</td>\n",
              "      <td>95720</td>\n",
              "      <td>2018</td>\n",
              "      <td>0.900</td>\n",
              "      <td>0.150</td>\n",
              "      <td>0.514</td>\n",
              "      <td>NaN</td>\n",
              "      <td>0.373</td>\n",
              "    </tr>\n",
              "    <tr>\n",
              "      <th>2</th>\n",
              "      <td>2</td>\n",
              "      <td>95625</td>\n",
              "      <td>2018</td>\n",
              "      <td>1.125</td>\n",
              "      <td>0.000</td>\n",
              "      <td>0.000</td>\n",
              "      <td>22.6</td>\n",
              "      <td>0.254</td>\n",
              "    </tr>\n",
              "    <tr>\n",
              "      <th>3</th>\n",
              "      <td>2</td>\n",
              "      <td>96010</td>\n",
              "      <td>2018</td>\n",
              "      <td>8.667</td>\n",
              "      <td>0.000</td>\n",
              "      <td>0.754</td>\n",
              "      <td>20.0</td>\n",
              "      <td>0.411</td>\n",
              "    </tr>\n",
              "    <tr>\n",
              "      <th>4</th>\n",
              "      <td>2</td>\n",
              "      <td>95569</td>\n",
              "      <td>2018</td>\n",
              "      <td>2.179</td>\n",
              "      <td>0.116</td>\n",
              "      <td>0.604</td>\n",
              "      <td>NaN</td>\n",
              "      <td>0.305</td>\n",
              "    </tr>\n",
              "    <tr>\n",
              "      <th>5</th>\n",
              "      <td>2</td>\n",
              "      <td>92239</td>\n",
              "      <td>2018</td>\n",
              "      <td>5.444</td>\n",
              "      <td>0.135</td>\n",
              "      <td>0.755</td>\n",
              "      <td>9.0</td>\n",
              "      <td>0.223</td>\n",
              "    </tr>\n",
              "    <tr>\n",
              "      <th>6</th>\n",
              "      <td>2</td>\n",
              "      <td>94971</td>\n",
              "      <td>2018</td>\n",
              "      <td>0.250</td>\n",
              "      <td>0.583</td>\n",
              "      <td>0.417</td>\n",
              "      <td>32.5</td>\n",
              "      <td>0.924</td>\n",
              "    </tr>\n",
              "    <tr>\n",
              "      <th>7</th>\n",
              "      <td>2</td>\n",
              "      <td>96063</td>\n",
              "      <td>2018</td>\n",
              "      <td>1.864</td>\n",
              "      <td>0.289</td>\n",
              "      <td>0.508</td>\n",
              "      <td>19.2</td>\n",
              "      <td>0.332</td>\n",
              "    </tr>\n",
              "    <tr>\n",
              "      <th>8</th>\n",
              "      <td>2</td>\n",
              "      <td>96034</td>\n",
              "      <td>2018</td>\n",
              "      <td>2.556</td>\n",
              "      <td>0.217</td>\n",
              "      <td>0.504</td>\n",
              "      <td>51.0</td>\n",
              "      <td>0.246</td>\n",
              "    </tr>\n",
              "    <tr>\n",
              "      <th>9</th>\n",
              "      <td>2</td>\n",
              "      <td>96033</td>\n",
              "      <td>2018</td>\n",
              "      <td>4.556</td>\n",
              "      <td>0.213</td>\n",
              "      <td>0.656</td>\n",
              "      <td>31.0</td>\n",
              "      <td>0.388</td>\n",
              "    </tr>\n",
              "    <tr>\n",
              "      <th>10</th>\n",
              "      <td>2</td>\n",
              "      <td>95017</td>\n",
              "      <td>2018</td>\n",
              "      <td>0.600</td>\n",
              "      <td>0.405</td>\n",
              "      <td>0.677</td>\n",
              "      <td>28.0</td>\n",
              "      <td>0.491</td>\n",
              "    </tr>\n",
              "    <tr>\n",
              "      <th>11</th>\n",
              "      <td>2</td>\n",
              "      <td>95444</td>\n",
              "      <td>2018</td>\n",
              "      <td>1.960</td>\n",
              "      <td>0.344</td>\n",
              "      <td>0.783</td>\n",
              "      <td>19.0</td>\n",
              "      <td>0.420</td>\n",
              "    </tr>\n",
              "    <tr>\n",
              "      <th>12</th>\n",
              "      <td>2</td>\n",
              "      <td>94923</td>\n",
              "      <td>2018</td>\n",
              "      <td>0.435</td>\n",
              "      <td>0.729</td>\n",
              "      <td>0.462</td>\n",
              "      <td>31.0</td>\n",
              "      <td>0.610</td>\n",
              "    </tr>\n",
              "    <tr>\n",
              "      <th>13</th>\n",
              "      <td>2</td>\n",
              "      <td>96048</td>\n",
              "      <td>2018</td>\n",
              "      <td>1.980</td>\n",
              "      <td>0.131</td>\n",
              "      <td>0.681</td>\n",
              "      <td>43.7</td>\n",
              "      <td>0.302</td>\n",
              "    </tr>\n",
              "    <tr>\n",
              "      <th>14</th>\n",
              "      <td>2</td>\n",
              "      <td>93222</td>\n",
              "      <td>2018</td>\n",
              "      <td>0.891</td>\n",
              "      <td>0.225</td>\n",
              "      <td>0.498</td>\n",
              "      <td>22.3</td>\n",
              "      <td>0.334</td>\n",
              "    </tr>\n",
              "    <tr>\n",
              "      <th>15</th>\n",
              "      <td>2</td>\n",
              "      <td>94127</td>\n",
              "      <td>2018</td>\n",
              "      <td>0.142</td>\n",
              "      <td>0.763</td>\n",
              "      <td>0.756</td>\n",
              "      <td>25.0</td>\n",
              "      <td>0.516</td>\n",
              "    </tr>\n",
              "    <tr>\n",
              "      <th>16</th>\n",
              "      <td>2</td>\n",
              "      <td>95008</td>\n",
              "      <td>2018</td>\n",
              "      <td>0.268</td>\n",
              "      <td>0.563</td>\n",
              "      <td>0.621</td>\n",
              "      <td>29.5</td>\n",
              "      <td>0.568</td>\n",
              "    </tr>\n",
              "    <tr>\n",
              "      <th>17</th>\n",
              "      <td>2</td>\n",
              "      <td>92805</td>\n",
              "      <td>2018</td>\n",
              "      <td>0.945</td>\n",
              "      <td>0.175</td>\n",
              "      <td>0.764</td>\n",
              "      <td>34.0</td>\n",
              "      <td>0.491</td>\n",
              "    </tr>\n",
              "    <tr>\n",
              "      <th>18</th>\n",
              "      <td>2</td>\n",
              "      <td>95519</td>\n",
              "      <td>2018</td>\n",
              "      <td>1.436</td>\n",
              "      <td>0.338</td>\n",
              "      <td>0.613</td>\n",
              "      <td>33.3</td>\n",
              "      <td>0.442</td>\n",
              "    </tr>\n",
              "    <tr>\n",
              "      <th>19</th>\n",
              "      <td>2</td>\n",
              "      <td>92313</td>\n",
              "      <td>2018</td>\n",
              "      <td>0.714</td>\n",
              "      <td>0.246</td>\n",
              "      <td>0.712</td>\n",
              "      <td>32.4</td>\n",
              "      <td>0.486</td>\n",
              "    </tr>\n",
              "  </tbody>\n",
              "</table>\n",
              "</div>"
            ],
            "text/plain": [
              "    predicted_label zip_code  ...  F_house_rent  F_employment_rate\n",
              "0                 2    95646  ...          15.5              0.711\n",
              "1                 2    95720  ...           NaN              0.373\n",
              "2                 2    95625  ...          22.6              0.254\n",
              "3                 2    96010  ...          20.0              0.411\n",
              "4                 2    95569  ...           NaN              0.305\n",
              "5                 2    92239  ...           9.0              0.223\n",
              "6                 2    94971  ...          32.5              0.924\n",
              "7                 2    96063  ...          19.2              0.332\n",
              "8                 2    96034  ...          51.0              0.246\n",
              "9                 2    96033  ...          31.0              0.388\n",
              "10                2    95017  ...          28.0              0.491\n",
              "11                2    95444  ...          19.0              0.420\n",
              "12                2    94923  ...          31.0              0.610\n",
              "13                2    96048  ...          43.7              0.302\n",
              "14                2    93222  ...          22.3              0.334\n",
              "15                2    94127  ...          25.0              0.516\n",
              "16                2    95008  ...          29.5              0.568\n",
              "17                2    92805  ...          34.0              0.491\n",
              "18                2    95519  ...          33.3              0.442\n",
              "19                2    92313  ...          32.4              0.486\n",
              "\n",
              "[20 rows x 8 columns]"
            ]
          },
          "execution_count": 87,
          "metadata": {},
          "output_type": "execute_result"
        }
      ],
      "source": [
        "Prediction_model3"
      ]
    },
    {
      "cell_type": "markdown",
      "metadata": {
        "id": "Dg7Lhqi_yDcy"
      },
      "source": [
        "## Conclusion"
      ]
    },
    {
      "cell_type": "markdown",
      "metadata": {
        "id": "YmVpTigjyHMY"
      },
      "source": [
        "---\n",
        "\n",
        "*In conclusion, firstly, we analyzed the overall population change in California from 2011 to 2018, and we found that the total population of California showed a continuous upward trend while the rate of increase was decreasing, the growth rate was largest in 2014 and smallest in 2018.\n",
        "In order to find out factors that have an impact on population change in California, we selected a few representative counties, they are TOP 5 counties with the largest increase in population(Los Angeles, Riverside, San Diego, Alameda and Orange) and TOP 5 counties with the least population growth(Kings, Mendocino, Lake, Nevada and Napa). \n",
        "Among all factors we analyzed, we found that except for race, all other factors including income levels, the median age of the population, the proportion of population with high educational attainment, the percent of income spent on house rent, the employment rate and the family households rate are somehow related to the population change in that area.\n",
        "As a result, we chose these features to build up our own model to predict the future population change in every county in California. We used three different BigQuery ML models: Logistic Regression, Boosted Tree Classifier and Dan Linear Combined Classifier. Among them, the Boosted Tree Classifier Model has the highest precision of 0.494402. \n",
        "If we had more time, we would like to consider more features that may help to build a more accurate model.*\n",
        "\n",
        "---"
      ]
    }
  ],
  "metadata": {
    "colab": {
      "collapsed_sections": [],
      "name": "project3_template_(4).ipynb",
      "provenance": []
    },
    "kernelspec": {
      "display_name": "Python 3",
      "name": "python3"
    }
  },
  "nbformat": 4,
  "nbformat_minor": 0
}
